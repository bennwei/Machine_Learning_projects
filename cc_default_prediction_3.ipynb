{
 "cells": [
  {
   "cell_type": "code",
   "execution_count": 10,
   "metadata": {
    "collapsed": true
   },
   "outputs": [],
   "source": [
    "import pandas as pd"
   ]
  },
  {
   "cell_type": "code",
   "execution_count": 11,
   "metadata": {
    "collapsed": true
   },
   "outputs": [],
   "source": [
    "%matplotlib inline"
   ]
  },
  {
   "cell_type": "code",
   "execution_count": 12,
   "metadata": {
    "collapsed": true
   },
   "outputs": [],
   "source": [
    "df = pd.read_csv(\"UCI_Credit_Card.csv\")"
   ]
  },
  {
   "cell_type": "code",
   "execution_count": 13,
   "metadata": {},
   "outputs": [
    {
     "data": {
      "text/html": [
       "<div>\n",
       "<table border=\"1\" class=\"dataframe\">\n",
       "  <thead>\n",
       "    <tr style=\"text-align: right;\">\n",
       "      <th></th>\n",
       "      <th>ID</th>\n",
       "      <th>LIMIT_BAL</th>\n",
       "      <th>SEX</th>\n",
       "      <th>EDUCATION</th>\n",
       "      <th>MARRIAGE</th>\n",
       "      <th>AGE</th>\n",
       "      <th>PAY_0</th>\n",
       "      <th>PAY_2</th>\n",
       "      <th>PAY_3</th>\n",
       "      <th>PAY_4</th>\n",
       "      <th>...</th>\n",
       "      <th>BILL_AMT4</th>\n",
       "      <th>BILL_AMT5</th>\n",
       "      <th>BILL_AMT6</th>\n",
       "      <th>PAY_AMT1</th>\n",
       "      <th>PAY_AMT2</th>\n",
       "      <th>PAY_AMT3</th>\n",
       "      <th>PAY_AMT4</th>\n",
       "      <th>PAY_AMT5</th>\n",
       "      <th>PAY_AMT6</th>\n",
       "      <th>default.payment.next.month</th>\n",
       "    </tr>\n",
       "  </thead>\n",
       "  <tbody>\n",
       "    <tr>\n",
       "      <th>0</th>\n",
       "      <td>1</td>\n",
       "      <td>20000.0</td>\n",
       "      <td>2</td>\n",
       "      <td>2</td>\n",
       "      <td>1</td>\n",
       "      <td>24</td>\n",
       "      <td>2</td>\n",
       "      <td>2</td>\n",
       "      <td>-1</td>\n",
       "      <td>-1</td>\n",
       "      <td>...</td>\n",
       "      <td>0.0</td>\n",
       "      <td>0.0</td>\n",
       "      <td>0.0</td>\n",
       "      <td>0.0</td>\n",
       "      <td>689.0</td>\n",
       "      <td>0.0</td>\n",
       "      <td>0.0</td>\n",
       "      <td>0.0</td>\n",
       "      <td>0.0</td>\n",
       "      <td>1</td>\n",
       "    </tr>\n",
       "    <tr>\n",
       "      <th>1</th>\n",
       "      <td>2</td>\n",
       "      <td>120000.0</td>\n",
       "      <td>2</td>\n",
       "      <td>2</td>\n",
       "      <td>2</td>\n",
       "      <td>26</td>\n",
       "      <td>-1</td>\n",
       "      <td>2</td>\n",
       "      <td>0</td>\n",
       "      <td>0</td>\n",
       "      <td>...</td>\n",
       "      <td>3272.0</td>\n",
       "      <td>3455.0</td>\n",
       "      <td>3261.0</td>\n",
       "      <td>0.0</td>\n",
       "      <td>1000.0</td>\n",
       "      <td>1000.0</td>\n",
       "      <td>1000.0</td>\n",
       "      <td>0.0</td>\n",
       "      <td>2000.0</td>\n",
       "      <td>1</td>\n",
       "    </tr>\n",
       "    <tr>\n",
       "      <th>2</th>\n",
       "      <td>3</td>\n",
       "      <td>90000.0</td>\n",
       "      <td>2</td>\n",
       "      <td>2</td>\n",
       "      <td>2</td>\n",
       "      <td>34</td>\n",
       "      <td>0</td>\n",
       "      <td>0</td>\n",
       "      <td>0</td>\n",
       "      <td>0</td>\n",
       "      <td>...</td>\n",
       "      <td>14331.0</td>\n",
       "      <td>14948.0</td>\n",
       "      <td>15549.0</td>\n",
       "      <td>1518.0</td>\n",
       "      <td>1500.0</td>\n",
       "      <td>1000.0</td>\n",
       "      <td>1000.0</td>\n",
       "      <td>1000.0</td>\n",
       "      <td>5000.0</td>\n",
       "      <td>0</td>\n",
       "    </tr>\n",
       "    <tr>\n",
       "      <th>3</th>\n",
       "      <td>4</td>\n",
       "      <td>50000.0</td>\n",
       "      <td>2</td>\n",
       "      <td>2</td>\n",
       "      <td>1</td>\n",
       "      <td>37</td>\n",
       "      <td>0</td>\n",
       "      <td>0</td>\n",
       "      <td>0</td>\n",
       "      <td>0</td>\n",
       "      <td>...</td>\n",
       "      <td>28314.0</td>\n",
       "      <td>28959.0</td>\n",
       "      <td>29547.0</td>\n",
       "      <td>2000.0</td>\n",
       "      <td>2019.0</td>\n",
       "      <td>1200.0</td>\n",
       "      <td>1100.0</td>\n",
       "      <td>1069.0</td>\n",
       "      <td>1000.0</td>\n",
       "      <td>0</td>\n",
       "    </tr>\n",
       "    <tr>\n",
       "      <th>4</th>\n",
       "      <td>5</td>\n",
       "      <td>50000.0</td>\n",
       "      <td>1</td>\n",
       "      <td>2</td>\n",
       "      <td>1</td>\n",
       "      <td>57</td>\n",
       "      <td>-1</td>\n",
       "      <td>0</td>\n",
       "      <td>-1</td>\n",
       "      <td>0</td>\n",
       "      <td>...</td>\n",
       "      <td>20940.0</td>\n",
       "      <td>19146.0</td>\n",
       "      <td>19131.0</td>\n",
       "      <td>2000.0</td>\n",
       "      <td>36681.0</td>\n",
       "      <td>10000.0</td>\n",
       "      <td>9000.0</td>\n",
       "      <td>689.0</td>\n",
       "      <td>679.0</td>\n",
       "      <td>0</td>\n",
       "    </tr>\n",
       "    <tr>\n",
       "      <th>5</th>\n",
       "      <td>6</td>\n",
       "      <td>50000.0</td>\n",
       "      <td>1</td>\n",
       "      <td>1</td>\n",
       "      <td>2</td>\n",
       "      <td>37</td>\n",
       "      <td>0</td>\n",
       "      <td>0</td>\n",
       "      <td>0</td>\n",
       "      <td>0</td>\n",
       "      <td>...</td>\n",
       "      <td>19394.0</td>\n",
       "      <td>19619.0</td>\n",
       "      <td>20024.0</td>\n",
       "      <td>2500.0</td>\n",
       "      <td>1815.0</td>\n",
       "      <td>657.0</td>\n",
       "      <td>1000.0</td>\n",
       "      <td>1000.0</td>\n",
       "      <td>800.0</td>\n",
       "      <td>0</td>\n",
       "    </tr>\n",
       "    <tr>\n",
       "      <th>6</th>\n",
       "      <td>7</td>\n",
       "      <td>500000.0</td>\n",
       "      <td>1</td>\n",
       "      <td>1</td>\n",
       "      <td>2</td>\n",
       "      <td>29</td>\n",
       "      <td>0</td>\n",
       "      <td>0</td>\n",
       "      <td>0</td>\n",
       "      <td>0</td>\n",
       "      <td>...</td>\n",
       "      <td>542653.0</td>\n",
       "      <td>483003.0</td>\n",
       "      <td>473944.0</td>\n",
       "      <td>55000.0</td>\n",
       "      <td>40000.0</td>\n",
       "      <td>38000.0</td>\n",
       "      <td>20239.0</td>\n",
       "      <td>13750.0</td>\n",
       "      <td>13770.0</td>\n",
       "      <td>0</td>\n",
       "    </tr>\n",
       "    <tr>\n",
       "      <th>7</th>\n",
       "      <td>8</td>\n",
       "      <td>100000.0</td>\n",
       "      <td>2</td>\n",
       "      <td>2</td>\n",
       "      <td>2</td>\n",
       "      <td>23</td>\n",
       "      <td>0</td>\n",
       "      <td>-1</td>\n",
       "      <td>-1</td>\n",
       "      <td>0</td>\n",
       "      <td>...</td>\n",
       "      <td>221.0</td>\n",
       "      <td>-159.0</td>\n",
       "      <td>567.0</td>\n",
       "      <td>380.0</td>\n",
       "      <td>601.0</td>\n",
       "      <td>0.0</td>\n",
       "      <td>581.0</td>\n",
       "      <td>1687.0</td>\n",
       "      <td>1542.0</td>\n",
       "      <td>0</td>\n",
       "    </tr>\n",
       "    <tr>\n",
       "      <th>8</th>\n",
       "      <td>9</td>\n",
       "      <td>140000.0</td>\n",
       "      <td>2</td>\n",
       "      <td>3</td>\n",
       "      <td>1</td>\n",
       "      <td>28</td>\n",
       "      <td>0</td>\n",
       "      <td>0</td>\n",
       "      <td>2</td>\n",
       "      <td>0</td>\n",
       "      <td>...</td>\n",
       "      <td>12211.0</td>\n",
       "      <td>11793.0</td>\n",
       "      <td>3719.0</td>\n",
       "      <td>3329.0</td>\n",
       "      <td>0.0</td>\n",
       "      <td>432.0</td>\n",
       "      <td>1000.0</td>\n",
       "      <td>1000.0</td>\n",
       "      <td>1000.0</td>\n",
       "      <td>0</td>\n",
       "    </tr>\n",
       "    <tr>\n",
       "      <th>9</th>\n",
       "      <td>10</td>\n",
       "      <td>20000.0</td>\n",
       "      <td>1</td>\n",
       "      <td>3</td>\n",
       "      <td>2</td>\n",
       "      <td>35</td>\n",
       "      <td>-2</td>\n",
       "      <td>-2</td>\n",
       "      <td>-2</td>\n",
       "      <td>-2</td>\n",
       "      <td>...</td>\n",
       "      <td>0.0</td>\n",
       "      <td>13007.0</td>\n",
       "      <td>13912.0</td>\n",
       "      <td>0.0</td>\n",
       "      <td>0.0</td>\n",
       "      <td>0.0</td>\n",
       "      <td>13007.0</td>\n",
       "      <td>1122.0</td>\n",
       "      <td>0.0</td>\n",
       "      <td>0</td>\n",
       "    </tr>\n",
       "  </tbody>\n",
       "</table>\n",
       "<p>10 rows × 25 columns</p>\n",
       "</div>"
      ],
      "text/plain": [
       "   ID  LIMIT_BAL  SEX  EDUCATION  MARRIAGE  AGE  PAY_0  PAY_2  PAY_3  PAY_4  \\\n",
       "0   1    20000.0    2          2         1   24      2      2     -1     -1   \n",
       "1   2   120000.0    2          2         2   26     -1      2      0      0   \n",
       "2   3    90000.0    2          2         2   34      0      0      0      0   \n",
       "3   4    50000.0    2          2         1   37      0      0      0      0   \n",
       "4   5    50000.0    1          2         1   57     -1      0     -1      0   \n",
       "5   6    50000.0    1          1         2   37      0      0      0      0   \n",
       "6   7   500000.0    1          1         2   29      0      0      0      0   \n",
       "7   8   100000.0    2          2         2   23      0     -1     -1      0   \n",
       "8   9   140000.0    2          3         1   28      0      0      2      0   \n",
       "9  10    20000.0    1          3         2   35     -2     -2     -2     -2   \n",
       "\n",
       "              ...              BILL_AMT4  BILL_AMT5  BILL_AMT6  PAY_AMT1  \\\n",
       "0             ...                    0.0        0.0        0.0       0.0   \n",
       "1             ...                 3272.0     3455.0     3261.0       0.0   \n",
       "2             ...                14331.0    14948.0    15549.0    1518.0   \n",
       "3             ...                28314.0    28959.0    29547.0    2000.0   \n",
       "4             ...                20940.0    19146.0    19131.0    2000.0   \n",
       "5             ...                19394.0    19619.0    20024.0    2500.0   \n",
       "6             ...               542653.0   483003.0   473944.0   55000.0   \n",
       "7             ...                  221.0     -159.0      567.0     380.0   \n",
       "8             ...                12211.0    11793.0     3719.0    3329.0   \n",
       "9             ...                    0.0    13007.0    13912.0       0.0   \n",
       "\n",
       "   PAY_AMT2  PAY_AMT3  PAY_AMT4  PAY_AMT5  PAY_AMT6  \\\n",
       "0     689.0       0.0       0.0       0.0       0.0   \n",
       "1    1000.0    1000.0    1000.0       0.0    2000.0   \n",
       "2    1500.0    1000.0    1000.0    1000.0    5000.0   \n",
       "3    2019.0    1200.0    1100.0    1069.0    1000.0   \n",
       "4   36681.0   10000.0    9000.0     689.0     679.0   \n",
       "5    1815.0     657.0    1000.0    1000.0     800.0   \n",
       "6   40000.0   38000.0   20239.0   13750.0   13770.0   \n",
       "7     601.0       0.0     581.0    1687.0    1542.0   \n",
       "8       0.0     432.0    1000.0    1000.0    1000.0   \n",
       "9       0.0       0.0   13007.0    1122.0       0.0   \n",
       "\n",
       "   default.payment.next.month  \n",
       "0                           1  \n",
       "1                           1  \n",
       "2                           0  \n",
       "3                           0  \n",
       "4                           0  \n",
       "5                           0  \n",
       "6                           0  \n",
       "7                           0  \n",
       "8                           0  \n",
       "9                           0  \n",
       "\n",
       "[10 rows x 25 columns]"
      ]
     },
     "execution_count": 13,
     "metadata": {},
     "output_type": "execute_result"
    }
   ],
   "source": [
    "df.head(10)"
   ]
  },
  {
   "cell_type": "raw",
   "metadata": {},
   "source": [
    "- Convert column name to lower case and drop 'ID' column"
   ]
  },
  {
   "cell_type": "code",
   "execution_count": 14,
   "metadata": {},
   "outputs": [
    {
     "data": {
      "text/plain": [
       "Index(['limit_bal', 'sex', 'education', 'marriage', 'age', 'pay_0', 'pay_2',\n",
       "       'pay_3', 'pay_4', 'pay_5', 'pay_6', 'bill_amt1', 'bill_amt2',\n",
       "       'bill_amt3', 'bill_amt4', 'bill_amt5', 'bill_amt6', 'pay_amt1',\n",
       "       'pay_amt2', 'pay_amt3', 'pay_amt4', 'pay_amt5', 'pay_amt6',\n",
       "       'default.payment.next.month'],\n",
       "      dtype='object')"
      ]
     },
     "execution_count": 14,
     "metadata": {},
     "output_type": "execute_result"
    }
   ],
   "source": [
    "df.columns = [x.lower() for x in df.columns]\n",
    "df = df.drop('id', axis=1)\n",
    "df.columns"
   ]
  },
  {
   "cell_type": "code",
   "execution_count": 15,
   "metadata": {
    "collapsed": true
   },
   "outputs": [],
   "source": [
    "from sklearn.model_selection import train_test_split, cross_val_score\n",
    "# randomly partition this dataset into a separate test and training dataset is to use the train_\n",
    "# test_split function from scikit-learn's module\n",
    "X = df.drop('default.payment.next.month', axis=1)\n",
    "# X1 = df.drop('default.payment.next.month', axis=1).values\n",
    "\n",
    "# # rescale the data to the same mean and standard deviation\n",
    "# from sklearn import preprocessing, metrics\n",
    "# scaler = preprocessing.StandardScaler()\n",
    "# X = scaler.fit(X).transform(X)\n",
    "\n",
    "y = df['default.payment.next.month']\n",
    "X_train, X_test, y_train, y_test = train_test_split(X, y, test_size=0.2, random_state=0)"
   ]
  },
  {
   "cell_type": "code",
   "execution_count": 16,
   "metadata": {},
   "outputs": [
    {
     "data": {
      "text/plain": [
       "0    1\n",
       "1    1\n",
       "2    0\n",
       "3    0\n",
       "4    0\n",
       "5    0\n",
       "6    0\n",
       "7    0\n",
       "8    0\n",
       "9    0\n",
       "Name: default.payment.next.month, dtype: int64"
      ]
     },
     "execution_count": 16,
     "metadata": {},
     "output_type": "execute_result"
    }
   ],
   "source": [
    "y.head(10)"
   ]
  },
  {
   "cell_type": "code",
   "execution_count": 17,
   "metadata": {},
   "outputs": [
    {
     "data": {
      "text/html": [
       "<div>\n",
       "<table border=\"1\" class=\"dataframe\">\n",
       "  <thead>\n",
       "    <tr style=\"text-align: right;\">\n",
       "      <th></th>\n",
       "      <th>limit_bal</th>\n",
       "      <th>sex</th>\n",
       "      <th>education</th>\n",
       "      <th>marriage</th>\n",
       "      <th>age</th>\n",
       "      <th>pay_0</th>\n",
       "      <th>pay_2</th>\n",
       "      <th>pay_3</th>\n",
       "      <th>pay_4</th>\n",
       "      <th>pay_5</th>\n",
       "      <th>...</th>\n",
       "      <th>bill_amt3</th>\n",
       "      <th>bill_amt4</th>\n",
       "      <th>bill_amt5</th>\n",
       "      <th>bill_amt6</th>\n",
       "      <th>pay_amt1</th>\n",
       "      <th>pay_amt2</th>\n",
       "      <th>pay_amt3</th>\n",
       "      <th>pay_amt4</th>\n",
       "      <th>pay_amt5</th>\n",
       "      <th>pay_amt6</th>\n",
       "    </tr>\n",
       "  </thead>\n",
       "  <tbody>\n",
       "    <tr>\n",
       "      <th>0</th>\n",
       "      <td>20000.0</td>\n",
       "      <td>2</td>\n",
       "      <td>2</td>\n",
       "      <td>1</td>\n",
       "      <td>24</td>\n",
       "      <td>2</td>\n",
       "      <td>2</td>\n",
       "      <td>-1</td>\n",
       "      <td>-1</td>\n",
       "      <td>-2</td>\n",
       "      <td>...</td>\n",
       "      <td>689.0</td>\n",
       "      <td>0.0</td>\n",
       "      <td>0.0</td>\n",
       "      <td>0.0</td>\n",
       "      <td>0.0</td>\n",
       "      <td>689.0</td>\n",
       "      <td>0.0</td>\n",
       "      <td>0.0</td>\n",
       "      <td>0.0</td>\n",
       "      <td>0.0</td>\n",
       "    </tr>\n",
       "    <tr>\n",
       "      <th>1</th>\n",
       "      <td>120000.0</td>\n",
       "      <td>2</td>\n",
       "      <td>2</td>\n",
       "      <td>2</td>\n",
       "      <td>26</td>\n",
       "      <td>-1</td>\n",
       "      <td>2</td>\n",
       "      <td>0</td>\n",
       "      <td>0</td>\n",
       "      <td>0</td>\n",
       "      <td>...</td>\n",
       "      <td>2682.0</td>\n",
       "      <td>3272.0</td>\n",
       "      <td>3455.0</td>\n",
       "      <td>3261.0</td>\n",
       "      <td>0.0</td>\n",
       "      <td>1000.0</td>\n",
       "      <td>1000.0</td>\n",
       "      <td>1000.0</td>\n",
       "      <td>0.0</td>\n",
       "      <td>2000.0</td>\n",
       "    </tr>\n",
       "    <tr>\n",
       "      <th>2</th>\n",
       "      <td>90000.0</td>\n",
       "      <td>2</td>\n",
       "      <td>2</td>\n",
       "      <td>2</td>\n",
       "      <td>34</td>\n",
       "      <td>0</td>\n",
       "      <td>0</td>\n",
       "      <td>0</td>\n",
       "      <td>0</td>\n",
       "      <td>0</td>\n",
       "      <td>...</td>\n",
       "      <td>13559.0</td>\n",
       "      <td>14331.0</td>\n",
       "      <td>14948.0</td>\n",
       "      <td>15549.0</td>\n",
       "      <td>1518.0</td>\n",
       "      <td>1500.0</td>\n",
       "      <td>1000.0</td>\n",
       "      <td>1000.0</td>\n",
       "      <td>1000.0</td>\n",
       "      <td>5000.0</td>\n",
       "    </tr>\n",
       "    <tr>\n",
       "      <th>3</th>\n",
       "      <td>50000.0</td>\n",
       "      <td>2</td>\n",
       "      <td>2</td>\n",
       "      <td>1</td>\n",
       "      <td>37</td>\n",
       "      <td>0</td>\n",
       "      <td>0</td>\n",
       "      <td>0</td>\n",
       "      <td>0</td>\n",
       "      <td>0</td>\n",
       "      <td>...</td>\n",
       "      <td>49291.0</td>\n",
       "      <td>28314.0</td>\n",
       "      <td>28959.0</td>\n",
       "      <td>29547.0</td>\n",
       "      <td>2000.0</td>\n",
       "      <td>2019.0</td>\n",
       "      <td>1200.0</td>\n",
       "      <td>1100.0</td>\n",
       "      <td>1069.0</td>\n",
       "      <td>1000.0</td>\n",
       "    </tr>\n",
       "    <tr>\n",
       "      <th>4</th>\n",
       "      <td>50000.0</td>\n",
       "      <td>1</td>\n",
       "      <td>2</td>\n",
       "      <td>1</td>\n",
       "      <td>57</td>\n",
       "      <td>-1</td>\n",
       "      <td>0</td>\n",
       "      <td>-1</td>\n",
       "      <td>0</td>\n",
       "      <td>0</td>\n",
       "      <td>...</td>\n",
       "      <td>35835.0</td>\n",
       "      <td>20940.0</td>\n",
       "      <td>19146.0</td>\n",
       "      <td>19131.0</td>\n",
       "      <td>2000.0</td>\n",
       "      <td>36681.0</td>\n",
       "      <td>10000.0</td>\n",
       "      <td>9000.0</td>\n",
       "      <td>689.0</td>\n",
       "      <td>679.0</td>\n",
       "    </tr>\n",
       "    <tr>\n",
       "      <th>5</th>\n",
       "      <td>50000.0</td>\n",
       "      <td>1</td>\n",
       "      <td>1</td>\n",
       "      <td>2</td>\n",
       "      <td>37</td>\n",
       "      <td>0</td>\n",
       "      <td>0</td>\n",
       "      <td>0</td>\n",
       "      <td>0</td>\n",
       "      <td>0</td>\n",
       "      <td>...</td>\n",
       "      <td>57608.0</td>\n",
       "      <td>19394.0</td>\n",
       "      <td>19619.0</td>\n",
       "      <td>20024.0</td>\n",
       "      <td>2500.0</td>\n",
       "      <td>1815.0</td>\n",
       "      <td>657.0</td>\n",
       "      <td>1000.0</td>\n",
       "      <td>1000.0</td>\n",
       "      <td>800.0</td>\n",
       "    </tr>\n",
       "    <tr>\n",
       "      <th>6</th>\n",
       "      <td>500000.0</td>\n",
       "      <td>1</td>\n",
       "      <td>1</td>\n",
       "      <td>2</td>\n",
       "      <td>29</td>\n",
       "      <td>0</td>\n",
       "      <td>0</td>\n",
       "      <td>0</td>\n",
       "      <td>0</td>\n",
       "      <td>0</td>\n",
       "      <td>...</td>\n",
       "      <td>445007.0</td>\n",
       "      <td>542653.0</td>\n",
       "      <td>483003.0</td>\n",
       "      <td>473944.0</td>\n",
       "      <td>55000.0</td>\n",
       "      <td>40000.0</td>\n",
       "      <td>38000.0</td>\n",
       "      <td>20239.0</td>\n",
       "      <td>13750.0</td>\n",
       "      <td>13770.0</td>\n",
       "    </tr>\n",
       "    <tr>\n",
       "      <th>7</th>\n",
       "      <td>100000.0</td>\n",
       "      <td>2</td>\n",
       "      <td>2</td>\n",
       "      <td>2</td>\n",
       "      <td>23</td>\n",
       "      <td>0</td>\n",
       "      <td>-1</td>\n",
       "      <td>-1</td>\n",
       "      <td>0</td>\n",
       "      <td>0</td>\n",
       "      <td>...</td>\n",
       "      <td>601.0</td>\n",
       "      <td>221.0</td>\n",
       "      <td>-159.0</td>\n",
       "      <td>567.0</td>\n",
       "      <td>380.0</td>\n",
       "      <td>601.0</td>\n",
       "      <td>0.0</td>\n",
       "      <td>581.0</td>\n",
       "      <td>1687.0</td>\n",
       "      <td>1542.0</td>\n",
       "    </tr>\n",
       "    <tr>\n",
       "      <th>8</th>\n",
       "      <td>140000.0</td>\n",
       "      <td>2</td>\n",
       "      <td>3</td>\n",
       "      <td>1</td>\n",
       "      <td>28</td>\n",
       "      <td>0</td>\n",
       "      <td>0</td>\n",
       "      <td>2</td>\n",
       "      <td>0</td>\n",
       "      <td>0</td>\n",
       "      <td>...</td>\n",
       "      <td>12108.0</td>\n",
       "      <td>12211.0</td>\n",
       "      <td>11793.0</td>\n",
       "      <td>3719.0</td>\n",
       "      <td>3329.0</td>\n",
       "      <td>0.0</td>\n",
       "      <td>432.0</td>\n",
       "      <td>1000.0</td>\n",
       "      <td>1000.0</td>\n",
       "      <td>1000.0</td>\n",
       "    </tr>\n",
       "    <tr>\n",
       "      <th>9</th>\n",
       "      <td>20000.0</td>\n",
       "      <td>1</td>\n",
       "      <td>3</td>\n",
       "      <td>2</td>\n",
       "      <td>35</td>\n",
       "      <td>-2</td>\n",
       "      <td>-2</td>\n",
       "      <td>-2</td>\n",
       "      <td>-2</td>\n",
       "      <td>-1</td>\n",
       "      <td>...</td>\n",
       "      <td>0.0</td>\n",
       "      <td>0.0</td>\n",
       "      <td>13007.0</td>\n",
       "      <td>13912.0</td>\n",
       "      <td>0.0</td>\n",
       "      <td>0.0</td>\n",
       "      <td>0.0</td>\n",
       "      <td>13007.0</td>\n",
       "      <td>1122.0</td>\n",
       "      <td>0.0</td>\n",
       "    </tr>\n",
       "  </tbody>\n",
       "</table>\n",
       "<p>10 rows × 23 columns</p>\n",
       "</div>"
      ],
      "text/plain": [
       "   limit_bal  sex  education  marriage  age  pay_0  pay_2  pay_3  pay_4  \\\n",
       "0    20000.0    2          2         1   24      2      2     -1     -1   \n",
       "1   120000.0    2          2         2   26     -1      2      0      0   \n",
       "2    90000.0    2          2         2   34      0      0      0      0   \n",
       "3    50000.0    2          2         1   37      0      0      0      0   \n",
       "4    50000.0    1          2         1   57     -1      0     -1      0   \n",
       "5    50000.0    1          1         2   37      0      0      0      0   \n",
       "6   500000.0    1          1         2   29      0      0      0      0   \n",
       "7   100000.0    2          2         2   23      0     -1     -1      0   \n",
       "8   140000.0    2          3         1   28      0      0      2      0   \n",
       "9    20000.0    1          3         2   35     -2     -2     -2     -2   \n",
       "\n",
       "   pay_5    ...     bill_amt3  bill_amt4  bill_amt5  bill_amt6  pay_amt1  \\\n",
       "0     -2    ...         689.0        0.0        0.0        0.0       0.0   \n",
       "1      0    ...        2682.0     3272.0     3455.0     3261.0       0.0   \n",
       "2      0    ...       13559.0    14331.0    14948.0    15549.0    1518.0   \n",
       "3      0    ...       49291.0    28314.0    28959.0    29547.0    2000.0   \n",
       "4      0    ...       35835.0    20940.0    19146.0    19131.0    2000.0   \n",
       "5      0    ...       57608.0    19394.0    19619.0    20024.0    2500.0   \n",
       "6      0    ...      445007.0   542653.0   483003.0   473944.0   55000.0   \n",
       "7      0    ...         601.0      221.0     -159.0      567.0     380.0   \n",
       "8      0    ...       12108.0    12211.0    11793.0     3719.0    3329.0   \n",
       "9     -1    ...           0.0        0.0    13007.0    13912.0       0.0   \n",
       "\n",
       "   pay_amt2  pay_amt3  pay_amt4  pay_amt5  pay_amt6  \n",
       "0     689.0       0.0       0.0       0.0       0.0  \n",
       "1    1000.0    1000.0    1000.0       0.0    2000.0  \n",
       "2    1500.0    1000.0    1000.0    1000.0    5000.0  \n",
       "3    2019.0    1200.0    1100.0    1069.0    1000.0  \n",
       "4   36681.0   10000.0    9000.0     689.0     679.0  \n",
       "5    1815.0     657.0    1000.0    1000.0     800.0  \n",
       "6   40000.0   38000.0   20239.0   13750.0   13770.0  \n",
       "7     601.0       0.0     581.0    1687.0    1542.0  \n",
       "8       0.0     432.0    1000.0    1000.0    1000.0  \n",
       "9       0.0       0.0   13007.0    1122.0       0.0  \n",
       "\n",
       "[10 rows x 23 columns]"
      ]
     },
     "execution_count": 17,
     "metadata": {},
     "output_type": "execute_result"
    }
   ],
   "source": [
    "X.head(10)"
   ]
  },
  {
   "cell_type": "code",
   "execution_count": 18,
   "metadata": {},
   "outputs": [
    {
     "data": {
      "text/plain": [
       "((24000, 23), (6000, 23), (24000,), (6000,))"
      ]
     },
     "execution_count": 18,
     "metadata": {},
     "output_type": "execute_result"
    }
   ],
   "source": [
    "X_train.shape, X_test.shape, y_train.shape, y_test.shape"
   ]
  },
  {
   "cell_type": "code",
   "execution_count": 19,
   "metadata": {},
   "outputs": [
    {
     "ename": "KeyboardInterrupt",
     "evalue": "",
     "output_type": "error",
     "traceback": [
      "\u001b[1;31m---------------------------------------------------------------------------\u001b[0m",
      "\u001b[1;31mKeyboardInterrupt\u001b[0m                         Traceback (most recent call last)",
      "\u001b[1;32m<ipython-input-19-dab227a81156>\u001b[0m in \u001b[0;36m<module>\u001b[1;34m()\u001b[0m\n\u001b[0;32m     11\u001b[0m \u001b[1;33m\u001b[0m\u001b[0m\n\u001b[0;32m     12\u001b[0m \u001b[1;31m# Using stratified k-fold cross-validation to assess base model performance\u001b[0m\u001b[1;33m\u001b[0m\u001b[1;33m\u001b[0m\u001b[0m\n\u001b[1;32m---> 13\u001b[1;33m \u001b[0mscores\u001b[0m \u001b[1;33m=\u001b[0m \u001b[0mcross_val_score\u001b[0m\u001b[1;33m(\u001b[0m\u001b[0mestimator\u001b[0m\u001b[1;33m=\u001b[0m\u001b[0mpipe_dt_1\u001b[0m\u001b[1;33m,\u001b[0m \u001b[0mX\u001b[0m\u001b[1;33m=\u001b[0m\u001b[0mX_train\u001b[0m\u001b[1;33m,\u001b[0m \u001b[0my\u001b[0m\u001b[1;33m=\u001b[0m\u001b[0my_train\u001b[0m\u001b[1;33m,\u001b[0m \u001b[0mcv\u001b[0m\u001b[1;33m=\u001b[0m\u001b[1;36m10\u001b[0m\u001b[1;33m,\u001b[0m \u001b[0mn_jobs\u001b[0m\u001b[1;33m=\u001b[0m\u001b[1;36m1\u001b[0m\u001b[1;33m)\u001b[0m\u001b[1;33m\u001b[0m\u001b[0m\n\u001b[0m\u001b[0;32m     14\u001b[0m \u001b[0mprint\u001b[0m\u001b[1;33m(\u001b[0m\u001b[1;34m'pipe_dt_1 Cross_validation accuracy scores: %s'\u001b[0m \u001b[1;33m%\u001b[0m \u001b[1;33m(\u001b[0m\u001b[0mscores\u001b[0m\u001b[1;33m)\u001b[0m\u001b[1;33m)\u001b[0m\u001b[1;33m\u001b[0m\u001b[0m\n\u001b[0;32m     15\u001b[0m \u001b[0mprint\u001b[0m\u001b[1;33m(\u001b[0m\u001b[1;34m'pipe_dt_1 Cross_validation accuracy: %.3f +/- %.3f'\u001b[0m \u001b[1;33m%\u001b[0m \u001b[1;33m(\u001b[0m\u001b[0mnp\u001b[0m\u001b[1;33m.\u001b[0m\u001b[0mmean\u001b[0m\u001b[1;33m(\u001b[0m\u001b[0mscores\u001b[0m\u001b[1;33m)\u001b[0m\u001b[1;33m,\u001b[0m \u001b[0mnp\u001b[0m\u001b[1;33m.\u001b[0m\u001b[0mstd\u001b[0m\u001b[1;33m(\u001b[0m\u001b[0mscores\u001b[0m\u001b[1;33m)\u001b[0m\u001b[1;33m)\u001b[0m\u001b[1;33m)\u001b[0m\u001b[1;33m\u001b[0m\u001b[0m\n",
      "\u001b[1;32mC:\\Users\\Eric Liao\\Anaconda3\\lib\\site-packages\\sklearn\\model_selection\\_validation.py\u001b[0m in \u001b[0;36mcross_val_score\u001b[1;34m(estimator, X, y, groups, scoring, cv, n_jobs, verbose, fit_params, pre_dispatch)\u001b[0m\n\u001b[0;32m    129\u001b[0m \u001b[1;33m\u001b[0m\u001b[0m\n\u001b[0;32m    130\u001b[0m     \u001b[0mcv\u001b[0m \u001b[1;33m=\u001b[0m \u001b[0mcheck_cv\u001b[0m\u001b[1;33m(\u001b[0m\u001b[0mcv\u001b[0m\u001b[1;33m,\u001b[0m \u001b[0my\u001b[0m\u001b[1;33m,\u001b[0m \u001b[0mclassifier\u001b[0m\u001b[1;33m=\u001b[0m\u001b[0mis_classifier\u001b[0m\u001b[1;33m(\u001b[0m\u001b[0mestimator\u001b[0m\u001b[1;33m)\u001b[0m\u001b[1;33m)\u001b[0m\u001b[1;33m\u001b[0m\u001b[0m\n\u001b[1;32m--> 131\u001b[1;33m     \u001b[0mcv_iter\u001b[0m \u001b[1;33m=\u001b[0m \u001b[0mlist\u001b[0m\u001b[1;33m(\u001b[0m\u001b[0mcv\u001b[0m\u001b[1;33m.\u001b[0m\u001b[0msplit\u001b[0m\u001b[1;33m(\u001b[0m\u001b[0mX\u001b[0m\u001b[1;33m,\u001b[0m \u001b[0my\u001b[0m\u001b[1;33m,\u001b[0m \u001b[0mgroups\u001b[0m\u001b[1;33m)\u001b[0m\u001b[1;33m)\u001b[0m\u001b[1;33m\u001b[0m\u001b[0m\n\u001b[0m\u001b[0;32m    132\u001b[0m     \u001b[0mscorer\u001b[0m \u001b[1;33m=\u001b[0m \u001b[0mcheck_scoring\u001b[0m\u001b[1;33m(\u001b[0m\u001b[0mestimator\u001b[0m\u001b[1;33m,\u001b[0m \u001b[0mscoring\u001b[0m\u001b[1;33m=\u001b[0m\u001b[0mscoring\u001b[0m\u001b[1;33m)\u001b[0m\u001b[1;33m\u001b[0m\u001b[0m\n\u001b[0;32m    133\u001b[0m     \u001b[1;31m# We clone the estimator to make sure that all the folds are\u001b[0m\u001b[1;33m\u001b[0m\u001b[1;33m\u001b[0m\u001b[0m\n",
      "\u001b[1;32mC:\\Users\\Eric Liao\\Anaconda3\\lib\\site-packages\\sklearn\\model_selection\\_split.py\u001b[0m in \u001b[0;36msplit\u001b[1;34m(self, X, y, groups)\u001b[0m\n\u001b[0;32m    320\u001b[0m                                                              n_samples))\n\u001b[0;32m    321\u001b[0m \u001b[1;33m\u001b[0m\u001b[0m\n\u001b[1;32m--> 322\u001b[1;33m         \u001b[1;32mfor\u001b[0m \u001b[0mtrain\u001b[0m\u001b[1;33m,\u001b[0m \u001b[0mtest\u001b[0m \u001b[1;32min\u001b[0m \u001b[0msuper\u001b[0m\u001b[1;33m(\u001b[0m\u001b[0m_BaseKFold\u001b[0m\u001b[1;33m,\u001b[0m \u001b[0mself\u001b[0m\u001b[1;33m)\u001b[0m\u001b[1;33m.\u001b[0m\u001b[0msplit\u001b[0m\u001b[1;33m(\u001b[0m\u001b[0mX\u001b[0m\u001b[1;33m,\u001b[0m \u001b[0my\u001b[0m\u001b[1;33m,\u001b[0m \u001b[0mgroups\u001b[0m\u001b[1;33m)\u001b[0m\u001b[1;33m:\u001b[0m\u001b[1;33m\u001b[0m\u001b[0m\n\u001b[0m\u001b[0;32m    323\u001b[0m             \u001b[1;32myield\u001b[0m \u001b[0mtrain\u001b[0m\u001b[1;33m,\u001b[0m \u001b[0mtest\u001b[0m\u001b[1;33m\u001b[0m\u001b[0m\n\u001b[0;32m    324\u001b[0m \u001b[1;33m\u001b[0m\u001b[0m\n",
      "\u001b[1;32mC:\\Users\\Eric Liao\\Anaconda3\\lib\\site-packages\\sklearn\\model_selection\\_split.py\u001b[0m in \u001b[0;36msplit\u001b[1;34m(self, X, y, groups)\u001b[0m\n\u001b[0;32m     89\u001b[0m         \u001b[0mX\u001b[0m\u001b[1;33m,\u001b[0m \u001b[0my\u001b[0m\u001b[1;33m,\u001b[0m \u001b[0mgroups\u001b[0m \u001b[1;33m=\u001b[0m \u001b[0mindexable\u001b[0m\u001b[1;33m(\u001b[0m\u001b[0mX\u001b[0m\u001b[1;33m,\u001b[0m \u001b[0my\u001b[0m\u001b[1;33m,\u001b[0m \u001b[0mgroups\u001b[0m\u001b[1;33m)\u001b[0m\u001b[1;33m\u001b[0m\u001b[0m\n\u001b[0;32m     90\u001b[0m         \u001b[0mindices\u001b[0m \u001b[1;33m=\u001b[0m \u001b[0mnp\u001b[0m\u001b[1;33m.\u001b[0m\u001b[0marange\u001b[0m\u001b[1;33m(\u001b[0m\u001b[0m_num_samples\u001b[0m\u001b[1;33m(\u001b[0m\u001b[0mX\u001b[0m\u001b[1;33m)\u001b[0m\u001b[1;33m)\u001b[0m\u001b[1;33m\u001b[0m\u001b[0m\n\u001b[1;32m---> 91\u001b[1;33m         \u001b[1;32mfor\u001b[0m \u001b[0mtest_index\u001b[0m \u001b[1;32min\u001b[0m \u001b[0mself\u001b[0m\u001b[1;33m.\u001b[0m\u001b[0m_iter_test_masks\u001b[0m\u001b[1;33m(\u001b[0m\u001b[0mX\u001b[0m\u001b[1;33m,\u001b[0m \u001b[0my\u001b[0m\u001b[1;33m,\u001b[0m \u001b[0mgroups\u001b[0m\u001b[1;33m)\u001b[0m\u001b[1;33m:\u001b[0m\u001b[1;33m\u001b[0m\u001b[0m\n\u001b[0m\u001b[0;32m     92\u001b[0m             \u001b[0mtrain_index\u001b[0m \u001b[1;33m=\u001b[0m \u001b[0mindices\u001b[0m\u001b[1;33m[\u001b[0m\u001b[0mnp\u001b[0m\u001b[1;33m.\u001b[0m\u001b[0mlogical_not\u001b[0m\u001b[1;33m(\u001b[0m\u001b[0mtest_index\u001b[0m\u001b[1;33m)\u001b[0m\u001b[1;33m]\u001b[0m\u001b[1;33m\u001b[0m\u001b[0m\n\u001b[0;32m     93\u001b[0m             \u001b[0mtest_index\u001b[0m \u001b[1;33m=\u001b[0m \u001b[0mindices\u001b[0m\u001b[1;33m[\u001b[0m\u001b[0mtest_index\u001b[0m\u001b[1;33m]\u001b[0m\u001b[1;33m\u001b[0m\u001b[0m\n",
      "\u001b[1;32mC:\\Users\\Eric Liao\\Anaconda3\\lib\\site-packages\\sklearn\\model_selection\\_split.py\u001b[0m in \u001b[0;36m_iter_test_masks\u001b[1;34m(self, X, y, groups)\u001b[0m\n\u001b[0;32m    608\u001b[0m \u001b[1;33m\u001b[0m\u001b[0m\n\u001b[0;32m    609\u001b[0m     \u001b[1;32mdef\u001b[0m \u001b[0m_iter_test_masks\u001b[0m\u001b[1;33m(\u001b[0m\u001b[0mself\u001b[0m\u001b[1;33m,\u001b[0m \u001b[0mX\u001b[0m\u001b[1;33m,\u001b[0m \u001b[0my\u001b[0m\u001b[1;33m=\u001b[0m\u001b[1;32mNone\u001b[0m\u001b[1;33m,\u001b[0m \u001b[0mgroups\u001b[0m\u001b[1;33m=\u001b[0m\u001b[1;32mNone\u001b[0m\u001b[1;33m)\u001b[0m\u001b[1;33m:\u001b[0m\u001b[1;33m\u001b[0m\u001b[0m\n\u001b[1;32m--> 610\u001b[1;33m         \u001b[0mtest_folds\u001b[0m \u001b[1;33m=\u001b[0m \u001b[0mself\u001b[0m\u001b[1;33m.\u001b[0m\u001b[0m_make_test_folds\u001b[0m\u001b[1;33m(\u001b[0m\u001b[0mX\u001b[0m\u001b[1;33m,\u001b[0m \u001b[0my\u001b[0m\u001b[1;33m)\u001b[0m\u001b[1;33m\u001b[0m\u001b[0m\n\u001b[0m\u001b[0;32m    611\u001b[0m         \u001b[1;32mfor\u001b[0m \u001b[0mi\u001b[0m \u001b[1;32min\u001b[0m \u001b[0mrange\u001b[0m\u001b[1;33m(\u001b[0m\u001b[0mself\u001b[0m\u001b[1;33m.\u001b[0m\u001b[0mn_splits\u001b[0m\u001b[1;33m)\u001b[0m\u001b[1;33m:\u001b[0m\u001b[1;33m\u001b[0m\u001b[0m\n\u001b[0;32m    612\u001b[0m             \u001b[1;32myield\u001b[0m \u001b[0mtest_folds\u001b[0m \u001b[1;33m==\u001b[0m \u001b[0mi\u001b[0m\u001b[1;33m\u001b[0m\u001b[0m\n",
      "\u001b[1;32mC:\\Users\\Eric Liao\\Anaconda3\\lib\\site-packages\\sklearn\\model_selection\\_split.py\u001b[0m in \u001b[0;36m_make_test_folds\u001b[1;34m(self, X, y, groups)\u001b[0m\n\u001b[0;32m    595\u001b[0m         \u001b[1;32mfor\u001b[0m \u001b[0mtest_fold_indices\u001b[0m\u001b[1;33m,\u001b[0m \u001b[0mper_cls_splits\u001b[0m \u001b[1;32min\u001b[0m \u001b[0menumerate\u001b[0m\u001b[1;33m(\u001b[0m\u001b[0mzip\u001b[0m\u001b[1;33m(\u001b[0m\u001b[1;33m*\u001b[0m\u001b[0mper_cls_cvs\u001b[0m\u001b[1;33m)\u001b[0m\u001b[1;33m)\u001b[0m\u001b[1;33m:\u001b[0m\u001b[1;33m\u001b[0m\u001b[0m\n\u001b[0;32m    596\u001b[0m             \u001b[1;32mfor\u001b[0m \u001b[0mcls\u001b[0m\u001b[1;33m,\u001b[0m \u001b[1;33m(\u001b[0m\u001b[0m_\u001b[0m\u001b[1;33m,\u001b[0m \u001b[0mtest_split\u001b[0m\u001b[1;33m)\u001b[0m \u001b[1;32min\u001b[0m \u001b[0mzip\u001b[0m\u001b[1;33m(\u001b[0m\u001b[0munique_y\u001b[0m\u001b[1;33m,\u001b[0m \u001b[0mper_cls_splits\u001b[0m\u001b[1;33m)\u001b[0m\u001b[1;33m:\u001b[0m\u001b[1;33m\u001b[0m\u001b[0m\n\u001b[1;32m--> 597\u001b[1;33m                 \u001b[0mcls_test_folds\u001b[0m \u001b[1;33m=\u001b[0m \u001b[0mtest_folds\u001b[0m\u001b[1;33m[\u001b[0m\u001b[0my\u001b[0m \u001b[1;33m==\u001b[0m \u001b[0mcls\u001b[0m\u001b[1;33m]\u001b[0m\u001b[1;33m\u001b[0m\u001b[0m\n\u001b[0m\u001b[0;32m    598\u001b[0m                 \u001b[1;31m# the test split can be too big because we used\u001b[0m\u001b[1;33m\u001b[0m\u001b[1;33m\u001b[0m\u001b[0m\n\u001b[0;32m    599\u001b[0m                 \u001b[1;31m# KFold(...).split(X[:max(c, n_splits)]) when data is not 100%\u001b[0m\u001b[1;33m\u001b[0m\u001b[1;33m\u001b[0m\u001b[0m\n",
      "\u001b[1;31mKeyboardInterrupt\u001b[0m: "
     ]
    }
   ],
   "source": [
    "# Using Sklearn's Pipeline function to combining features transformers and estimators; \n",
    "# It consisted of two intermediate steps, a StandardScaler and a PCA transformer, and a Decision tree classifier as a final estimator.\n",
    "from sklearn.preprocessing import StandardScaler\n",
    "from sklearn.decomposition import PCA\n",
    "from sklearn.tree import DecisionTreeClassifier\n",
    "from sklearn.pipeline import Pipeline\n",
    "import numpy as np\n",
    "\n",
    "# Check performance of decision tree algorithm with feature thransformation of StandardScaler and a PCA transformer\n",
    "pipe_dt_1 = Pipeline([('scl', StandardScaler()), ('pca', PCA(n_components=2)), ('clf', DecisionTreeClassifier(criterion='gini', random_state=2))])\n",
    "\n",
    "# Using stratified k-fold cross-validation to assess base model performance\n",
    "scores = cross_val_score(estimator=pipe_dt_1, X=X_train, y=y_train, cv=10, n_jobs=1)\n",
    "print('pipe_dt_1 Cross_validation accuracy scores: %s' % (scores))\n",
    "print('pipe_dt_1 Cross_validation accuracy: %.3f +/- %.3f' % (np.mean(scores), np.std(scores)))"
   ]
  },
  {
   "cell_type": "code",
   "execution_count": null,
   "metadata": {
    "collapsed": true
   },
   "outputs": [],
   "source": [
    "# %load find_best_model.py\n",
    "from time import time\n",
    "from sklearn.model_selection import GridSearchCV, cross_val_score\n",
    "import numpy as np\n",
    "\n",
    "# Utility function to report best scores\n",
    "def report(results, n_top=5):\n",
    "    for i in range(1, n_top + 1):\n",
    "        candidates = np.flatnonzero(results['rank_test_score'] == i)\n",
    "        for candidate in candidates:\n",
    "            print(\"Model with rank: {0}\".format(i))\n",
    "            print(\"Mean validation score: {0:.3f} (std: {1:.3f})\".format(\n",
    "                  results['mean_test_score'][candidate],\n",
    "                  results['std_test_score'][candidate]))\n",
    "            print(\"Parameters: {0}\".format(results['params'][candidate]))\n",
    "            print(\"\")\n",
    "\n",
    "\n",
    "def find_best_model(estimator, X_train, y_train, param_grid, scoring='accuracy', cv=3, n_jobs=-1):\n",
    "\n",
    "    grid_search = GridSearchCV(estimator=estimator, param_grid=param_grid, scoring=scoring, cv=cv, n_jobs=-1)\n",
    "    start = time()\n",
    "\n",
    "    grid_search.fit(X_train, y_train)\n",
    "\n",
    "    print(\"GridSearchCV took %.2f seconds for %d candidate parameter settings.\"\n",
    "          % (time() - start, len(grid_search.cv_results_['params'])))\n",
    "    report(grid_search.cv_results_)\n",
    "\n",
    "    # scores = cross_val_score(grid_search, X_train, y_train, scoring=scoring, cv=cv)\n",
    "    # print('Nested_Cross_validation accuracy: %.3f +/- %.3f' % (np.mean(scores), np.std(scores)))\n",
    "\n",
    "    # Select the best model from grid_search\n",
    "    clf = grid_search.best_estimator_\n",
    "\n",
    "    start2 = time()\n",
    "\n",
    "    # Train using the best model\n",
    "    clf.fit(X_train, y_train)\n",
    "\n",
    "    print(\"Training with the best model took %f seconds.\" % (time() - start2))\n",
    "\n",
    "    return clf"
   ]
  },
  {
   "cell_type": "code",
   "execution_count": 51,
   "metadata": {
    "collapsed": true
   },
   "outputs": [],
   "source": [
    "from time import time\n",
    "from sklearn.model_selection import RandomizedSearchCV, cross_val_score\n",
    "import numpy as np\n",
    "\n",
    "# Utility function to report best scores\n",
    "def report(results, n_top=5):\n",
    "    for i in range(1, n_top + 1):\n",
    "        candidates = np.flatnonzero(results['rank_test_score'] == i)\n",
    "        for candidate in candidates:\n",
    "            print(\"Model with rank: {0}\".format(i))\n",
    "            print(\"Mean validation score: {0:.3f} (std: {1:.3f})\".format(\n",
    "                  results['mean_test_score'][candidate],\n",
    "                  results['std_test_score'][candidate]))\n",
    "            print(\"Parameters: {0}\".format(results['params'][candidate]))\n",
    "            print(\"\")\n",
    "\n",
    "\n",
    "def find_best_model_random_search(estimator, X_train, y_train, param_grid, n_iter=10, scoring='accuracy', cv=5, n_jobs=-1):\n",
    "\n",
    "    random_search = RandomizedSearchCV(estimator=estimator, param_distributions=param_grid, n_iter=n_iter, \n",
    "                                       scoring=scoring, cv=cv, n_jobs=-1)\n",
    "    \n",
    "    start = time()\n",
    "\n",
    "    random_search.fit(X_train, y_train)\n",
    "\n",
    "    print(\"RandomizedSearchCV took %.2f seconds for %d candidate parameter settings.\"\n",
    "          % (time() - start, len(random_search.cv_results_['params'])))\n",
    "    report(random_search.cv_results_)\n",
    "\n",
    "    # scores = cross_val_score(grid_search, X_train, y_train, scoring=scoring, cv=cv)\n",
    "    # print('Nested_Cross_validation accuracy: %.3f +/- %.3f' % (np.mean(scores), np.std(scores)))\n",
    "\n",
    "    # Select the best model from grid_search\n",
    "    clf = random_search.best_estimator_\n",
    "\n",
    "    start2 = time()\n",
    "\n",
    "    # Train using the best model\n",
    "    clf.fit(X_train, y_train)\n",
    "\n",
    "    print(\"Training with the best model took %f seconds.\" % (time() - start2))\n",
    "\n",
    "    return clf"
   ]
  },
  {
   "cell_type": "code",
   "execution_count": null,
   "metadata": {
    "collapsed": true
   },
   "outputs": [],
   "source": [
    "# %load plot_validation_curve.py\n",
    "# Addressing overfitting and underfitting with validation curves\n",
    "from sklearn.model_selection import validation_curve\n",
    "import matplotlib.pyplot as plt\n",
    "import numpy as np\n",
    "\n",
    "\n",
    "def plot_validation_curve(estimator, X, y, param_name, param_range, x_label, ylim=[0.5, 1.05], cv=10, scoring=\"accuracy\", n_jobs=1):\n",
    "\n",
    "\n",
    "    train_scores, test_scores = validation_curve(estimator, X, y, param_name, param_range, cv=cv, scoring=scoring, n_jobs=n_jobs)\n",
    "    # calculate the average accuracies from the returned cross-validated training\n",
    "    # and test scores for the different values of the model parameters, which we plotted using matplotlib's plot function.\n",
    "    train_mean = np.mean(train_scores, axis=1)\n",
    "    train_std = np.std(train_scores, axis=1)\n",
    "    test_mean = np.mean(test_scores, axis=1)\n",
    "    test_std = np.std(test_scores, axis=1)\n",
    "\n",
    "    plt.plot(param_range, train_mean, color='red', marker='o', markersize=5, label='training score')\n",
    "    plt.fill_between(param_range, train_mean - train_std,\n",
    "                         train_mean + train_std, alpha=0.1,\n",
    "                         color=\"r\")\n",
    "    plt.plot(param_range, test_mean, color='green', linestyle='--', marker='s', markersize=5, label='validation score')\n",
    "    plt.fill_between(param_range, test_mean - test_std,\n",
    "                         test_mean + test_std, alpha=0.1, color=\"g\")\n",
    "    plt.grid(True)\n",
    "    plt.xlabel(x_label)\n",
    "    plt.ylabel(scoring)\n",
    "    plt.legend(loc='lower right')\n",
    "    plt.ylim(ylim)\n",
    "\n",
    "    return plt"
   ]
  },
  {
   "cell_type": "code",
   "execution_count": 62,
   "metadata": {
    "collapsed": true
   },
   "outputs": [],
   "source": [
    "# %load plot_learning_curve.py\n",
    "# Debugging algorithms with learning and validation curves\n",
    "# use learning curves to diagnose if a learning algorithm has a problem with overfitting (high variance) or underfitting (high bias).\n",
    "import matplotlib.pyplot as plt\n",
    "from sklearn.model_selection import learning_curve\n",
    "import numpy as np\n",
    "\n",
    "def plot_learning_curve(estimator, X, y, train_sizes=np.linspace(0.01, 1.0, 10), cv=10, scoring='f1', n_jobs=-1, ylim=[0.5, 1.05]):\n",
    "    '''\n",
    "    \n",
    "    :param estimator: \n",
    "    :param X: \n",
    "    :param y: \n",
    "    :param train_sizes: \n",
    "    :param cv: \n",
    "    :param n_jobs: \n",
    "    :return: \n",
    "    '''\n",
    "\n",
    "    train_sizes, train_scores, test_scores = learning_curve(estimator, X, y, train_sizes=train_sizes, cv=cv, \n",
    "                                                            scoring=scoring,n_jobs=n_jobs)\n",
    "    # calculate the average accuracies from the returned cross-validated training\n",
    "    # and test scores for the different sizes of the training set, which we plotted using matplotlib's plot function.\n",
    "    # print(train_scores)\n",
    "    train_mean = np.mean(train_scores, axis=1)\n",
    "    print(train_mean)\n",
    "    train_std = np.std(train_scores, axis=1)\n",
    "    test_mean = np.mean(test_scores, axis=1)\n",
    "    test_std = np.std(test_scores, axis=1)\n",
    "\n",
    "    plt.plot(train_sizes, train_mean, color='red', marker='o', markersize=5, label='training score')\n",
    "    plt.fill_between(train_sizes, train_mean - train_std,\n",
    "                         train_mean + train_std, alpha=0.1,\n",
    "                         color=\"r\")\n",
    "    plt.plot(train_sizes, test_mean, color='green', linestyle='--', marker='s', markersize=5, label='validation score')\n",
    "    plt.fill_between(train_sizes, test_mean - test_std,\n",
    "                         test_mean + test_std, alpha=0.1, color=\"g\")\n",
    "    plt.grid()\n",
    "    plt.xlabel('Number of training samples')\n",
    "    plt.ylabel('f1 score')\n",
    "    plt.legend(loc='lower right')\n",
    "    plt.ylim(ylim)\n",
    "    plt.show()\n",
    "    # return plt"
   ]
  },
  {
   "cell_type": "code",
   "execution_count": null,
   "metadata": {
    "collapsed": true
   },
   "outputs": [],
   "source": [
    "# %load evaluation.py\n",
    "# Looking at different performance evaluation metrics in testing data set：confusion matrix, ROC\n",
    "from sklearn.metrics import confusion_matrix\n",
    "from sklearn.metrics import precision_score\n",
    "from sklearn.metrics import recall_score, f1_score\n",
    "from sklearn.metrics import roc_auc_score\n",
    "from sklearn.metrics import accuracy_score\n",
    "from sklearn import metrics\n",
    "import matplotlib.pyplot as plt\n",
    "from time import time\n",
    "\n",
    "\n",
    "def evaluation(estimator, X_test, y_test):\n",
    "\n",
    "    start = time()\n",
    "    y_pred = estimator.predict(X_test)\n",
    "    print(\"Querying with the best model took %f seconds.\" % (time() - start))\n",
    "    print(len(y_pred))\n",
    "    confmat = confusion_matrix(y_true=y_test, y_pred=y_pred)\n",
    "    print(confmat)\n",
    "\n",
    "    fig, ax = plt.subplots(figsize=(3, 3))\n",
    "    ax.matshow(confmat, cmap=plt.cm.Blues, alpha=0.3)\n",
    "    for i in range(confmat.shape[0]):\n",
    "        for j in range(confmat.shape[1]):\n",
    "            ax.text(x=j, y=i,\n",
    "                    s=confmat[i, j],\n",
    "                    va='center', ha='center')\n",
    "\n",
    "    plt.xlabel('predicted label')\n",
    "    plt.ylabel('true label')\n",
    "    plt.show()\n",
    "\n",
    "    print('Precision: %.3f' % precision_score(y_true=y_test, y_pred=y_pred))\n",
    "    print('Recall: %.3f' % recall_score(y_true=y_test, y_pred=y_pred))\n",
    "    print('F1: %.3f' % f1_score(y_true=y_test, y_pred=y_pred))\n",
    "    print('ROC AUC: %.3f' % roc_auc_score(y_true=y_test, y_score=y_pred))\n",
    "    print('Accuracy: %.3f' % accuracy_score(y_true=y_test, y_pred=y_pred))\n",
    "    print('-----------------------------------------')\n",
    "    print(metrics.classification_report(y_test, y_pred))"
   ]
  },
  {
   "cell_type": "code",
   "execution_count": null,
   "metadata": {},
   "outputs": [],
   "source": [
    "'''\n",
    "Tuning decision tree parameters: \n",
    "(1) max_depth : int or None, optional (default=None)\n",
    "The maximum depth of the tree. If None, then nodes are expanded until all leaves are pure or until all leaves contain less than min_samples_split samples.\n",
    "(2) min_impurity_split : float,\n",
    "Threshold for early stopping in tree growth. A node will split if its impurity is above the threshold, otherwise it is a leaf.\n",
    "(3) min_samples_leaf : int, float, optional (default=1)\n",
    "The minimum number of samples required to be at a leaf node:\n",
    "If int, then consider min_samples_leaf as the minimum number.\n",
    "If float, then min_samples_leaf is a percentage and ceil(min_samples_leaf * n_samples) are the minimum number of samples for each node.\n",
    "(4) class_weight : dict, list of dicts, “balanced” or None, default=None\n",
    "Weights associated with classes in the form {class_label: weight}. If not given, all classes are supposed to have weight one. For multi-output problems, a list of dicts can be provided in the same order as the columns of y.\n",
    "Note that for multioutput (including multilabel) weights should be defined for each class of every column in its own dict. For example, for four-class multilabel classification weights should be [{0: 1, 1: 1}, {0: 1, 1: 5}, {0: 1, 1: 1}, {0: 1, 1: 1}] instead of [{1:1}, {2:5}, {3:1}, {4:1}].\n",
    "The “balanced” mode uses the values of y to automatically adjust weights inversely proportional to class frequencies in the input data as n_samples / (n_classes * np.bincount(y))\n",
    "For multi-output, the weights of each column of y will be multiplied.\n",
    "Note that these weights will be multiplied with sample_weight (passed through the fit method) if sample_weight is specified.\n",
    "'''\n",
    "\n",
    "param_grid_dt = {\"clf__max_depth\": [None, 2, 5, 10, 15],\n",
    "                 'clf__min_impurity_split': [0, 0.1, 0.2, 0.3, 0.4],\n",
    "                 'clf__min_samples_leaf': [1, 5, 10],\n",
    "                 'clf__class_weight': [None, 'balanced']\n",
    "                }\n",
    "pipe_dt_2 = find_best_model(pipe_dt_1, X_train, y_train, param_grid=param_grid_dt, scoring='accuracy', cv=10, n_jobs=-1)"
   ]
  },
  {
   "cell_type": "code",
   "execution_count": null,
   "metadata": {},
   "outputs": [],
   "source": [
    "param_name = 'clf__max_depth'\n",
    "param_range = range(1, 21, 2)\n",
    "plot_validation_curve(pipe_dt_2, X_train, y_train, param_name, param_range, 'max_depth', [0.6, 1.05])"
   ]
  },
  {
   "cell_type": "raw",
   "metadata": {},
   "source": [
    "Observation: it indicates that the important parameters for Decision tree performacne relies on controling the tree depth and complexity. If max-depth is larger than 5, overfitting occurs. During gridsearch, the focus is on finding a optimum tree depth. "
   ]
  },
  {
   "cell_type": "code",
   "execution_count": null,
   "metadata": {},
   "outputs": [],
   "source": [
    "param_name = 'clf__min_samples_leaf'\n",
    "param_range = range(1, 22, 4)\n",
    "plot_validation_curve(pipe_dt_2, X_train, y_train, param_name, param_range, 'min_samples_leaf', [0.6, 1.05])"
   ]
  },
  {
   "cell_type": "code",
   "execution_count": null,
   "metadata": {},
   "outputs": [],
   "source": [
    "param_name = 'clf__min_impurity_split'\n",
    "param_range = [0, 0.1, 0.2, 0.3, 0.4, 0.5, 0.6]\n",
    "plot_validation_curve(pipe_dt_2, X_train, y_train, param_name, param_range, 'min_impurity_split', [0.6, 1.05])"
   ]
  },
  {
   "cell_type": "raw",
   "metadata": {},
   "source": [
    "Observation: it is better to set min_impurity_split less than 0.4 to have a better performance."
   ]
  },
  {
   "cell_type": "code",
   "execution_count": null,
   "metadata": {},
   "outputs": [],
   "source": [
    "plot_learning_curve(pipe_dt_2, X=X_train, y=y_train, train_sizes=np.linspace(0.1, 1.0, 10), ylim=[0.75, 0.8])"
   ]
  },
  {
   "cell_type": "code",
   "execution_count": null,
   "metadata": {},
   "outputs": [],
   "source": [
    "evaluation(pipe_dt_2, X_test, y_test)"
   ]
  },
  {
   "cell_type": "raw",
   "metadata": {},
   "source": [
    "Observation, the matrix has 0 data in the +1 class and with a accuracy of 0.784. This can be an effect of imbalanced data set since our data here has 78% \"-\" class (non-default) and 22% \"+\" (default). The model we got here show a ~78% accuracy, so it tends to label all cases to a \"-\" class, and still get ~78% accuracy. \n",
    "There are several ways to approach this classification problem taking into consideration this unbalance.\n",
    "Collect more data? Nice strategy but not applicable in this case\n",
    "Changing the performance metric:\n",
    "Use the confusio nmatrix to calculate Precision, Recall\n",
    "F1 score (weighted average of precision recall)\n",
    "Use Kappa - which is a classification accuracy normalized by the imbalance of the classes in the data\n",
    "ROC curves - calculates sensitivity/specificity ratio.\n",
    "Resampling the dataset\n",
    "Essentially this is a method that will process the data to have an approximate 50-50 ratio.\n",
    "One way to achieve this is by OVER-sampling, which is adding copies of the under-represented class (better when you have little data)\n",
    "Another is UNDER-sampling, which deletes instances from the over-represented class (better when he have lot's of data)"
   ]
  },
  {
   "cell_type": "raw",
   "metadata": {},
   "source": [
    "In this notebook, we will use traditional UNDER-sampling. \n",
    "The way we will under sample the dataset will be by creating a 50/50 ratio. This will be done by randomly selecting \"x\" amount of sample from the majority class, being \"x\" the total number of records with the minority class."
   ]
  },
  {
   "cell_type": "code",
   "execution_count": 20,
   "metadata": {},
   "outputs": [
    {
     "data": {
      "text/html": [
       "<div>\n",
       "<table border=\"1\" class=\"dataframe\">\n",
       "  <thead>\n",
       "    <tr style=\"text-align: right;\">\n",
       "      <th></th>\n",
       "      <th>limit_bal</th>\n",
       "      <th>sex</th>\n",
       "      <th>education</th>\n",
       "      <th>marriage</th>\n",
       "      <th>age</th>\n",
       "      <th>pay_0</th>\n",
       "      <th>pay_2</th>\n",
       "      <th>pay_3</th>\n",
       "      <th>pay_4</th>\n",
       "      <th>pay_5</th>\n",
       "      <th>...</th>\n",
       "      <th>bill_amt4</th>\n",
       "      <th>bill_amt5</th>\n",
       "      <th>bill_amt6</th>\n",
       "      <th>pay_amt1</th>\n",
       "      <th>pay_amt2</th>\n",
       "      <th>pay_amt3</th>\n",
       "      <th>pay_amt4</th>\n",
       "      <th>pay_amt5</th>\n",
       "      <th>pay_amt6</th>\n",
       "      <th>default</th>\n",
       "    </tr>\n",
       "  </thead>\n",
       "  <tbody>\n",
       "    <tr>\n",
       "      <th>0</th>\n",
       "      <td>20000.0</td>\n",
       "      <td>2</td>\n",
       "      <td>2</td>\n",
       "      <td>1</td>\n",
       "      <td>24</td>\n",
       "      <td>2</td>\n",
       "      <td>2</td>\n",
       "      <td>-1</td>\n",
       "      <td>-1</td>\n",
       "      <td>-2</td>\n",
       "      <td>...</td>\n",
       "      <td>0.0</td>\n",
       "      <td>0.0</td>\n",
       "      <td>0.0</td>\n",
       "      <td>0.0</td>\n",
       "      <td>689.0</td>\n",
       "      <td>0.0</td>\n",
       "      <td>0.0</td>\n",
       "      <td>0.0</td>\n",
       "      <td>0.0</td>\n",
       "      <td>1</td>\n",
       "    </tr>\n",
       "    <tr>\n",
       "      <th>1</th>\n",
       "      <td>120000.0</td>\n",
       "      <td>2</td>\n",
       "      <td>2</td>\n",
       "      <td>2</td>\n",
       "      <td>26</td>\n",
       "      <td>-1</td>\n",
       "      <td>2</td>\n",
       "      <td>0</td>\n",
       "      <td>0</td>\n",
       "      <td>0</td>\n",
       "      <td>...</td>\n",
       "      <td>3272.0</td>\n",
       "      <td>3455.0</td>\n",
       "      <td>3261.0</td>\n",
       "      <td>0.0</td>\n",
       "      <td>1000.0</td>\n",
       "      <td>1000.0</td>\n",
       "      <td>1000.0</td>\n",
       "      <td>0.0</td>\n",
       "      <td>2000.0</td>\n",
       "      <td>1</td>\n",
       "    </tr>\n",
       "    <tr>\n",
       "      <th>2</th>\n",
       "      <td>90000.0</td>\n",
       "      <td>2</td>\n",
       "      <td>2</td>\n",
       "      <td>2</td>\n",
       "      <td>34</td>\n",
       "      <td>0</td>\n",
       "      <td>0</td>\n",
       "      <td>0</td>\n",
       "      <td>0</td>\n",
       "      <td>0</td>\n",
       "      <td>...</td>\n",
       "      <td>14331.0</td>\n",
       "      <td>14948.0</td>\n",
       "      <td>15549.0</td>\n",
       "      <td>1518.0</td>\n",
       "      <td>1500.0</td>\n",
       "      <td>1000.0</td>\n",
       "      <td>1000.0</td>\n",
       "      <td>1000.0</td>\n",
       "      <td>5000.0</td>\n",
       "      <td>0</td>\n",
       "    </tr>\n",
       "    <tr>\n",
       "      <th>3</th>\n",
       "      <td>50000.0</td>\n",
       "      <td>2</td>\n",
       "      <td>2</td>\n",
       "      <td>1</td>\n",
       "      <td>37</td>\n",
       "      <td>0</td>\n",
       "      <td>0</td>\n",
       "      <td>0</td>\n",
       "      <td>0</td>\n",
       "      <td>0</td>\n",
       "      <td>...</td>\n",
       "      <td>28314.0</td>\n",
       "      <td>28959.0</td>\n",
       "      <td>29547.0</td>\n",
       "      <td>2000.0</td>\n",
       "      <td>2019.0</td>\n",
       "      <td>1200.0</td>\n",
       "      <td>1100.0</td>\n",
       "      <td>1069.0</td>\n",
       "      <td>1000.0</td>\n",
       "      <td>0</td>\n",
       "    </tr>\n",
       "    <tr>\n",
       "      <th>4</th>\n",
       "      <td>50000.0</td>\n",
       "      <td>1</td>\n",
       "      <td>2</td>\n",
       "      <td>1</td>\n",
       "      <td>57</td>\n",
       "      <td>-1</td>\n",
       "      <td>0</td>\n",
       "      <td>-1</td>\n",
       "      <td>0</td>\n",
       "      <td>0</td>\n",
       "      <td>...</td>\n",
       "      <td>20940.0</td>\n",
       "      <td>19146.0</td>\n",
       "      <td>19131.0</td>\n",
       "      <td>2000.0</td>\n",
       "      <td>36681.0</td>\n",
       "      <td>10000.0</td>\n",
       "      <td>9000.0</td>\n",
       "      <td>689.0</td>\n",
       "      <td>679.0</td>\n",
       "      <td>0</td>\n",
       "    </tr>\n",
       "    <tr>\n",
       "      <th>5</th>\n",
       "      <td>50000.0</td>\n",
       "      <td>1</td>\n",
       "      <td>1</td>\n",
       "      <td>2</td>\n",
       "      <td>37</td>\n",
       "      <td>0</td>\n",
       "      <td>0</td>\n",
       "      <td>0</td>\n",
       "      <td>0</td>\n",
       "      <td>0</td>\n",
       "      <td>...</td>\n",
       "      <td>19394.0</td>\n",
       "      <td>19619.0</td>\n",
       "      <td>20024.0</td>\n",
       "      <td>2500.0</td>\n",
       "      <td>1815.0</td>\n",
       "      <td>657.0</td>\n",
       "      <td>1000.0</td>\n",
       "      <td>1000.0</td>\n",
       "      <td>800.0</td>\n",
       "      <td>0</td>\n",
       "    </tr>\n",
       "    <tr>\n",
       "      <th>6</th>\n",
       "      <td>500000.0</td>\n",
       "      <td>1</td>\n",
       "      <td>1</td>\n",
       "      <td>2</td>\n",
       "      <td>29</td>\n",
       "      <td>0</td>\n",
       "      <td>0</td>\n",
       "      <td>0</td>\n",
       "      <td>0</td>\n",
       "      <td>0</td>\n",
       "      <td>...</td>\n",
       "      <td>542653.0</td>\n",
       "      <td>483003.0</td>\n",
       "      <td>473944.0</td>\n",
       "      <td>55000.0</td>\n",
       "      <td>40000.0</td>\n",
       "      <td>38000.0</td>\n",
       "      <td>20239.0</td>\n",
       "      <td>13750.0</td>\n",
       "      <td>13770.0</td>\n",
       "      <td>0</td>\n",
       "    </tr>\n",
       "    <tr>\n",
       "      <th>7</th>\n",
       "      <td>100000.0</td>\n",
       "      <td>2</td>\n",
       "      <td>2</td>\n",
       "      <td>2</td>\n",
       "      <td>23</td>\n",
       "      <td>0</td>\n",
       "      <td>-1</td>\n",
       "      <td>-1</td>\n",
       "      <td>0</td>\n",
       "      <td>0</td>\n",
       "      <td>...</td>\n",
       "      <td>221.0</td>\n",
       "      <td>-159.0</td>\n",
       "      <td>567.0</td>\n",
       "      <td>380.0</td>\n",
       "      <td>601.0</td>\n",
       "      <td>0.0</td>\n",
       "      <td>581.0</td>\n",
       "      <td>1687.0</td>\n",
       "      <td>1542.0</td>\n",
       "      <td>0</td>\n",
       "    </tr>\n",
       "    <tr>\n",
       "      <th>8</th>\n",
       "      <td>140000.0</td>\n",
       "      <td>2</td>\n",
       "      <td>3</td>\n",
       "      <td>1</td>\n",
       "      <td>28</td>\n",
       "      <td>0</td>\n",
       "      <td>0</td>\n",
       "      <td>2</td>\n",
       "      <td>0</td>\n",
       "      <td>0</td>\n",
       "      <td>...</td>\n",
       "      <td>12211.0</td>\n",
       "      <td>11793.0</td>\n",
       "      <td>3719.0</td>\n",
       "      <td>3329.0</td>\n",
       "      <td>0.0</td>\n",
       "      <td>432.0</td>\n",
       "      <td>1000.0</td>\n",
       "      <td>1000.0</td>\n",
       "      <td>1000.0</td>\n",
       "      <td>0</td>\n",
       "    </tr>\n",
       "    <tr>\n",
       "      <th>9</th>\n",
       "      <td>20000.0</td>\n",
       "      <td>1</td>\n",
       "      <td>3</td>\n",
       "      <td>2</td>\n",
       "      <td>35</td>\n",
       "      <td>-2</td>\n",
       "      <td>-2</td>\n",
       "      <td>-2</td>\n",
       "      <td>-2</td>\n",
       "      <td>-1</td>\n",
       "      <td>...</td>\n",
       "      <td>0.0</td>\n",
       "      <td>13007.0</td>\n",
       "      <td>13912.0</td>\n",
       "      <td>0.0</td>\n",
       "      <td>0.0</td>\n",
       "      <td>0.0</td>\n",
       "      <td>13007.0</td>\n",
       "      <td>1122.0</td>\n",
       "      <td>0.0</td>\n",
       "      <td>0</td>\n",
       "    </tr>\n",
       "  </tbody>\n",
       "</table>\n",
       "<p>10 rows × 24 columns</p>\n",
       "</div>"
      ],
      "text/plain": [
       "   limit_bal  sex  education  marriage  age  pay_0  pay_2  pay_3  pay_4  \\\n",
       "0    20000.0    2          2         1   24      2      2     -1     -1   \n",
       "1   120000.0    2          2         2   26     -1      2      0      0   \n",
       "2    90000.0    2          2         2   34      0      0      0      0   \n",
       "3    50000.0    2          2         1   37      0      0      0      0   \n",
       "4    50000.0    1          2         1   57     -1      0     -1      0   \n",
       "5    50000.0    1          1         2   37      0      0      0      0   \n",
       "6   500000.0    1          1         2   29      0      0      0      0   \n",
       "7   100000.0    2          2         2   23      0     -1     -1      0   \n",
       "8   140000.0    2          3         1   28      0      0      2      0   \n",
       "9    20000.0    1          3         2   35     -2     -2     -2     -2   \n",
       "\n",
       "   pay_5   ...     bill_amt4  bill_amt5  bill_amt6  pay_amt1  pay_amt2  \\\n",
       "0     -2   ...           0.0        0.0        0.0       0.0     689.0   \n",
       "1      0   ...        3272.0     3455.0     3261.0       0.0    1000.0   \n",
       "2      0   ...       14331.0    14948.0    15549.0    1518.0    1500.0   \n",
       "3      0   ...       28314.0    28959.0    29547.0    2000.0    2019.0   \n",
       "4      0   ...       20940.0    19146.0    19131.0    2000.0   36681.0   \n",
       "5      0   ...       19394.0    19619.0    20024.0    2500.0    1815.0   \n",
       "6      0   ...      542653.0   483003.0   473944.0   55000.0   40000.0   \n",
       "7      0   ...         221.0     -159.0      567.0     380.0     601.0   \n",
       "8      0   ...       12211.0    11793.0     3719.0    3329.0       0.0   \n",
       "9     -1   ...           0.0    13007.0    13912.0       0.0       0.0   \n",
       "\n",
       "   pay_amt3  pay_amt4  pay_amt5  pay_amt6  default  \n",
       "0       0.0       0.0       0.0       0.0        1  \n",
       "1    1000.0    1000.0       0.0    2000.0        1  \n",
       "2    1000.0    1000.0    1000.0    5000.0        0  \n",
       "3    1200.0    1100.0    1069.0    1000.0        0  \n",
       "4   10000.0    9000.0     689.0     679.0        0  \n",
       "5     657.0    1000.0    1000.0     800.0        0  \n",
       "6   38000.0   20239.0   13750.0   13770.0        0  \n",
       "7       0.0     581.0    1687.0    1542.0        0  \n",
       "8     432.0    1000.0    1000.0    1000.0        0  \n",
       "9       0.0   13007.0    1122.0       0.0        0  \n",
       "\n",
       "[10 rows x 24 columns]"
      ]
     },
     "execution_count": 20,
     "metadata": {},
     "output_type": "execute_result"
    }
   ],
   "source": [
    "df.rename(columns = {'default.payment.next.month':'default'}, inplace = True)\n",
    "df.head(10)"
   ]
  },
  {
   "cell_type": "code",
   "execution_count": 21,
   "metadata": {},
   "outputs": [
    {
     "name": "stdout",
     "output_type": "stream",
     "text": [
      "Percentage of non-default cases:  0.5\n",
      "Percentage of default cases:  0.5\n",
      "Total number of cases in resampled data:  13272\n"
     ]
    }
   ],
   "source": [
    "# Number of data points in the minority class\n",
    "number_records_default = len(df[df.default == 1])\n",
    "default_indices = np.array(df[df.default == 1].index)\n",
    "\n",
    "# Picking the indices of the normal classes\n",
    "normal_indices = df[df.default == 0].index\n",
    "\n",
    "# Out of the indices we picked, randomly select \"x\" number (number_records_fraud)\n",
    "random_normal_indices = np.random.choice(normal_indices, number_records_default, replace = False)\n",
    "random_normal_indices = np.array(random_normal_indices)\n",
    "\n",
    "# Appending the 2 indices\n",
    "under_sample_indices = np.concatenate([default_indices,random_normal_indices])\n",
    "\n",
    "# Under sample dataset\n",
    "under_sample_df = df.iloc[under_sample_indices,:]\n",
    "\n",
    "# X_undersample = under_sample_df.ix[:, under_sample_df.columns != 'default']\n",
    "# y_undersample = under_sample_df.ix[:, under_sample_df.columns == 'default']\n",
    "\n",
    "X_undersample = under_sample_df.drop('default', axis=1)\n",
    "y_undersample = under_sample_df['default']\n",
    "\n",
    "# Showing ratio\n",
    "print(\"Percentage of non-default cases: \", len(under_sample_df[under_sample_df.default == 0])/len(under_sample_df))\n",
    "print(\"Percentage of default cases: \", len(under_sample_df[under_sample_df.default == 1])/len(under_sample_df))\n",
    "print(\"Total number of cases in resampled data: \", len(under_sample_df))"
   ]
  },
  {
   "cell_type": "code",
   "execution_count": 22,
   "metadata": {},
   "outputs": [
    {
     "name": "stdout",
     "output_type": "stream",
     "text": [
      "Number cases train dataset:  21000\n",
      "Number cases test dataset:  9000\n",
      "Total number of cases:  30000\n",
      "\n",
      "Number cases train Undersampled dataset:  9290\n",
      "Number cases test Undersampled dataset:  3982\n",
      "Total number of cases in Undersampled dataset:  13272\n"
     ]
    }
   ],
   "source": [
    "# Split Whole dataset\n",
    "X_train, X_test, y_train, y_test = train_test_split(X,y,test_size = 0.3, random_state = 0)\n",
    "\n",
    "print(\"Number cases train dataset: \", len(X_train))\n",
    "print(\"Number cases test dataset: \", len(X_test))\n",
    "print(\"Total number of cases: \", len(X_train)+len(X_test))\n",
    "\n",
    "# Undersampled dataset\n",
    "X_train_undersample, X_test_undersample, y_train_undersample, y_test_undersample = train_test_split(X_undersample\n",
    "                                                                                                   ,y_undersample\n",
    "                                                                                                   ,test_size = 0.3\n",
    "                                                                                                   ,random_state = 0)\n",
    "print(\"\")\n",
    "print(\"Number cases train Undersampled dataset: \", len(X_train_undersample))\n",
    "print(\"Number cases test Undersampled dataset: \", len(X_test_undersample))\n",
    "print(\"Total number of cases in Undersampled dataset: \", len(X_train_undersample)+len(X_test_undersample))"
   ]
  },
  {
   "cell_type": "code",
   "execution_count": 23,
   "metadata": {},
   "outputs": [
    {
     "data": {
      "text/plain": [
       "((21000, 23),\n",
       " (9000, 23),\n",
       " (21000,),\n",
       " (9000,),\n",
       " (9290, 23),\n",
       " (3982, 23),\n",
       " (9290,),\n",
       " (3982,))"
      ]
     },
     "execution_count": 23,
     "metadata": {},
     "output_type": "execute_result"
    }
   ],
   "source": [
    "X_train.shape, X_test.shape, y_train.shape, y_test.shape, X_train_undersample.shape, X_test_undersample.shape, y_train_undersample.shape, y_test_undersample.shape"
   ]
  },
  {
   "cell_type": "code",
   "execution_count": 44,
   "metadata": {},
   "outputs": [
    {
     "name": "stdout",
     "output_type": "stream",
     "text": [
      "pipe_dt_1 Cross_validation accuracy scores in undersample data: [ 0.60430108  0.62473118  0.63616792  0.57265877  0.60064586  0.58234661\n",
      "  0.60279871  0.5780409   0.59698276  0.60344828]\n",
      "pipe_dt_1 Cross_validation accuracy in undersample data: 0.600 +/- 0.019\n"
     ]
    }
   ],
   "source": [
    "# Using stratified k-fold cross-validation to assess base model performance\n",
    "scores = cross_val_score(estimator=pipe_dt_1, X=X_train_undersample, y=y_train_undersample, cv=10, n_jobs=1)\n",
    "print('pipe_dt_1 Cross_validation accuracy scores in undersample data: %s' % (scores))\n",
    "print('pipe_dt_1 Cross_validation accuracy in undersample data: %.3f +/- %.3f' % (np.mean(scores), np.std(scores)))"
   ]
  },
  {
   "cell_type": "code",
   "execution_count": 68,
   "metadata": {
    "scrolled": true
   },
   "outputs": [
    {
     "name": "stdout",
     "output_type": "stream",
     "text": [
      "GridSearchCV took 106.90 seconds for 150 candidate parameter settings.\n",
      "Model with rank: 1\n",
      "Mean validation score: 0.669 (std: 0.007)\n",
      "Parameters: {'clf__min_impurity_split': 0.4, 'clf__max_depth': 15, 'clf__min_samples_leaf': 10, 'clf__class_weight': 'balanced'}\n",
      "\n",
      "Model with rank: 2\n",
      "Mean validation score: 0.668 (std: 0.008)\n",
      "Parameters: {'clf__min_impurity_split': 0.4, 'clf__max_depth': None, 'clf__min_samples_leaf': 1, 'clf__class_weight': None}\n",
      "\n",
      "Model with rank: 3\n",
      "Mean validation score: 0.668 (std: 0.008)\n",
      "Parameters: {'clf__min_impurity_split': 0.4, 'clf__max_depth': 15, 'clf__min_samples_leaf': 10, 'clf__class_weight': None}\n",
      "\n",
      "Model with rank: 4\n",
      "Mean validation score: 0.668 (std: 0.009)\n",
      "Parameters: {'clf__min_impurity_split': 0.4, 'clf__max_depth': None, 'clf__min_samples_leaf': 1, 'clf__class_weight': 'balanced'}\n",
      "\n",
      "Model with rank: 5\n",
      "Mean validation score: 0.668 (std: 0.010)\n",
      "Parameters: {'clf__min_impurity_split': 0.4, 'clf__max_depth': 15, 'clf__min_samples_leaf': 1, 'clf__class_weight': None}\n",
      "\n",
      "Training with the best model took 0.039605 seconds.\n"
     ]
    }
   ],
   "source": [
    "'''\n",
    "Tuning decision tree parameters: \n",
    "(1) max_depth : int or None, optional (default=None)\n",
    "The maximum depth of the tree. If None, then nodes are expanded until all leaves are pure or until all leaves contain less than min_samples_split samples.\n",
    "(2) min_impurity_split : float,\n",
    "Threshold for early stopping in tree growth. A node will split if its impurity is above the threshold, otherwise it is a leaf.\n",
    "(3) min_samples_leaf : int, float, optional (default=1)\n",
    "The minimum number of samples required to be at a leaf node:\n",
    "If int, then consider min_samples_leaf as the minimum number.\n",
    "If float, then min_samples_leaf is a percentage and ceil(min_samples_leaf * n_samples) are the minimum number of samples for each node.\n",
    "(4) class_weight : dict, list of dicts, “balanced” or None, default=None\n",
    "Weights associated with classes in the form {class_label: weight}. If not given, all classes are supposed to have weight one. For multi-output problems, a list of dicts can be provided in the same order as the columns of y.\n",
    "Note that for multioutput (including multilabel) weights should be defined for each class of every column in its own dict. For example, for four-class multilabel classification weights should be [{0: 1, 1: 1}, {0: 1, 1: 5}, {0: 1, 1: 1}, {0: 1, 1: 1}] instead of [{1:1}, {2:5}, {3:1}, {4:1}].\n",
    "The “balanced” mode uses the values of y to automatically adjust weights inversely proportional to class frequencies in the input data as n_samples / (n_classes * np.bincount(y))\n",
    "For multi-output, the weights of each column of y will be multiplied.\n",
    "Note that these weights will be multiplied with sample_weight (passed through the fit method) if sample_weight is specified.\n",
    "'''\n",
    "\n",
    "param_grid_dt = {\"clf__max_depth\": [None, 2, 5, 10, 15],\n",
    "                 'clf__min_impurity_split': [0, 0.1, 0.2, 0.3, 0.4],\n",
    "                 'clf__min_samples_leaf': [1, 5, 10],\n",
    "                 'clf__class_weight': [None, 'balanced']\n",
    "                }\n",
    "pipe_dt_3 = find_best_model(pipe_dt_1, X_train_undersample, y_train_undersample, param_grid=param_grid_dt, scoring='f1', cv=10, n_jobs=-1)"
   ]
  },
  {
   "cell_type": "code",
   "execution_count": 69,
   "metadata": {},
   "outputs": [
    {
     "name": "stdout",
     "output_type": "stream",
     "text": [
      "Querying with the best model took 0.011022 seconds.\n",
      "3982\n",
      "[[1432  616]\n",
      " [ 684 1250]]\n"
     ]
    },
    {
     "data": {
      "image/png": "[encoded data removed]",
      "text/plain": [
       "<matplotlib.figure.Figure at 0x25b813ba390>"
      ]
     },
     "metadata": {},
     "output_type": "display_data"
    },
    {
     "name": "stdout",
     "output_type": "stream",
     "text": [
      "Precision: 0.670\n",
      "Recall: 0.646\n",
      "F1: 0.658\n",
      "ROC AUC: 0.673\n",
      "Accuracy: 0.674\n",
      "-----------------------------------------\n",
      "             precision    recall  f1-score   support\n",
      "\n",
      "          0       0.68      0.70      0.69      2048\n",
      "          1       0.67      0.65      0.66      1934\n",
      "\n",
      "avg / total       0.67      0.67      0.67      3982\n",
      "\n"
     ]
    }
   ],
   "source": [
    "evaluation(pipe_dt_3, X_test_undersample, y_test_undersample)"
   ]
  },
  {
   "cell_type": "code",
   "execution_count": 70,
   "metadata": {},
   "outputs": [
    {
     "name": "stdout",
     "output_type": "stream",
     "text": [
      "Querying with the best model took 0.017047 seconds.\n",
      "9000\n",
      "[[4905 2155]\n",
      " [ 566 1374]]\n"
     ]
    },
    {
     "data": {
      "image/png": "[encoded data removed]",
      "text/plain": [
       "<matplotlib.figure.Figure at 0x25b83358630>"
      ]
     },
     "metadata": {},
     "output_type": "display_data"
    },
    {
     "name": "stdout",
     "output_type": "stream",
     "text": [
      "Precision: 0.389\n",
      "Recall: 0.708\n",
      "F1: 0.502\n",
      "ROC AUC: 0.702\n",
      "Accuracy: 0.698\n",
      "-----------------------------------------\n",
      "             precision    recall  f1-score   support\n",
      "\n",
      "          0       0.90      0.69      0.78      7060\n",
      "          1       0.39      0.71      0.50      1940\n",
      "\n",
      "avg / total       0.79      0.70      0.72      9000\n",
      "\n"
     ]
    }
   ],
   "source": [
    "evaluation(pipe_dt_3, X_test, y_test)"
   ]
  },
  {
   "cell_type": "code",
   "execution_count": 64,
   "metadata": {
    "collapsed": true
   },
   "outputs": [],
   "source": [
    "# pipe_dt_3 = Pipeline([('scl', StandardScaler()), ('pca', PCA(n_components=2)), \n",
    "#                       ('clf', DecisionTreeClassifier(criterion='gini', min_impurity_split=0.4, max_depth=15, \n",
    "#                                                      min_samples_leaf=10, class_weight='balanced', random_state=2))])"
   ]
  },
  {
   "cell_type": "code",
   "execution_count": 71,
   "metadata": {},
   "outputs": [
    {
     "data": {
      "text/plain": [
       "Pipeline(steps=[('scl', StandardScaler(copy=True, with_mean=True, with_std=True)), ('pca', PCA(copy=True, iterated_power='auto', n_components=2, random_state=None,\n",
       "  svd_solver='auto', tol=0.0, whiten=False)), ('clf', DecisionTreeClassifier(class_weight='balanced', criterion='gini',\n",
       "            max_depth=15,...split=2, min_weight_fraction_leaf=0.0,\n",
       "            presort=False, random_state=2, splitter='best'))])"
      ]
     },
     "execution_count": 71,
     "metadata": {},
     "output_type": "execute_result"
    }
   ],
   "source": [
    "pipe_dt_3"
   ]
  },
  {
   "cell_type": "code",
   "execution_count": 49,
   "metadata": {
    "collapsed": true
   },
   "outputs": [],
   "source": [
    "pipe_dt_4 = pipe_dt_3.fit(X_train, y_train)"
   ]
  },
  {
   "cell_type": "code",
   "execution_count": 50,
   "metadata": {},
   "outputs": [
    {
     "name": "stdout",
     "output_type": "stream",
     "text": [
      "Querying with the best model took 0.015533 seconds.\n",
      "9000\n",
      "[[5321 1739]\n",
      " [ 793 1147]]\n"
     ]
    },
    {
     "data": {
      "image/png": "[encoded data removed]",
      "text/plain": [
       "<matplotlib.figure.Figure at 0x25b83500400>"
      ]
     },
     "metadata": {},
     "output_type": "display_data"
    },
    {
     "name": "stdout",
     "output_type": "stream",
     "text": [
      "Precision: 0.397\n",
      "Recall: 0.591\n",
      "F1: 0.475\n",
      "ROC AUC: 0.672\n",
      "Accuracy: 0.719\n",
      "-----------------------------------------\n",
      "             precision    recall  f1-score   support\n",
      "\n",
      "          0       0.87      0.75      0.81      7060\n",
      "          1       0.40      0.59      0.48      1940\n",
      "\n",
      "avg / total       0.77      0.72      0.74      9000\n",
      "\n"
     ]
    }
   ],
   "source": [
    "evaluation(pipe_dt_4, X_test, y_test)"
   ]
  },
  {
   "cell_type": "code",
   "execution_count": 74,
   "metadata": {},
   "outputs": [
    {
     "data": {
      "text/plain": [
       "<module 'matplotlib.pyplot' from 'C:\\\\Users\\\\Eric Liao\\\\Anaconda3\\\\lib\\\\site-packages\\\\matplotlib\\\\pyplot.py'>"
      ]
     },
     "execution_count": 74,
     "metadata": {},
     "output_type": "execute_result"
    },
    {
     "data": {
      "image/png": "[encoded data removed]",
      "text/plain": [
       "<matplotlib.figure.Figure at 0x25b813572e8>"
      ]
     },
     "metadata": {},
     "output_type": "display_data"
    }
   ],
   "source": [
    "param_name = 'clf__max_depth'\n",
    "param_range = range(1, 21, 2)\n",
    "plot_validation_curve(pipe_dt_3, X_train_undersample, y_train_undersample, param_name, param_range, \n",
    "                      'max_depth', [0.5, 0.8], scoring=\"f1\")"
   ]
  },
  {
   "cell_type": "code",
   "execution_count": 75,
   "metadata": {},
   "outputs": [
    {
     "data": {
      "text/plain": [
       "<module 'matplotlib.pyplot' from 'C:\\\\Users\\\\Eric Liao\\\\Anaconda3\\\\lib\\\\site-packages\\\\matplotlib\\\\pyplot.py'>"
      ]
     },
     "execution_count": 75,
     "metadata": {},
     "output_type": "execute_result"
    },
    {
     "data": {
      "image/png": "[encoded data removed]",
      "text/plain": [
       "<matplotlib.figure.Figure at 0x25b813bbda0>"
      ]
     },
     "metadata": {},
     "output_type": "display_data"
    }
   ],
   "source": [
    "param_name = 'clf__min_samples_leaf'\n",
    "param_range = range(1, 22, 4)\n",
    "plot_validation_curve(pipe_dt_3, X_train_undersample, y_train_undersample, param_name, param_range, \n",
    "                      'min_samples_leaf', [0.5, 0.8], scoring=\"f1\")"
   ]
  },
  {
   "cell_type": "code",
   "execution_count": 82,
   "metadata": {},
   "outputs": [
    {
     "name": "stderr",
     "output_type": "stream",
     "text": [
      "C:\\Users\\Eric Liao\\Anaconda3\\lib\\site-packages\\sklearn\\metrics\\classification.py:1113: UndefinedMetricWarning: F-score is ill-defined and being set to 0.0 due to no predicted samples.\n",
      "  'precision', 'predicted', average, warn_for)\n",
      "C:\\Users\\Eric Liao\\Anaconda3\\lib\\site-packages\\sklearn\\metrics\\classification.py:1113: UndefinedMetricWarning: F-score is ill-defined and being set to 0.0 due to no predicted samples.\n",
      "  'precision', 'predicted', average, warn_for)\n",
      "C:\\Users\\Eric Liao\\Anaconda3\\lib\\site-packages\\sklearn\\metrics\\classification.py:1113: UndefinedMetricWarning: F-score is ill-defined and being set to 0.0 due to no predicted samples.\n",
      "  'precision', 'predicted', average, warn_for)\n",
      "C:\\Users\\Eric Liao\\Anaconda3\\lib\\site-packages\\sklearn\\metrics\\classification.py:1113: UndefinedMetricWarning: F-score is ill-defined and being set to 0.0 due to no predicted samples.\n",
      "  'precision', 'predicted', average, warn_for)\n",
      "C:\\Users\\Eric Liao\\Anaconda3\\lib\\site-packages\\sklearn\\metrics\\classification.py:1113: UndefinedMetricWarning: F-score is ill-defined and being set to 0.0 due to no predicted samples.\n",
      "  'precision', 'predicted', average, warn_for)\n",
      "C:\\Users\\Eric Liao\\Anaconda3\\lib\\site-packages\\sklearn\\metrics\\classification.py:1113: UndefinedMetricWarning: F-score is ill-defined and being set to 0.0 due to no predicted samples.\n",
      "  'precision', 'predicted', average, warn_for)\n",
      "C:\\Users\\Eric Liao\\Anaconda3\\lib\\site-packages\\sklearn\\metrics\\classification.py:1113: UndefinedMetricWarning: F-score is ill-defined and being set to 0.0 due to no predicted samples.\n",
      "  'precision', 'predicted', average, warn_for)\n",
      "C:\\Users\\Eric Liao\\Anaconda3\\lib\\site-packages\\sklearn\\metrics\\classification.py:1113: UndefinedMetricWarning: F-score is ill-defined and being set to 0.0 due to no predicted samples.\n",
      "  'precision', 'predicted', average, warn_for)\n",
      "C:\\Users\\Eric Liao\\Anaconda3\\lib\\site-packages\\sklearn\\metrics\\classification.py:1113: UndefinedMetricWarning: F-score is ill-defined and being set to 0.0 due to no predicted samples.\n",
      "  'precision', 'predicted', average, warn_for)\n",
      "C:\\Users\\Eric Liao\\Anaconda3\\lib\\site-packages\\sklearn\\metrics\\classification.py:1113: UndefinedMetricWarning: F-score is ill-defined and being set to 0.0 due to no predicted samples.\n",
      "  'precision', 'predicted', average, warn_for)\n",
      "C:\\Users\\Eric Liao\\Anaconda3\\lib\\site-packages\\sklearn\\metrics\\classification.py:1113: UndefinedMetricWarning: F-score is ill-defined and being set to 0.0 due to no predicted samples.\n",
      "  'precision', 'predicted', average, warn_for)\n",
      "C:\\Users\\Eric Liao\\Anaconda3\\lib\\site-packages\\sklearn\\metrics\\classification.py:1113: UndefinedMetricWarning: F-score is ill-defined and being set to 0.0 due to no predicted samples.\n",
      "  'precision', 'predicted', average, warn_for)\n",
      "C:\\Users\\Eric Liao\\Anaconda3\\lib\\site-packages\\sklearn\\metrics\\classification.py:1113: UndefinedMetricWarning: F-score is ill-defined and being set to 0.0 due to no predicted samples.\n",
      "  'precision', 'predicted', average, warn_for)\n",
      "C:\\Users\\Eric Liao\\Anaconda3\\lib\\site-packages\\sklearn\\metrics\\classification.py:1113: UndefinedMetricWarning: F-score is ill-defined and being set to 0.0 due to no predicted samples.\n",
      "  'precision', 'predicted', average, warn_for)\n",
      "C:\\Users\\Eric Liao\\Anaconda3\\lib\\site-packages\\sklearn\\metrics\\classification.py:1113: UndefinedMetricWarning: F-score is ill-defined and being set to 0.0 due to no predicted samples.\n",
      "  'precision', 'predicted', average, warn_for)\n",
      "C:\\Users\\Eric Liao\\Anaconda3\\lib\\site-packages\\sklearn\\metrics\\classification.py:1113: UndefinedMetricWarning: F-score is ill-defined and being set to 0.0 due to no predicted samples.\n",
      "  'precision', 'predicted', average, warn_for)\n"
     ]
    },
    {
     "data": {
      "text/plain": [
       "<module 'matplotlib.pyplot' from 'C:\\\\Users\\\\Eric Liao\\\\Anaconda3\\\\lib\\\\site-packages\\\\matplotlib\\\\pyplot.py'>"
      ]
     },
     "execution_count": 82,
     "metadata": {},
     "output_type": "execute_result"
    },
    {
     "data": {
      "image/png": "[encoded data removed]",
      "text/plain": [
       "<matplotlib.figure.Figure at 0x25b81324c50>"
      ]
     },
     "metadata": {},
     "output_type": "display_data"
    }
   ],
   "source": [
    "param_name = 'clf__min_impurity_split'\n",
    "param_range = [0, 0.1, 0.2, 0.3, 0.4, 0.5, 0.6]\n",
    "plot_validation_curve(pipe_dt_3, X_train_undersample, y_train_undersample, param_name, param_range, \n",
    "                      'min_impurity_split', [0.0, 0.8], scoring=\"f1\")"
   ]
  },
  {
   "cell_type": "code",
   "execution_count": 87,
   "metadata": {
    "collapsed": true
   },
   "outputs": [],
   "source": [
    "pipe_dt_3 = Pipeline([('scl', StandardScaler()), ('pca', PCA(n_components=2)), \n",
    "                       ('clf', DecisionTreeClassifier(criterion='gini', min_impurity_split=0.4, max_depth=15, \n",
    "                                                      min_samples_leaf=10, class_weight='balanced', random_state=2))])"
   ]
  },
  {
   "cell_type": "code",
   "execution_count": 90,
   "metadata": {},
   "outputs": [
    {
     "name": "stdout",
     "output_type": "stream",
     "text": [
      "[ 0.76855654  0.74883444  0.74444103  0.74182613  0.73932793  0.73711481\n",
      "  0.73917598  0.74042705  0.74472277  0.74141582]\n"
     ]
    },
    {
     "data": {
      "image/png": "[encoded data removed]",
      "text/plain": [
       "<matplotlib.figure.Figure at 0x25b813a69b0>"
      ]
     },
     "metadata": {},
     "output_type": "display_data"
    }
   ],
   "source": [
    "plot_learning_curve(pipe_dt_3, X_train_undersample, y_train_undersample, train_sizes=np.linspace(0.1, 1.0, 10), ylim=[0.5, 0.9])"
   ]
  },
  {
   "cell_type": "code",
   "execution_count": 91,
   "metadata": {},
   "outputs": [
    {
     "data": {
      "text/plain": [
       "Pipeline(steps=[('scl', StandardScaler(copy=True, with_mean=True, with_std=True)), ('pca', PCA(copy=True, iterated_power='auto', n_components=2, random_state=None,\n",
       "  svd_solver='auto', tol=0.0, whiten=False)), ('clf', DecisionTreeClassifier(class_weight='balanced', criterion='gini',\n",
       "            max_depth=15,...split=2, min_weight_fraction_leaf=0.0,\n",
       "            presort=False, random_state=2, splitter='best'))])"
      ]
     },
     "execution_count": 91,
     "metadata": {},
     "output_type": "execute_result"
    }
   ],
   "source": [
    "pipe_dt_3"
   ]
  },
  {
   "cell_type": "code",
   "execution_count": 93,
   "metadata": {},
   "outputs": [
    {
     "name": "stdout",
     "output_type": "stream",
     "text": [
      "Querying with the best model took 0.005515 seconds.\n",
      "3982\n",
      "[[1432  616]\n",
      " [ 684 1250]]\n"
     ]
    },
    {
     "data": {
      "image/png": "[encoded data removed]",
      "text/plain": [
       "<matplotlib.figure.Figure at 0x25b835e3eb8>"
      ]
     },
     "metadata": {},
     "output_type": "display_data"
    },
    {
     "name": "stdout",
     "output_type": "stream",
     "text": [
      "Precision: 0.670\n",
      "Recall: 0.646\n",
      "F1: 0.658\n",
      "ROC AUC: 0.673\n",
      "Accuracy: 0.674\n",
      "-----------------------------------------\n",
      "             precision    recall  f1-score   support\n",
      "\n",
      "          0       0.68      0.70      0.69      2048\n",
      "          1       0.67      0.65      0.66      1934\n",
      "\n",
      "avg / total       0.67      0.67      0.67      3982\n",
      "\n"
     ]
    }
   ],
   "source": [
    "pipe_dt_3.fit(X_train_undersample, y_train_undersample)\n",
    "evaluation(pipe_dt_3, X_test_undersample, y_test_undersample)"
   ]
  },
  {
   "cell_type": "raw",
   "metadata": {},
   "source": [
    "(2) Using Emsemble method with Adaboost"
   ]
  },
  {
   "cell_type": "code",
   "execution_count": 75,
   "metadata": {},
   "outputs": [
    {
     "name": "stdout",
     "output_type": "stream",
     "text": [
      "pipe_ada_1 Cross_validation f1 scores: [ 0.61392405  0.56599553  0.6125      0.62403528  0.61189189  0.61422414\n",
      "  0.58461538  0.56531532  0.57653631  0.58112407]\n",
      "pipe_ada_1 Cross_validation f1 socre: 0.595 +/- 0.021\n"
     ]
    }
   ],
   "source": [
    "# Step 1: initiate pipeline and hyperparameter tunning and model selection\n",
    "\n",
    "from sklearn.ensemble import AdaBoostClassifier\n",
    "# Initiate a pipeline (base model) with a StandardScaler, a PCA transformer, \n",
    "# and a Adaboost classifier using a decision tress stump with \"gini\" and other default parameter\n",
    "pipe_ada_1 = Pipeline([('scl', StandardScaler()), ('pca', PCA(n_components=2)),  \n",
    "                    ('ada', AdaBoostClassifier(base_estimator=DecisionTreeClassifier(criterion='gini'), \n",
    "                    random_state=2))])\n",
    "\n",
    "# Using stratified k-fold cross-validation to assess base model performance\n",
    "scores = cross_val_score(estimator=pipe_ada_1, X=X_train_undersample, y=y_train_undersample, cv=10, n_jobs=1, scoring=\"f1\")\n",
    "print('pipe_ada_1 Cross_validation f1 scores: %s' % (scores))\n",
    "print('pipe_ada_1 Cross_validation f1 socre: %.3f +/- %.3f' % (np.mean(scores), np.std(scores)))"
   ]
  },
  {
   "cell_type": "code",
   "execution_count": 96,
   "metadata": {},
   "outputs": [
    {
     "name": "stdout",
     "output_type": "stream",
     "text": [
      "GridSearchCV took 2733.29 seconds for 250 candidate parameter settings.\n",
      "Model with rank: 1\n",
      "Mean validation score: 0.658 (std: 0.009)\n",
      "Parameters: {'ada__learning_rate': 0.3, 'ada__n_estimators': 500, 'ada__base_estimator__max_depth': 1}\n",
      "\n",
      "Model with rank: 2\n",
      "Mean validation score: 0.658 (std: 0.008)\n",
      "Parameters: {'ada__learning_rate': 0.5, 'ada__n_estimators': 450, 'ada__base_estimator__max_depth': 1}\n",
      "\n",
      "Model with rank: 3\n",
      "Mean validation score: 0.658 (std: 0.009)\n",
      "Parameters: {'ada__learning_rate': 1.0, 'ada__n_estimators': 500, 'ada__base_estimator__max_depth': 1}\n",
      "\n",
      "Model with rank: 4\n",
      "Mean validation score: 0.657 (std: 0.008)\n",
      "Parameters: {'ada__learning_rate': 0.5, 'ada__n_estimators': 350, 'ada__base_estimator__max_depth': 1}\n",
      "\n",
      "Model with rank: 5\n",
      "Mean validation score: 0.657 (std: 0.008)\n",
      "Parameters: {'ada__learning_rate': 0.5, 'ada__n_estimators': 500, 'ada__base_estimator__max_depth': 1}\n",
      "\n",
      "Training with the best model took 8.076849 seconds.\n"
     ]
    }
   ],
   "source": [
    "# Tuning parameters: \n",
    "# (1) n_estimators : integer, optional (default=50), we choose to tune from 20-80;\n",
    "# The maximum number of estimators at which boosting is terminated. In case of perfect fit, the learning procedure is stopped early.\n",
    "# (2) ada__base_estimator__max_depth: [1, 3, 5, 7, 9]\n",
    "# (3) ada__learning_rate\n",
    "param_grid_ada = {\"ada__n_estimators\": range(50,501,50),\n",
    "              \"ada__base_estimator__max_depth\": [1, 5, 9, 13, 17],\n",
    "              \"ada__learning_rate\": [0.001, 0.01, 0.3, 0.5, 1.0]\n",
    "             }\n",
    "pipe_ada_2 = find_best_model(pipe_ada_1, X_train_undersample, y_train_undersample, param_grid=param_grid_ada, scoring='f1', cv=10, n_jobs=-1)"
   ]
  },
  {
   "cell_type": "code",
   "execution_count": 97,
   "metadata": {},
   "outputs": [
    {
     "data": {
      "text/plain": [
       "Pipeline(steps=[('scl', StandardScaler(copy=True, with_mean=True, with_std=True)), ('pca', PCA(copy=True, iterated_power='auto', n_components=2, random_state=None,\n",
       "  svd_solver='auto', tol=0.0, whiten=False)), ('ada', AdaBoostClassifier(algorithm='SAMME.R',\n",
       "          base_estimator=DecisionTreeClassifier(cla...andom_state=None, splitter='best'),\n",
       "          learning_rate=0.3, n_estimators=500, random_state=2))])"
      ]
     },
     "execution_count": 97,
     "metadata": {},
     "output_type": "execute_result"
    }
   ],
   "source": [
    "# The best model\n",
    "pipe_ada_2"
   ]
  },
  {
   "cell_type": "code",
   "execution_count": 98,
   "metadata": {},
   "outputs": [
    {
     "name": "stdout",
     "output_type": "stream",
     "text": [
      "Querying with the best model took 0.884357 seconds.\n",
      "3982\n",
      "[[1573  475]\n",
      " [ 767 1167]]\n"
     ]
    },
    {
     "data": {
      "image/png": "[encoded data removed]",
      "text/plain": [
       "<matplotlib.figure.Figure at 0x25b8362de80>"
      ]
     },
     "metadata": {},
     "output_type": "display_data"
    },
    {
     "name": "stdout",
     "output_type": "stream",
     "text": [
      "Precision: 0.711\n",
      "Recall: 0.603\n",
      "F1: 0.653\n",
      "ROC AUC: 0.686\n",
      "Accuracy: 0.688\n",
      "-----------------------------------------\n",
      "             precision    recall  f1-score   support\n",
      "\n",
      "          0       0.67      0.77      0.72      2048\n",
      "          1       0.71      0.60      0.65      1934\n",
      "\n",
      "avg / total       0.69      0.69      0.69      3982\n",
      "\n"
     ]
    }
   ],
   "source": [
    "evaluation(pipe_ada_2, X_test_undersample, y_test_undersample)"
   ]
  },
  {
   "cell_type": "code",
   "execution_count": 103,
   "metadata": {},
   "outputs": [
    {
     "data": {
      "text/plain": [
       "<module 'matplotlib.pyplot' from 'C:\\\\Users\\\\Eric Liao\\\\Anaconda3\\\\lib\\\\site-packages\\\\matplotlib\\\\pyplot.py'>"
      ]
     },
     "execution_count": 103,
     "metadata": {},
     "output_type": "execute_result"
    },
    {
     "data": {
      "image/png": "[encoded data removed]",
      "text/plain": [
       "<matplotlib.figure.Figure at 0x25b83560f28>"
      ]
     },
     "metadata": {},
     "output_type": "display_data"
    }
   ],
   "source": [
    "param_name = 'ada__n_estimators'\n",
    "param_range = range(50,501,50)\n",
    "plot_validation_curve(pipe_ada_2, X_train_undersample, y_train_undersample, param_name, param_range, \n",
    "                      \"n_estimator\", [0.5, 0.8], 5, scoring=\"f1\")"
   ]
  },
  {
   "cell_type": "code",
   "execution_count": 76,
   "metadata": {},
   "outputs": [],
   "source": [
    "pipe_ada_3 = Pipeline([('scl', StandardScaler()), ('pca', PCA(n_components=2)),  \n",
    "                    ('ada', AdaBoostClassifier(base_estimator=DecisionTreeClassifier(criterion='gini', max_depth=1), \n",
    "                    learning_rate=0.3, n_estimators=500,         \n",
    "                    random_state=2))])"
   ]
  },
  {
   "cell_type": "code",
   "execution_count": 77,
   "metadata": {},
   "outputs": [
    {
     "data": {
      "text/plain": [
       "Pipeline(steps=[('scl', StandardScaler(copy=True, with_mean=True, with_std=True)), ('pca', PCA(copy=True, iterated_power='auto', n_components=2, random_state=None,\n",
       "  svd_solver='auto', tol=0.0, whiten=False)), ('ada', AdaBoostClassifier(algorithm='SAMME.R',\n",
       "          base_estimator=DecisionTreeClassifier(cla...andom_state=None, splitter='best'),\n",
       "          learning_rate=0.3, n_estimators=500, random_state=2))])"
      ]
     },
     "execution_count": 77,
     "metadata": {},
     "output_type": "execute_result"
    }
   ],
   "source": [
    "pipe_ada_3"
   ]
  },
  {
   "cell_type": "code",
   "execution_count": 78,
   "metadata": {},
   "outputs": [
    {
     "data": {
      "text/plain": [
       "Pipeline(steps=[('scl', StandardScaler(copy=True, with_mean=True, with_std=True)), ('pca', PCA(copy=True, iterated_power='auto', n_components=2, random_state=None,\n",
       "  svd_solver='auto', tol=0.0, whiten=False)), ('ada', AdaBoostClassifier(algorithm='SAMME.R',\n",
       "          base_estimator=DecisionTreeClassifier(cla...andom_state=None, splitter='best'),\n",
       "          learning_rate=0.3, n_estimators=500, random_state=2))])"
      ]
     },
     "execution_count": 78,
     "metadata": {},
     "output_type": "execute_result"
    }
   ],
   "source": [
    "pipe_ada_3.fit(X_train_undersample, y_train_undersample)"
   ]
  },
  {
   "cell_type": "code",
   "execution_count": 106,
   "metadata": {},
   "outputs": [
    {
     "data": {
      "text/plain": [
       "<module 'matplotlib.pyplot' from 'C:\\\\Users\\\\Eric Liao\\\\Anaconda3\\\\lib\\\\site-packages\\\\matplotlib\\\\pyplot.py'>"
      ]
     },
     "execution_count": 106,
     "metadata": {},
     "output_type": "execute_result"
    },
    {
     "data": {
      "image/png": "[encoded data removed]",
      "text/plain": [
       "<matplotlib.figure.Figure at 0x25b835ddfd0>"
      ]
     },
     "metadata": {},
     "output_type": "display_data"
    }
   ],
   "source": [
    "param_name = 'ada__base_estimator__max_depth'\n",
    "param_range = [1, 5, 10, 15, 20, 25]\n",
    "plot_validation_curve(pipe_ada_3, X_train_undersample, y_train_undersample, param_name, param_range, \n",
    "                      \"max_depth\", [0.5, 1.05], 3, scoring=\"f1\")"
   ]
  },
  {
   "cell_type": "code",
   "execution_count": 112,
   "metadata": {},
   "outputs": [
    {
     "data": {
      "text/plain": [
       "<module 'matplotlib.pyplot' from 'C:\\\\Users\\\\Eric Liao\\\\Anaconda3\\\\lib\\\\site-packages\\\\matplotlib\\\\pyplot.py'>"
      ]
     },
     "execution_count": 112,
     "metadata": {},
     "output_type": "execute_result"
    },
    {
     "data": {
      "image/png": "[encoded data removed]",
      "text/plain": [
       "<matplotlib.figure.Figure at 0x25b8363c780>"
      ]
     },
     "metadata": {},
     "output_type": "display_data"
    }
   ],
   "source": [
    "param_name = 'ada__learning_rate'\n",
    "param_range = [0.001, 0.01, 0.3, 0.5, 0.7, 1.0]\n",
    "plot_validation_curve(pipe_ada_3, X_train_undersample, y_train_undersample, param_name, param_range, \n",
    "                      \"learning_rate\", [0.50, 1.05], 3, scoring=\"f1\")"
   ]
  },
  {
   "cell_type": "raw",
   "metadata": {},
   "source": [
    "The performance of random forests with adaboost is improved compared with decision tree alone."
   ]
  },
  {
   "cell_type": "code",
   "execution_count": 79,
   "metadata": {},
   "outputs": [
    {
     "name": "stdout",
     "output_type": "stream",
     "text": [
      "[ 0.74580401  0.67714573  0.66893495  0.66939705  0.65867158  0.65568556\n",
      "  0.65965421  0.65620462  0.65995747  0.66547438]\n"
     ]
    },
    {
     "data": {
      "image/png": "[encoded data removed]",
      "text/plain": [
       "<matplotlib.figure.Figure at 0x20aa9b29278>"
      ]
     },
     "metadata": {},
     "output_type": "display_data"
    }
   ],
   "source": [
    "plot_learning_curve(pipe_ada_3, X_train_undersample, y_train_undersample, train_sizes=np.linspace(0.1, 1.0, 10), ylim=[0.5, 1.0])"
   ]
  },
  {
   "cell_type": "raw",
   "metadata": {},
   "source": [
    "(3) Using KNN"
   ]
  },
  {
   "cell_type": "code",
   "execution_count": 81,
   "metadata": {},
   "outputs": [
    {
     "name": "stdout",
     "output_type": "stream",
     "text": [
      "pipe_knn_1 Cross_validation f1 scores: [ 0.65542677  0.66244726  0.67153285  0.63351351  0.6434024   0.67785939\n",
      "  0.63225806  0.62168142  0.64142539  0.64270153]\n",
      "pipe_knn_1 Cross_validation f1: 0.648 +/- 0.017\n"
     ]
    }
   ],
   "source": [
    "# Step 1: initiate pipeline and hyperparameter tunning and model selection\n",
    "\n",
    "from sklearn.neighbors import KNeighborsClassifier\n",
    "# Initiate a pipeline (base model) with a StandardScaler, a PCA transformer, \n",
    "# and a KNeighborsClassifier using default parameter\n",
    "pipe_knn_1 = Pipeline([('scl', StandardScaler()), ('pca', PCA(n_components=2)),  \n",
    "                    ('knn', KNeighborsClassifier())])\n",
    "\n",
    "# Using stratified k-fold cross-validation to assess base model performance\n",
    "scores = cross_val_score(estimator=pipe_knn_1, X=X_train_undersample, y=y_train_undersample, cv=10, n_jobs=1, scoring=\"f1\")\n",
    "print('pipe_knn_1 Cross_validation f1 scores: %s' % (scores))\n",
    "print('pipe_knn_1 Cross_validation f1: %.3f +/- %.3f' % (np.mean(scores), np.std(scores)))"
   ]
  },
  {
   "cell_type": "code",
   "execution_count": 82,
   "metadata": {},
   "outputs": [
    {
     "name": "stdout",
     "output_type": "stream",
     "text": [
      "GridSearchCV took 245.29 seconds for 120 candidate parameter settings.\n",
      "Model with rank: 1\n",
      "Mean validation score: 0.669 (std: 0.014)\n",
      "Parameters: {'knn__n_neighbors': 27, 'knn__weights': 'uniform', 'knn__algorithm': 'auto'}\n",
      "\n",
      "Model with rank: 1\n",
      "Mean validation score: 0.669 (std: 0.014)\n",
      "Parameters: {'knn__n_neighbors': 27, 'knn__weights': 'uniform', 'knn__algorithm': 'ball_tree'}\n",
      "\n",
      "Model with rank: 1\n",
      "Mean validation score: 0.669 (std: 0.014)\n",
      "Parameters: {'knn__n_neighbors': 27, 'knn__weights': 'uniform', 'knn__algorithm': 'kd_tree'}\n",
      "\n",
      "Model with rank: 1\n",
      "Mean validation score: 0.669 (std: 0.014)\n",
      "Parameters: {'knn__n_neighbors': 27, 'knn__weights': 'uniform', 'knn__algorithm': 'brute'}\n",
      "\n",
      "Model with rank: 5\n",
      "Mean validation score: 0.668 (std: 0.016)\n",
      "Parameters: {'knn__n_neighbors': 25, 'knn__weights': 'uniform', 'knn__algorithm': 'auto'}\n",
      "\n",
      "Model with rank: 5\n",
      "Mean validation score: 0.668 (std: 0.016)\n",
      "Parameters: {'knn__n_neighbors': 25, 'knn__weights': 'uniform', 'knn__algorithm': 'ball_tree'}\n",
      "\n",
      "Model with rank: 5\n",
      "Mean validation score: 0.668 (std: 0.016)\n",
      "Parameters: {'knn__n_neighbors': 25, 'knn__weights': 'uniform', 'knn__algorithm': 'kd_tree'}\n",
      "\n",
      "Model with rank: 5\n",
      "Mean validation score: 0.668 (std: 0.016)\n",
      "Parameters: {'knn__n_neighbors': 25, 'knn__weights': 'uniform', 'knn__algorithm': 'brute'}\n",
      "\n",
      "Training with the best model took 0.039604 seconds.\n"
     ]
    }
   ],
   "source": [
    "# Tuning parameters: \n",
    "# (1) n_neighbors : int, optional (default = 5), Number of neighbors to use by default for kneighbors queries\n",
    "# (2) weights : str or callable, optional (default = ‘uniform’)\n",
    "# weight function used in prediction. Possible values:\n",
    "# ‘uniform’ : uniform weights. All points in each neighborhood are weighted equally.\n",
    "# ‘distance’ : weight points by the inverse of their distance. in this case, closer neighbors of a query point will have a greater influence than neighbors which are further away.\n",
    "# [callable] : a user-defined function which accepts an array of distances, and returns an array of the same shape containing the weights.\n",
    "# (3) metric : string or callable, default ‘minkowski’, 'knn__metric': [\"euclidean\", \"manhattan\", \"minkowski\"]\n",
    "# the distance metric to use for the tree. The default metric is minkowski, and with p=2 is equivalent to the standard Euclidean metric. See the documentation of the DistanceMetric class for a list of available metrics.\n",
    "param_grid_knn = {\"knn__n_neighbors\": np.arange(1, 31, 2), \"knn__weights\": ['uniform', 'distance'], \n",
    "              \"knn__algorithm\": ['auto', 'ball_tree', 'kd_tree', 'brute']}\n",
    "pipe_knn_2 = find_best_model(pipe_knn_1, X_train_undersample, y_train_undersample, param_grid=param_grid_knn, \n",
    "                             scoring='f1', cv=10, n_jobs=-1)"
   ]
  },
  {
   "cell_type": "code",
   "execution_count": 83,
   "metadata": {},
   "outputs": [
    {
     "data": {
      "text/plain": [
       "Pipeline(steps=[('scl', StandardScaler(copy=True, with_mean=True, with_std=True)), ('pca', PCA(copy=True, iterated_power='auto', n_components=2, random_state=None,\n",
       "  svd_solver='auto', tol=0.0, whiten=False)), ('knn', KNeighborsClassifier(algorithm='auto', leaf_size=30, metric='minkowski',\n",
       "           metric_params=None, n_jobs=1, n_neighbors=27, p=2,\n",
       "           weights='uniform'))])"
      ]
     },
     "execution_count": 83,
     "metadata": {},
     "output_type": "execute_result"
    }
   ],
   "source": [
    "pipe_knn_2"
   ]
  },
  {
   "cell_type": "code",
   "execution_count": null,
   "metadata": {
    "collapsed": true
   },
   "outputs": [],
   "source": []
  },
  {
   "cell_type": "code",
   "execution_count": 84,
   "metadata": {
    "collapsed": true
   },
   "outputs": [],
   "source": [
    "# use the best parameter \n",
    "pipe_knn_3 = Pipeline(steps=[('scl', StandardScaler(copy=True, with_mean=True, with_std=True)), ('pca', PCA(copy=True, iterated_power='auto', n_components=2, random_state=None,\n",
    "  svd_solver='auto', tol=0.0, whiten=False)), ('knn', KNeighborsClassifier(algorithm='auto', leaf_size=30, metric='minkowski',\n",
    "           metric_params=None, n_jobs=-1, n_neighbors=27, p=2,\n",
    "           weights='uniform'))])"
   ]
  },
  {
   "cell_type": "code",
   "execution_count": 85,
   "metadata": {},
   "outputs": [
    {
     "data": {
      "text/plain": [
       "<module 'matplotlib.pyplot' from 'C:\\\\Users\\\\Eric Liao\\\\Anaconda3\\\\lib\\\\site-packages\\\\matplotlib\\\\pyplot.py'>"
      ]
     },
     "execution_count": 85,
     "metadata": {},
     "output_type": "execute_result"
    },
    {
     "data": {
      "image/png": "[encoded data removed]",
      "text/plain": [
       "<matplotlib.figure.Figure at 0x20aa8f5cb70>"
      ]
     },
     "metadata": {},
     "output_type": "display_data"
    }
   ],
   "source": [
    "param_name_knn = 'knn__n_neighbors'\n",
    "param_range = np.arange(1, 31, 2)\n",
    "plot_validation_curve(pipe_knn_3, X_train_undersample, y_train_undersample, param_name_knn, param_range, \n",
    "                      \"knn__n_neighbors\", [0.5, 1.05], scoring=\"f1\")"
   ]
  },
  {
   "cell_type": "code",
   "execution_count": 86,
   "metadata": {},
   "outputs": [
    {
     "name": "stdout",
     "output_type": "stream",
     "text": [
      "[ 0.68505511  0.66049311  0.6705735   0.66991816  0.67992164  0.68410715\n",
      "  0.68559781  0.68759003  0.69037928  0.68963844]\n"
     ]
    },
    {
     "data": {
      "image/png": "[encoded data removed]",
      "text/plain": [
       "<matplotlib.figure.Figure at 0x20aa4c1bf28>"
      ]
     },
     "metadata": {},
     "output_type": "display_data"
    }
   ],
   "source": [
    "plot_learning_curve(pipe_knn_3, X=X_train_undersample, y=y_train_undersample, train_sizes=np.linspace(0.01, 1.0, 10), ylim=[0.5, 1.05])"
   ]
  },
  {
   "cell_type": "code",
   "execution_count": 87,
   "metadata": {},
   "outputs": [
    {
     "data": {
      "text/plain": [
       "Pipeline(steps=[('scl', StandardScaler(copy=True, with_mean=True, with_std=True)), ('pca', PCA(copy=True, iterated_power='auto', n_components=2, random_state=None,\n",
       "  svd_solver='auto', tol=0.0, whiten=False)), ('knn', KNeighborsClassifier(algorithm='auto', leaf_size=30, metric='minkowski',\n",
       "           metric_params=None, n_jobs=-1, n_neighbors=29, p=2,\n",
       "           weights='uniform'))])"
      ]
     },
     "execution_count": 87,
     "metadata": {},
     "output_type": "execute_result"
    }
   ],
   "source": [
    "pipe_knn_3.fit(X_train_undersample, y_train_undersample)"
   ]
  },
  {
   "cell_type": "code",
   "execution_count": 88,
   "metadata": {},
   "outputs": [
    {
     "name": "stdout",
     "output_type": "stream",
     "text": [
      "Querying with the best model took 0.139863 seconds.\n",
      "3982\n",
      "[[1497  551]\n",
      " [ 713 1221]]\n"
     ]
    },
    {
     "data": {
      "image/png": "[encoded data removed]",
      "text/plain": [
       "<matplotlib.figure.Figure at 0x20aa8f5c7b8>"
      ]
     },
     "metadata": {},
     "output_type": "display_data"
    },
    {
     "name": "stdout",
     "output_type": "stream",
     "text": [
      "Precision: 0.689\n",
      "Recall: 0.631\n",
      "F1: 0.659\n",
      "ROC AUC: 0.681\n",
      "Accuracy: 0.683\n",
      "-----------------------------------------\n",
      "             precision    recall  f1-score   support\n",
      "\n",
      "          0       0.68      0.73      0.70      2048\n",
      "          1       0.69      0.63      0.66      1934\n",
      "\n",
      "avg / total       0.68      0.68      0.68      3982\n",
      "\n"
     ]
    }
   ],
   "source": [
    "evaluation(pipe_knn_3, X_test_undersample, y_test_undersample)"
   ]
  },
  {
   "cell_type": "raw",
   "metadata": {},
   "source": [
    "(4) Using Support Vector Machines"
   ]
  },
  {
   "cell_type": "code",
   "execution_count": 106,
   "metadata": {},
   "outputs": [
    {
     "name": "stdout",
     "output_type": "stream",
     "text": [
      "pipe_svc_1 Cross_validation f1 scores: [ 0.64647641  0.65602837  0.644589    0.59658011  0.64      ]\n",
      "pipe_svc_1 Cross_validation f1: 0.637 +/- 0.021\n"
     ]
    }
   ],
   "source": [
    "# Step 1: initiate pipeline and hyperparameter tunning and model selection\n",
    "\n",
    "from sklearn.svm import SVC\n",
    "# Initiate a pipeline (base model) with a StandardScaler, a PCA transformer, \n",
    "# and a C-Support Vector Classification using default parameter\n",
    "pipe_svc_1 = Pipeline([('scl', StandardScaler()), ('pca', PCA(n_components=2)),  \n",
    "                    ('svc', SVC(random_state=2))])\n",
    "\n",
    "# Using stratified k-fold cross-validation to assess base model performance\n",
    "scores = cross_val_score(estimator=pipe_svc_1, X=X_train_undersample, y=y_train_undersample, cv=5, n_jobs=1, scoring=\"f1\")\n",
    "print('pipe_svc_1 Cross_validation f1 scores: %s' % (scores))\n",
    "print('pipe_svc_1 Cross_validation f1: %.3f +/- %.3f' % (np.mean(scores), np.std(scores)))"
   ]
  },
  {
   "cell_type": "code",
   "execution_count": null,
   "metadata": {
    "collapsed": true
   },
   "outputs": [],
   "source": [
    "# Tuning parameters: \n",
    "# (1) svc__gamma : float, optional (default=’auto’)\n",
    "# Kernel coefficient for ‘rbf’, ‘poly’ and ‘sigmoid’. If gamma is ‘auto’ then 1/n_features will be used instead.\n",
    "# (2) svc__C :  float, optional (default=1.0); Penalty parameter C of the error term.\n",
    "# (3) svc__kernel : Specifies the kernel type to be used in the algorithm. It must be one of ‘linear’, ‘poly’, ‘rbf’, ‘sigmoid’, ‘precomputed’ \n",
    "# or a callable. If none is given, ‘rbf’ will be used. If a callable is given it is used to pre-compute the kernel matrix from data matrices; \n",
    "# that matrix should be an array of shape (n_samples, n_samples).\n",
    "# Reference: http://scikit-learn.org/stable/auto_examples/svm/plot_rbf_parameters.html\n",
    "\n",
    "param_grid_svc = {'svc__C': np.logspace(-2, 10, 13), 'svc__gamma': np.logspace(-9, 3, 13), \n",
    "              'svc__kernel': ['linear', 'rbf', 'poly', 'sigmoid']}\n",
    "pipe_svc_2 = find_best_model(pipe_svc_1, X_train_undersample, y_train_undersample, param_grid=param_grid_svc, scoring='f1', cv=5, n_jobs=-1)"
   ]
  },
  {
   "cell_type": "code",
   "execution_count": 107,
   "metadata": {},
   "outputs": [
    {
     "name": "stdout",
     "output_type": "stream",
     "text": [
      "RandomizedSearchCV took 1073.54 seconds for 20 candidate parameter settings.\n",
      "Model with rank: 1\n",
      "Mean validation score: 0.630 (std: 0.004)\n",
      "Parameters: {'svc__C': 263.95675703465685, 'svc__class_weight': None, 'svc__kernel': 'linear', 'svc__gamma': 0.12329586206074102}\n",
      "\n",
      "Model with rank: 2\n",
      "Mean validation score: 0.629 (std: 0.005)\n",
      "Parameters: {'svc__C': 171.03046654258947, 'svc__class_weight': None, 'svc__kernel': 'linear', 'svc__gamma': 0.11650788902694298}\n",
      "\n",
      "Model with rank: 3\n",
      "Mean validation score: 0.627 (std: 0.006)\n",
      "Parameters: {'svc__C': 230.64069040718297, 'svc__class_weight': 'balanced', 'svc__kernel': 'linear', 'svc__gamma': 0.023846536274412439}\n",
      "\n",
      "Model with rank: 4\n",
      "Mean validation score: 0.627 (std: 0.006)\n",
      "Parameters: {'svc__C': 16.529322510240309, 'svc__class_weight': 'balanced', 'svc__kernel': 'linear', 'svc__gamma': 0.038045036144873798}\n",
      "\n",
      "Model with rank: 5\n",
      "Mean validation score: 0.626 (std: 0.012)\n",
      "Parameters: {'svc__C': 103.16971874149291, 'svc__gamma': 0.10038694058262865, 'svc__kernel': 'rbf', 'svc__class_weight': None}\n",
      "\n",
      "Training with the best model took 267.157181 seconds.\n"
     ]
    }
   ],
   "source": [
    "# Tuning parameters:\n",
    "# Use randomsearchCV to do a Randomized Parameter Optimization to save computation time.\n",
    "import scipy\n",
    "param_grid_svc_random = {'svc__C': scipy.stats.expon(scale=100), 'svc__gamma': scipy.stats.expon(scale=.1),\n",
    "  'svc__kernel': ['linear', 'rbf', 'poly', 'sigmoid'], 'svc__class_weight':['balanced', None]}\n",
    "\n",
    "pipe_svc_3 = find_best_model_random_search(pipe_svc_1, X_train_undersample, y_train_undersample, \n",
    "                                           param_grid=param_grid_svc_random, n_iter=20, scoring='f1', cv=5, n_jobs=-1)"
   ]
  },
  {
   "cell_type": "code",
   "execution_count": 109,
   "metadata": {},
   "outputs": [
    {
     "data": {
      "text/plain": [
       "{'pca': PCA(copy=True, iterated_power='auto', n_components=2, random_state=None,\n",
       "   svd_solver='auto', tol=0.0, whiten=False),\n",
       " 'pca__copy': True,\n",
       " 'pca__iterated_power': 'auto',\n",
       " 'pca__n_components': 2,\n",
       " 'pca__random_state': None,\n",
       " 'pca__svd_solver': 'auto',\n",
       " 'pca__tol': 0.0,\n",
       " 'pca__whiten': False,\n",
       " 'scl': StandardScaler(copy=True, with_mean=True, with_std=True),\n",
       " 'scl__copy': True,\n",
       " 'scl__with_mean': True,\n",
       " 'scl__with_std': True,\n",
       " 'steps': [('scl', StandardScaler(copy=True, with_mean=True, with_std=True)),\n",
       "  ('pca',\n",
       "   PCA(copy=True, iterated_power='auto', n_components=2, random_state=None,\n",
       "     svd_solver='auto', tol=0.0, whiten=False)),\n",
       "  ('svc',\n",
       "   SVC(C=263.95675703465685, cache_size=200, class_weight=None, coef0=0.0,\n",
       "     decision_function_shape=None, degree=3, gamma=0.12329586206074102,\n",
       "     kernel='linear', max_iter=-1, probability=False, random_state=2,\n",
       "     shrinking=True, tol=0.001, verbose=False))],\n",
       " 'svc': SVC(C=263.95675703465685, cache_size=200, class_weight=None, coef0=0.0,\n",
       "   decision_function_shape=None, degree=3, gamma=0.12329586206074102,\n",
       "   kernel='linear', max_iter=-1, probability=False, random_state=2,\n",
       "   shrinking=True, tol=0.001, verbose=False),\n",
       " 'svc__C': 263.95675703465685,\n",
       " 'svc__cache_size': 200,\n",
       " 'svc__class_weight': None,\n",
       " 'svc__coef0': 0.0,\n",
       " 'svc__decision_function_shape': None,\n",
       " 'svc__degree': 3,\n",
       " 'svc__gamma': 0.12329586206074102,\n",
       " 'svc__kernel': 'linear',\n",
       " 'svc__max_iter': -1,\n",
       " 'svc__probability': False,\n",
       " 'svc__random_state': 2,\n",
       " 'svc__shrinking': True,\n",
       " 'svc__tol': 0.001,\n",
       " 'svc__verbose': False}"
      ]
     },
     "execution_count": 109,
     "metadata": {},
     "output_type": "execute_result"
    }
   ],
   "source": [
    "pipe_svc_3.get_params()"
   ]
  },
  {
   "cell_type": "code",
   "execution_count": 110,
   "metadata": {
    "collapsed": true
   },
   "outputs": [],
   "source": [
    "# set best parameter for SVM.\n",
    "\n",
    "pipe_svc_4 = Pipeline([('scl', StandardScaler()), ('pca', PCA(n_components=2)),  \n",
    "                    ('svc', SVC(C=263.95675703465685, cache_size=200, class_weight=None, coef0=0.0,\n",
    "     decision_function_shape=None, degree=3, gamma=0.12329586206074102,\n",
    "     kernel='linear', max_iter=-1, probability=False, random_state=2,\n",
    "     shrinking=True, tol=0.001, verbose=False))])"
   ]
  },
  {
   "cell_type": "code",
   "execution_count": 111,
   "metadata": {},
   "outputs": [
    {
     "data": {
      "text/plain": [
       "Pipeline(steps=[('scl', StandardScaler(copy=True, with_mean=True, with_std=True)), ('pca', PCA(copy=True, iterated_power='auto', n_components=2, random_state=None,\n",
       "  svd_solver='auto', tol=0.0, whiten=False)), ('svc', SVC(C=263.95675703465685, cache_size=200, class_weight=None, coef0=0.0,\n",
       "  decision_function_shape=None, degree=3, gamma=0.12329586206074102,\n",
       "  kernel='linear', max_iter=-1, probability=False, random_state=2,\n",
       "  shrinking=True, tol=0.001, verbose=False))])"
      ]
     },
     "execution_count": 111,
     "metadata": {},
     "output_type": "execute_result"
    }
   ],
   "source": [
    "pipe_svc_4"
   ]
  },
  {
   "cell_type": "code",
   "execution_count": 112,
   "metadata": {},
   "outputs": [
    {
     "data": {
      "image/png": "[encoded data removed]",
      "text/plain": [
       "<matplotlib.figure.Figure at 0x20aa746b400>"
      ]
     },
     "metadata": {},
     "output_type": "display_data"
    }
   ],
   "source": [
    "# Validation curve of C for pipe_svc_1\n",
    "param_name = 'svc__C'\n",
    "param_range = np.logspace(-2, 10, 5)\n",
    "train_scores, test_scores = validation_curve(\n",
    "    pipe_svc_4, X=X_train_undersample, y=y_train_undersample, param_name=param_name, param_range=param_range,\n",
    "    cv=3, scoring=\"f1\", n_jobs=-1)\n",
    "train_scores_mean = np.mean(train_scores, axis=1)\n",
    "train_scores_std = np.std(train_scores, axis=1)\n",
    "test_scores_mean = np.mean(test_scores, axis=1)\n",
    "test_scores_std = np.std(test_scores, axis=1)\n",
    "\n",
    "# plt.title(\"Validation Curve with SVM\")\n",
    "plt.xlabel(\"C\")\n",
    "plt.ylabel(\"f1 score\")\n",
    "plt.ylim(0.5, 1.05)\n",
    "lw = 2\n",
    "plt.semilogx(param_range, train_scores_mean, label=\"Training score\",\n",
    "             color=\"darkorange\", lw=lw)\n",
    "plt.fill_between(param_range, train_scores_mean - train_scores_std,\n",
    "                 train_scores_mean + train_scores_std, alpha=0.2,\n",
    "                 color=\"darkorange\", lw=lw)\n",
    "plt.semilogx(param_range, test_scores_mean, label=\"Validation score\",\n",
    "             color=\"navy\", lw=lw)\n",
    "plt.fill_between(param_range, test_scores_mean - test_scores_std,\n",
    "                 test_scores_mean + test_scores_std, alpha=0.2,\n",
    "                 color=\"navy\", lw=lw)\n",
    "plt.legend(loc='lower right')\n",
    "plt.grid()\n",
    "plt.show()"
   ]
  },
  {
   "cell_type": "code",
   "execution_count": 113,
   "metadata": {},
   "outputs": [
    {
     "name": "stdout",
     "output_type": "stream",
     "text": [
      "[[ 0.63034224  0.63173906  0.62760506]\n",
      " [ 0.63023493  0.63230821  0.62743756]\n",
      " [ 0.63021632  0.63141892  0.62649777]\n",
      " [ 0.63044959  0.63209459  0.62758503]\n",
      " [ 0.63070116  0.63173906  0.62720274]]\n",
      "[[ 0.62898253  0.62683578  0.63287671]\n",
      " [ 0.62898253  0.62750334  0.63331049]\n",
      " [ 0.62851268  0.62616822  0.63305898]\n",
      " [ 0.62851268  0.62666667  0.63356164]\n",
      " [ 0.62898253  0.6263773   0.63237311]]\n"
     ]
    },
    {
     "data": {
      "image/png": "[encoded data removed]",
      "text/plain": [
       "<matplotlib.figure.Figure at 0x20aa7316b38>"
      ]
     },
     "metadata": {},
     "output_type": "display_data"
    }
   ],
   "source": [
    "param_name = 'svc__gamma'\n",
    "param_range = np.logspace(-5, 3, 5)\n",
    "train_scores, test_scores = validation_curve(\n",
    "    pipe_svc_4, X=X_train_undersample, y=y_train_undersample, param_name=param_name, param_range=param_range,\n",
    "    cv=3, scoring=\"f1\", n_jobs=-1)\n",
    "train_scores_mean = np.mean(train_scores, axis=1)\n",
    "print(train_scores)\n",
    "print(test_scores)\n",
    "train_scores_std = np.std(train_scores, axis=1)\n",
    "test_scores_mean = np.mean(test_scores, axis=1)\n",
    "test_scores_std = np.std(test_scores, axis=1)\n",
    "\n",
    "# plt.title(\"Validation Curve with SVM\")\n",
    "plt.xlabel(\"$\\gamma$\")\n",
    "plt.ylabel(\"f1 scores\")\n",
    "plt.ylim(0.5, 1.05)\n",
    "lw = 2\n",
    "plt.semilogx(param_range, train_scores_mean, label=\"Training score\",\n",
    "             color=\"darkorange\", lw=lw)\n",
    "plt.fill_between(param_range, train_scores_mean - train_scores_std,\n",
    "                 train_scores_mean + train_scores_std, alpha=0.2,\n",
    "                 color=\"darkorange\", lw=lw)\n",
    "plt.semilogx(param_range, test_scores_mean, label=\"Validation score\",\n",
    "             color=\"navy\", lw=lw)\n",
    "plt.fill_between(param_range, test_scores_mean - test_scores_std,\n",
    "                 test_scores_mean + test_scores_std, alpha=0.2,\n",
    "                 color=\"navy\", lw=lw)\n",
    "plt.legend(loc='lower right')\n",
    "plt.grid()\n",
    "plt.show()"
   ]
  },
  {
   "cell_type": "code",
   "execution_count": 114,
   "metadata": {},
   "outputs": [
    {
     "data": {
      "text/plain": [
       "Pipeline(steps=[('scl', StandardScaler(copy=True, with_mean=True, with_std=True)), ('pca', PCA(copy=True, iterated_power='auto', n_components=2, random_state=None,\n",
       "  svd_solver='auto', tol=0.0, whiten=False)), ('svc', SVC(C=263.95675703465685, cache_size=200, class_weight=None, coef0=0.0,\n",
       "  decision_function_shape=None, degree=3, gamma=0.12329586206074102,\n",
       "  kernel='linear', max_iter=-1, probability=False, random_state=2,\n",
       "  shrinking=True, tol=0.001, verbose=False))])"
      ]
     },
     "execution_count": 114,
     "metadata": {},
     "output_type": "execute_result"
    }
   ],
   "source": [
    "pipe_svc_4"
   ]
  },
  {
   "cell_type": "code",
   "execution_count": 115,
   "metadata": {},
   "outputs": [
    {
     "name": "stdout",
     "output_type": "stream",
     "text": [
      "[ 0.59506173  0.62448428  0.62236437  0.62958992  0.63021624  0.62844335\n",
      "  0.62522161  0.62913325  0.62919366  0.62980638]\n"
     ]
    },
    {
     "data": {
      "image/png": "[encoded data removed]",
      "text/plain": [
       "<matplotlib.figure.Figure at 0x20aa9b7c240>"
      ]
     },
     "metadata": {},
     "output_type": "display_data"
    }
   ],
   "source": [
    "plot_learning_curve(pipe_svc_4, X=X_train_undersample, y=y_train_undersample, train_sizes=np.linspace(0.01, 1.0, 10), \n",
    "                    cv=3, scoring='f1', ylim=[0.5, 0.8])\n"
   ]
  },
  {
   "cell_type": "code",
   "execution_count": 117,
   "metadata": {},
   "outputs": [
    {
     "data": {
      "text/plain": [
       "Pipeline(steps=[('scl', StandardScaler(copy=True, with_mean=True, with_std=True)), ('pca', PCA(copy=True, iterated_power='auto', n_components=2, random_state=None,\n",
       "  svd_solver='auto', tol=0.0, whiten=False)), ('svc', SVC(C=263.95675703465685, cache_size=200, class_weight=None, coef0=0.0,\n",
       "  decision_function_shape=None, degree=3, gamma=0.12329586206074102,\n",
       "  kernel='linear', max_iter=-1, probability=False, random_state=2,\n",
       "  shrinking=True, tol=0.001, verbose=False))])"
      ]
     },
     "execution_count": 117,
     "metadata": {},
     "output_type": "execute_result"
    }
   ],
   "source": [
    "pipe_svc_4.fit(X_train_undersample, y_train_undersample)"
   ]
  },
  {
   "cell_type": "code",
   "execution_count": 118,
   "metadata": {},
   "outputs": [
    {
     "name": "stdout",
     "output_type": "stream",
     "text": [
      "Querying with the best model took 0.755978 seconds.\n",
      "3982\n",
      "[[1451  597]\n",
      " [ 781 1153]]\n"
     ]
    },
    {
     "data": {
      "image/png": "[encoded data removed]",
      "text/plain": [
       "<matplotlib.figure.Figure at 0x20aa9b34c50>"
      ]
     },
     "metadata": {},
     "output_type": "display_data"
    },
    {
     "name": "stdout",
     "output_type": "stream",
     "text": [
      "Precision: 0.659\n",
      "Recall: 0.596\n",
      "F1: 0.626\n",
      "ROC AUC: 0.652\n",
      "Accuracy: 0.654\n",
      "-----------------------------------------\n",
      "             precision    recall  f1-score   support\n",
      "\n",
      "          0       0.65      0.71      0.68      2048\n",
      "          1       0.66      0.60      0.63      1934\n",
      "\n",
      "avg / total       0.65      0.65      0.65      3982\n",
      "\n"
     ]
    }
   ],
   "source": [
    "evaluation(pipe_svc_4, X_test_undersample, y_test_undersample)"
   ]
  },
  {
   "cell_type": "code",
   "execution_count": null,
   "metadata": {
    "collapsed": true
   },
   "outputs": [],
   "source": []
  },
  {
   "cell_type": "raw",
   "metadata": {},
   "source": [
    "(5) Using Neural Networks"
   ]
  },
  {
   "cell_type": "code",
   "execution_count": 89,
   "metadata": {},
   "outputs": [
    {
     "name": "stdout",
     "output_type": "stream",
     "text": [
      "pipe_nn_1 Cross_validation f1 scores: [ 0.63915094  0.67252747  0.66967306  0.64788732  0.66514286  0.65232975\n",
      "  0.62287105  0.62211422  0.65066026  0.65529842]\n",
      "pipe_nn_1 Cross_validation f1: 0.650 +/- 0.017\n"
     ]
    }
   ],
   "source": [
    "# Step 1: initiate pipeline and hyperparameter tunning and model selection\n",
    "\n",
    "from sklearn.neural_network import MLPClassifier\n",
    "from sklearn.preprocessing import StandardScaler\n",
    "from sklearn.decomposition import PCA\n",
    "from sklearn.pipeline import Pipeline\n",
    "\n",
    "# Initiate a pipeline (base model) with a StandardScaler, a PCA transformer, \n",
    "# and a Multi-layer Perceptron classifier using default parameter\n",
    "pipe_nn_1 = Pipeline([('scl', StandardScaler()), ('pca', PCA(n_components=2)),  \n",
    "                    ('nn', MLPClassifier(random_state=2))])\n",
    "\n",
    "# Using stratified k-fold cross-validation to assess base model performance\n",
    "scores = cross_val_score(estimator=pipe_nn_1, X=X_train_undersample, y=y_train_undersample, cv=10, n_jobs=1, scoring=\"f1\")\n",
    "print('pipe_nn_1 Cross_validation f1 scores: %s' % (scores))\n",
    "print('pipe_nn_1 Cross_validation f1: %.3f +/- %.3f' % (np.mean(scores), np.std(scores)))"
   ]
  },
  {
   "cell_type": "code",
   "execution_count": 90,
   "metadata": {},
   "outputs": [
    {
     "data": {
      "text/plain": [
       "dict_keys(['scl', 'steps', 'nn__warm_start', 'nn__momentum', 'nn__beta_1', 'scl__copy', 'nn__nesterovs_momentum', 'nn__validation_fraction', 'pca__iterated_power', 'nn', 'nn__activation', 'pca__random_state', 'nn__tol', 'nn__learning_rate_init', 'nn__beta_2', 'nn__max_iter', 'scl__with_std', 'nn__hidden_layer_sizes', 'pca__whiten', 'pca__n_components', 'nn__alpha', 'nn__verbose', 'nn__learning_rate', 'nn__solver', 'pca__copy', 'nn__shuffle', 'scl__with_mean', 'nn__epsilon', 'nn__batch_size', 'pca', 'nn__power_t', 'pca__tol', 'nn__early_stopping', 'pca__svd_solver', 'nn__random_state'])"
      ]
     },
     "execution_count": 90,
     "metadata": {},
     "output_type": "execute_result"
    }
   ],
   "source": [
    "pipe_nn_1.get_params().keys()"
   ]
  },
  {
   "cell_type": "code",
   "execution_count": 91,
   "metadata": {},
   "outputs": [
    {
     "data": {
      "text/plain": [
       "{'nn': MLPClassifier(activation='relu', alpha=0.0001, batch_size='auto', beta_1=0.9,\n",
       "        beta_2=0.999, early_stopping=False, epsilon=1e-08,\n",
       "        hidden_layer_sizes=(100,), learning_rate='constant',\n",
       "        learning_rate_init=0.001, max_iter=200, momentum=0.9,\n",
       "        nesterovs_momentum=True, power_t=0.5, random_state=2, shuffle=True,\n",
       "        solver='adam', tol=0.0001, validation_fraction=0.1, verbose=False,\n",
       "        warm_start=False),\n",
       " 'nn__activation': 'relu',\n",
       " 'nn__alpha': 0.0001,\n",
       " 'nn__batch_size': 'auto',\n",
       " 'nn__beta_1': 0.9,\n",
       " 'nn__beta_2': 0.999,\n",
       " 'nn__early_stopping': False,\n",
       " 'nn__epsilon': 1e-08,\n",
       " 'nn__hidden_layer_sizes': (100,),\n",
       " 'nn__learning_rate': 'constant',\n",
       " 'nn__learning_rate_init': 0.001,\n",
       " 'nn__max_iter': 200,\n",
       " 'nn__momentum': 0.9,\n",
       " 'nn__nesterovs_momentum': True,\n",
       " 'nn__power_t': 0.5,\n",
       " 'nn__random_state': 2,\n",
       " 'nn__shuffle': True,\n",
       " 'nn__solver': 'adam',\n",
       " 'nn__tol': 0.0001,\n",
       " 'nn__validation_fraction': 0.1,\n",
       " 'nn__verbose': False,\n",
       " 'nn__warm_start': False,\n",
       " 'pca': PCA(copy=True, iterated_power='auto', n_components=2, random_state=None,\n",
       "   svd_solver='auto', tol=0.0, whiten=False),\n",
       " 'pca__copy': True,\n",
       " 'pca__iterated_power': 'auto',\n",
       " 'pca__n_components': 2,\n",
       " 'pca__random_state': None,\n",
       " 'pca__svd_solver': 'auto',\n",
       " 'pca__tol': 0.0,\n",
       " 'pca__whiten': False,\n",
       " 'scl': StandardScaler(copy=True, with_mean=True, with_std=True),\n",
       " 'scl__copy': True,\n",
       " 'scl__with_mean': True,\n",
       " 'scl__with_std': True,\n",
       " 'steps': [('scl', StandardScaler(copy=True, with_mean=True, with_std=True)),\n",
       "  ('pca',\n",
       "   PCA(copy=True, iterated_power='auto', n_components=2, random_state=None,\n",
       "     svd_solver='auto', tol=0.0, whiten=False)),\n",
       "  ('nn',\n",
       "   MLPClassifier(activation='relu', alpha=0.0001, batch_size='auto', beta_1=0.9,\n",
       "          beta_2=0.999, early_stopping=False, epsilon=1e-08,\n",
       "          hidden_layer_sizes=(100,), learning_rate='constant',\n",
       "          learning_rate_init=0.001, max_iter=200, momentum=0.9,\n",
       "          nesterovs_momentum=True, power_t=0.5, random_state=2, shuffle=True,\n",
       "          solver='adam', tol=0.0001, validation_fraction=0.1, verbose=False,\n",
       "          warm_start=False))]}"
      ]
     },
     "execution_count": 91,
     "metadata": {},
     "output_type": "execute_result"
    }
   ],
   "source": [
    "pipe_nn_1.get_params()\n"
   ]
  },
  {
   "cell_type": "code",
   "execution_count": 92,
   "metadata": {},
   "outputs": [
    {
     "name": "stdout",
     "output_type": "stream",
     "text": [
      "GridSearchCV took 64.84 seconds for 3 candidate parameter settings.\n",
      "Model with rank: 1\n",
      "Mean validation score: 0.660 (std: 0.016)\n",
      "Parameters: {'nn__solver': 'lbfgs'}\n",
      "\n",
      "Model with rank: 2\n",
      "Mean validation score: 0.650 (std: 0.017)\n",
      "Parameters: {'nn__solver': 'adam'}\n",
      "\n",
      "Model with rank: 3\n",
      "Mean validation score: 0.629 (std: 0.017)\n",
      "Parameters: {'nn__solver': 'sgd'}\n",
      "\n",
      "Training with the best model took 4.012669 seconds.\n"
     ]
    }
   ],
   "source": [
    "# Tuning parameters: \n",
    "# (1) first tune which solver is best suited for this data set. \n",
    "\n",
    "param_grid_nn1 = {'nn__solver': ['lbfgs', 'sgd', 'adam']}\n",
    "pipe_nn_2 = find_best_model(pipe_nn_1, X_train_undersample, y_train_undersample, \n",
    "                            param_grid=param_grid_nn1, scoring='f1', cv=10, n_jobs=-1)"
   ]
  },
  {
   "cell_type": "code",
   "execution_count": 93,
   "metadata": {},
   "outputs": [
    {
     "name": "stdout",
     "output_type": "stream",
     "text": [
      "GridSearchCV took 117.27 seconds for 4 candidate parameter settings.\n",
      "Model with rank: 1\n",
      "Mean validation score: 0.661 (std: 0.016)\n",
      "Parameters: {'nn__activation': 'relu'}\n",
      "\n",
      "Model with rank: 2\n",
      "Mean validation score: 0.658 (std: 0.018)\n",
      "Parameters: {'nn__activation': 'tanh'}\n",
      "\n",
      "Model with rank: 3\n",
      "Mean validation score: 0.655 (std: 0.016)\n",
      "Parameters: {'nn__activation': 'logistic'}\n",
      "\n",
      "Model with rank: 4\n",
      "Mean validation score: 0.634 (std: 0.010)\n",
      "Parameters: {'nn__activation': 'identity'}\n",
      "\n",
      "Training with the best model took 5.582032 seconds.\n"
     ]
    }
   ],
   "source": [
    "# Tuning parameters: \n",
    "# (2) tune which solver is best suited for this data set.\n",
    "\n",
    "param_grid_nn2 = {'nn__activation': ['identity', 'logistic', 'tanh', 'relu']}\n",
    "pipe_nn_3 = find_best_model(pipe_nn_2, X_train_undersample, y_train_undersample, param_grid=param_grid_nn2, scoring='f1', cv=10, n_jobs=-1)"
   ]
  },
  {
   "cell_type": "code",
   "execution_count": 94,
   "metadata": {},
   "outputs": [
    {
     "data": {
      "text/plain": [
       "{'nn': MLPClassifier(activation='relu', alpha=0.0001, batch_size='auto', beta_1=0.9,\n",
       "        beta_2=0.999, early_stopping=False, epsilon=1e-08,\n",
       "        hidden_layer_sizes=(100,), learning_rate='constant',\n",
       "        learning_rate_init=0.001, max_iter=200, momentum=0.9,\n",
       "        nesterovs_momentum=True, power_t=0.5, random_state=2, shuffle=True,\n",
       "        solver='lbfgs', tol=0.0001, validation_fraction=0.1, verbose=False,\n",
       "        warm_start=False),\n",
       " 'nn__activation': 'relu',\n",
       " 'nn__alpha': 0.0001,\n",
       " 'nn__batch_size': 'auto',\n",
       " 'nn__beta_1': 0.9,\n",
       " 'nn__beta_2': 0.999,\n",
       " 'nn__early_stopping': False,\n",
       " 'nn__epsilon': 1e-08,\n",
       " 'nn__hidden_layer_sizes': (100,),\n",
       " 'nn__learning_rate': 'constant',\n",
       " 'nn__learning_rate_init': 0.001,\n",
       " 'nn__max_iter': 200,\n",
       " 'nn__momentum': 0.9,\n",
       " 'nn__nesterovs_momentum': True,\n",
       " 'nn__power_t': 0.5,\n",
       " 'nn__random_state': 2,\n",
       " 'nn__shuffle': True,\n",
       " 'nn__solver': 'lbfgs',\n",
       " 'nn__tol': 0.0001,\n",
       " 'nn__validation_fraction': 0.1,\n",
       " 'nn__verbose': False,\n",
       " 'nn__warm_start': False,\n",
       " 'pca': PCA(copy=True, iterated_power='auto', n_components=2, random_state=None,\n",
       "   svd_solver='auto', tol=0.0, whiten=False),\n",
       " 'pca__copy': True,\n",
       " 'pca__iterated_power': 'auto',\n",
       " 'pca__n_components': 2,\n",
       " 'pca__random_state': None,\n",
       " 'pca__svd_solver': 'auto',\n",
       " 'pca__tol': 0.0,\n",
       " 'pca__whiten': False,\n",
       " 'scl': StandardScaler(copy=True, with_mean=True, with_std=True),\n",
       " 'scl__copy': True,\n",
       " 'scl__with_mean': True,\n",
       " 'scl__with_std': True,\n",
       " 'steps': [('scl', StandardScaler(copy=True, with_mean=True, with_std=True)),\n",
       "  ('pca',\n",
       "   PCA(copy=True, iterated_power='auto', n_components=2, random_state=None,\n",
       "     svd_solver='auto', tol=0.0, whiten=False)),\n",
       "  ('nn',\n",
       "   MLPClassifier(activation='relu', alpha=0.0001, batch_size='auto', beta_1=0.9,\n",
       "          beta_2=0.999, early_stopping=False, epsilon=1e-08,\n",
       "          hidden_layer_sizes=(100,), learning_rate='constant',\n",
       "          learning_rate_init=0.001, max_iter=200, momentum=0.9,\n",
       "          nesterovs_momentum=True, power_t=0.5, random_state=2, shuffle=True,\n",
       "          solver='lbfgs', tol=0.0001, validation_fraction=0.1, verbose=False,\n",
       "          warm_start=False))]}"
      ]
     },
     "execution_count": 94,
     "metadata": {},
     "output_type": "execute_result"
    }
   ],
   "source": [
    "pipe_nn_3.get_params()"
   ]
  },
  {
   "cell_type": "code",
   "execution_count": 95,
   "metadata": {},
   "outputs": [
    {
     "name": "stdout",
     "output_type": "stream",
     "text": [
      "GridSearchCV took 1276.56 seconds for 36 candidate parameter settings.\n",
      "Model with rank: 1\n",
      "Mean validation score: 0.665 (std: 0.014)\n",
      "Parameters: {'nn__max_iter': 1000, 'nn__batch_size': 100}\n",
      "\n",
      "Model with rank: 2\n",
      "Mean validation score: 0.665 (std: 0.012)\n",
      "Parameters: {'nn__max_iter': 1000, 'nn__batch_size': 200}\n",
      "\n",
      "Model with rank: 3\n",
      "Mean validation score: 0.665 (std: 0.013)\n",
      "Parameters: {'nn__max_iter': 600, 'nn__batch_size': 10}\n",
      "\n",
      "Model with rank: 4\n",
      "Mean validation score: 0.664 (std: 0.015)\n",
      "Parameters: {'nn__max_iter': 1000, 'nn__batch_size': 20}\n",
      "\n",
      "Model with rank: 5\n",
      "Mean validation score: 0.664 (std: 0.014)\n",
      "Parameters: {'nn__max_iter': 1000, 'nn__batch_size': 60}\n",
      "\n",
      "Training with the best model took 59.602018 seconds.\n"
     ]
    }
   ],
   "source": [
    "# Tuning parameters: \n",
    "# (3) Tune Batch Size and Number of Epochs.\n",
    "\n",
    "param_grid_nn3 = {'nn__batch_size': [10, 20, 40, 60, 100, 200], 'nn__max_iter': [10, 100, 200, 400, 600, 1000]}\n",
    "pipe_nn_4 = find_best_model(pipe_nn_3, X_train_undersample, y_train_undersample, param_grid=param_grid_nn3, scoring='f1', cv=10, n_jobs=-1)"
   ]
  },
  {
   "cell_type": "code",
   "execution_count": 96,
   "metadata": {},
   "outputs": [
    {
     "name": "stdout",
     "output_type": "stream",
     "text": [
      "GridSearchCV took 355.83 seconds for 7 candidate parameter settings.\n",
      "Model with rank: 1\n",
      "Mean validation score: 0.665 (std: 0.009)\n",
      "Parameters: {'nn__hidden_layer_sizes': 150}\n",
      "\n",
      "Model with rank: 2\n",
      "Mean validation score: 0.662 (std: 0.013)\n",
      "Parameters: {'nn__hidden_layer_sizes': 100}\n",
      "\n",
      "Model with rank: 3\n",
      "Mean validation score: 0.661 (std: 0.006)\n",
      "Parameters: {'nn__hidden_layer_sizes': 20}\n",
      "\n",
      "Model with rank: 4\n",
      "Mean validation score: 0.658 (std: 0.014)\n",
      "Parameters: {'nn__hidden_layer_sizes': 200}\n",
      "\n",
      "Model with rank: 5\n",
      "Mean validation score: 0.657 (std: 0.009)\n",
      "Parameters: {'nn__hidden_layer_sizes': 60}\n",
      "\n",
      "Training with the best model took 87.285974 seconds.\n"
     ]
    }
   ],
   "source": [
    "# Tuning parameters: \n",
    "# (4) Tune the Number of Neurons in the Hidden Layer.\n",
    "\n",
    "param_grid_nn4 = {'nn__hidden_layer_sizes': [1, 5, 20, 60, 100, 150, 200]}\n",
    "pipe_nn_5 = find_best_model(pipe_nn_4, X_train_undersample, y_train_undersample, param_grid=param_grid_nn4, scoring='f1', cv=5, n_jobs=-1)"
   ]
  },
  {
   "cell_type": "code",
   "execution_count": 97,
   "metadata": {},
   "outputs": [
    {
     "name": "stdout",
     "output_type": "stream",
     "text": [
      "GridSearchCV took 380.39 seconds for 6 candidate parameter settings.\n",
      "Model with rank: 1\n",
      "Mean validation score: 0.666 (std: 0.011)\n",
      "Parameters: {'nn__alpha': 0.10000000000000001}\n",
      "\n",
      "Model with rank: 2\n",
      "Mean validation score: 0.665 (std: 0.011)\n",
      "Parameters: {'nn__alpha': 0.0001}\n",
      "\n",
      "Model with rank: 3\n",
      "Mean validation score: 0.664 (std: 0.007)\n",
      "Parameters: {'nn__alpha': 0.01}\n",
      "\n",
      "Model with rank: 4\n",
      "Mean validation score: 0.663 (std: 0.003)\n",
      "Parameters: {'nn__alpha': 9.9999999999999995e-07}\n",
      "\n",
      "Model with rank: 5\n",
      "Mean validation score: 0.663 (std: 0.008)\n",
      "Parameters: {'nn__alpha': 0.001}\n",
      "\n",
      "Training with the best model took 29.647843 seconds.\n"
     ]
    }
   ],
   "source": [
    "# Tuning parameters: \n",
    "# (5) Tune alpha : float, optional, default 0.0001, L2 penalty (regularization term) parameter.\n",
    "\n",
    "param_grid_nn5 = {'nn__alpha': 10.0 ** -np.arange(1, 7)}\n",
    "pipe_nn_6 = find_best_model(pipe_nn_5, X_train_undersample, y_train_undersample, param_grid=param_grid_nn5, scoring='f1', cv=5, n_jobs=-1)"
   ]
  },
  {
   "cell_type": "code",
   "execution_count": 98,
   "metadata": {},
   "outputs": [
    {
     "data": {
      "text/plain": [
       "{'nn': MLPClassifier(activation='relu', alpha=0.10000000000000001, batch_size=100,\n",
       "        beta_1=0.9, beta_2=0.999, early_stopping=False, epsilon=1e-08,\n",
       "        hidden_layer_sizes=150, learning_rate='constant',\n",
       "        learning_rate_init=0.001, max_iter=1000, momentum=0.9,\n",
       "        nesterovs_momentum=True, power_t=0.5, random_state=2, shuffle=True,\n",
       "        solver='lbfgs', tol=0.0001, validation_fraction=0.1, verbose=False,\n",
       "        warm_start=False),\n",
       " 'nn__activation': 'relu',\n",
       " 'nn__alpha': 0.10000000000000001,\n",
       " 'nn__batch_size': 100,\n",
       " 'nn__beta_1': 0.9,\n",
       " 'nn__beta_2': 0.999,\n",
       " 'nn__early_stopping': False,\n",
       " 'nn__epsilon': 1e-08,\n",
       " 'nn__hidden_layer_sizes': 150,\n",
       " 'nn__learning_rate': 'constant',\n",
       " 'nn__learning_rate_init': 0.001,\n",
       " 'nn__max_iter': 1000,\n",
       " 'nn__momentum': 0.9,\n",
       " 'nn__nesterovs_momentum': True,\n",
       " 'nn__power_t': 0.5,\n",
       " 'nn__random_state': 2,\n",
       " 'nn__shuffle': True,\n",
       " 'nn__solver': 'lbfgs',\n",
       " 'nn__tol': 0.0001,\n",
       " 'nn__validation_fraction': 0.1,\n",
       " 'nn__verbose': False,\n",
       " 'nn__warm_start': False,\n",
       " 'pca': PCA(copy=True, iterated_power='auto', n_components=2, random_state=None,\n",
       "   svd_solver='auto', tol=0.0, whiten=False),\n",
       " 'pca__copy': True,\n",
       " 'pca__iterated_power': 'auto',\n",
       " 'pca__n_components': 2,\n",
       " 'pca__random_state': None,\n",
       " 'pca__svd_solver': 'auto',\n",
       " 'pca__tol': 0.0,\n",
       " 'pca__whiten': False,\n",
       " 'scl': StandardScaler(copy=True, with_mean=True, with_std=True),\n",
       " 'scl__copy': True,\n",
       " 'scl__with_mean': True,\n",
       " 'scl__with_std': True,\n",
       " 'steps': [('scl', StandardScaler(copy=True, with_mean=True, with_std=True)),\n",
       "  ('pca',\n",
       "   PCA(copy=True, iterated_power='auto', n_components=2, random_state=None,\n",
       "     svd_solver='auto', tol=0.0, whiten=False)),\n",
       "  ('nn',\n",
       "   MLPClassifier(activation='relu', alpha=0.10000000000000001, batch_size=100,\n",
       "          beta_1=0.9, beta_2=0.999, early_stopping=False, epsilon=1e-08,\n",
       "          hidden_layer_sizes=150, learning_rate='constant',\n",
       "          learning_rate_init=0.001, max_iter=1000, momentum=0.9,\n",
       "          nesterovs_momentum=True, power_t=0.5, random_state=2, shuffle=True,\n",
       "          solver='lbfgs', tol=0.0001, validation_fraction=0.1, verbose=False,\n",
       "          warm_start=False))]}"
      ]
     },
     "execution_count": 98,
     "metadata": {},
     "output_type": "execute_result"
    }
   ],
   "source": [
    "pipe_nn_6.get_params()"
   ]
  },
  {
   "cell_type": "code",
   "execution_count": 99,
   "metadata": {
    "collapsed": true
   },
   "outputs": [],
   "source": [
    "# Choose best parameter for the NN model\n",
    "pipe_nn_7 = Pipeline([('scl', StandardScaler()), ('pca', PCA(n_components=2)),  \n",
    "                    ('nn', MLPClassifier(activation='relu', alpha=0.10000000000000001, batch_size=100,\n",
    "          beta_1=0.9, beta_2=0.999, early_stopping=False, epsilon=1e-08,\n",
    "          hidden_layer_sizes=150, learning_rate='constant',\n",
    "          learning_rate_init=0.001, max_iter=1000, momentum=0.9,\n",
    "          nesterovs_momentum=True, power_t=0.5, random_state=2, shuffle=True,\n",
    "          solver='lbfgs', tol=0.0001, validation_fraction=0.1, verbose=False,\n",
    "          warm_start=False))])"
   ]
  },
  {
   "cell_type": "code",
   "execution_count": 100,
   "metadata": {},
   "outputs": [
    {
     "name": "stdout",
     "output_type": "stream",
     "text": [
      "[ 0.72466921  0.71131967  0.68235969  0.67458274  0.6756165   0.66359083\n",
      "  0.66645487  0.6762087   0.67047553  0.6761711 ]\n"
     ]
    },
    {
     "data": {
      "image/png": "[encoded data removed]",
      "text/plain": [
       "<matplotlib.figure.Figure at 0x20aa74e90b8>"
      ]
     },
     "metadata": {},
     "output_type": "display_data"
    }
   ],
   "source": [
    "\n",
    "plot_learning_curve(pipe_nn_7, X=X_train_undersample, y=y_train_undersample, train_sizes=np.linspace(0.1, 1.0, 10), cv=5,\n",
    "                    ylim=[0.5, 1.05])"
   ]
  },
  {
   "cell_type": "code",
   "execution_count": 101,
   "metadata": {},
   "outputs": [
    {
     "data": {
      "text/plain": [
       "Pipeline(steps=[('scl', StandardScaler(copy=True, with_mean=True, with_std=True)), ('pca', PCA(copy=True, iterated_power='auto', n_components=2, random_state=None,\n",
       "  svd_solver='auto', tol=0.0, whiten=False)), ('nn', MLPClassifier(activation='relu', alpha=0.1, batch_size=100, beta_1=0.9,\n",
       "       beta_2=0.999,...      solver='lbfgs', tol=0.0001, validation_fraction=0.1, verbose=False,\n",
       "       warm_start=False))])"
      ]
     },
     "execution_count": 101,
     "metadata": {},
     "output_type": "execute_result"
    }
   ],
   "source": [
    "pipe_nn_7"
   ]
  },
  {
   "cell_type": "code",
   "execution_count": 104,
   "metadata": {},
   "outputs": [
    {
     "data": {
      "text/plain": [
       "<module 'matplotlib.pyplot' from 'C:\\\\Users\\\\Eric Liao\\\\Anaconda3\\\\lib\\\\site-packages\\\\matplotlib\\\\pyplot.py'>"
      ]
     },
     "execution_count": 104,
     "metadata": {},
     "output_type": "execute_result"
    },
    {
     "data": {
      "image/png": "[encoded data removed]",
      "text/plain": [
       "<matplotlib.figure.Figure at 0x20aa7707240>"
      ]
     },
     "metadata": {},
     "output_type": "display_data"
    }
   ],
   "source": [
    "param_name_nn1 = 'nn__max_iter' \n",
    "param_range_nn1 = [10, 100, 200, 400, 600, 1000]\n",
    "plot_validation_curve(pipe_nn_7, X_train_undersample, y_train_undersample, param_name_nn1, \n",
    "                      param_range_nn1, \"epochs\", [0.5, 1.00], 5, scoring=\"f1\")"
   ]
  },
  {
   "cell_type": "code",
   "execution_count": 102,
   "metadata": {},
   "outputs": [
    {
     "data": {
      "text/plain": [
       "<module 'matplotlib.pyplot' from 'C:\\\\Users\\\\Eric Liao\\\\Anaconda3\\\\lib\\\\site-packages\\\\matplotlib\\\\pyplot.py'>"
      ]
     },
     "execution_count": 102,
     "metadata": {},
     "output_type": "execute_result"
    },
    {
     "data": {
      "image/png": "[encoded data removed]",
      "text/plain": [
       "<matplotlib.figure.Figure at 0x20aa9870fd0>"
      ]
     },
     "metadata": {},
     "output_type": "display_data"
    }
   ],
   "source": [
    "param_name_nn2 = 'nn__hidden_layer_sizes' \n",
    "param_range_nn2 = [1, 5, 20, 60, 100, 150, 200]\n",
    "plot_validation_curve(pipe_nn_7, X_train_undersample, y_train_undersample, param_name_nn2, \n",
    "                      param_range_nn2, \"hidden_layer_sizes\", [0.5, 1.00], scoring=\"f1\")"
   ]
  },
  {
   "cell_type": "code",
   "execution_count": 103,
   "metadata": {},
   "outputs": [
    {
     "data": {
      "text/plain": [
       "<module 'matplotlib.pyplot' from 'C:\\\\Users\\\\Eric Liao\\\\Anaconda3\\\\lib\\\\site-packages\\\\matplotlib\\\\pyplot.py'>"
      ]
     },
     "execution_count": 103,
     "metadata": {},
     "output_type": "execute_result"
    },
    {
     "data": {
      "image/png": "[encoded data removed]",
      "text/plain": [
       "<matplotlib.figure.Figure at 0x20aaafba6d8>"
      ]
     },
     "metadata": {},
     "output_type": "display_data"
    }
   ],
   "source": [
    "param_name_nn3 = 'nn__alpha' \n",
    "param_range_nn3 = 10.0 ** -np.arange(1, 7)\n",
    "plot_validation_curve(pipe_nn_7, X_train_undersample, y_train_undersample, param_name_nn3, \n",
    "                      param_range_nn3, \"alpha\", [0.5, 1.00], 5, scoring=\"f1\")"
   ]
  },
  {
   "cell_type": "code",
   "execution_count": 105,
   "metadata": {},
   "outputs": [
    {
     "name": "stdout",
     "output_type": "stream",
     "text": [
      "Querying with the best model took 0.008019 seconds.\n",
      "3982\n",
      "[[1526  522]\n",
      " [ 755 1179]]\n"
     ]
    },
    {
     "data": {
      "image/png": "[encoded data removed]",
      "text/plain": [
       "<matplotlib.figure.Figure at 0x20aab020f60>"
      ]
     },
     "metadata": {},
     "output_type": "display_data"
    },
    {
     "name": "stdout",
     "output_type": "stream",
     "text": [
      "Precision: 0.693\n",
      "Recall: 0.610\n",
      "F1: 0.649\n",
      "ROC AUC: 0.677\n",
      "Accuracy: 0.679\n",
      "-----------------------------------------\n",
      "             precision    recall  f1-score   support\n",
      "\n",
      "          0       0.67      0.75      0.71      2048\n",
      "          1       0.69      0.61      0.65      1934\n",
      "\n",
      "avg / total       0.68      0.68      0.68      3982\n",
      "\n"
     ]
    }
   ],
   "source": [
    "pipe_nn_7.fit(X_train_undersample, y_train_undersample)\n",
    "evaluation(pipe_nn_7, X_test_undersample, y_test_undersample)"
   ]
  },
  {
   "cell_type": "code",
   "execution_count": 108,
   "metadata": {},
   "outputs": [
    {
     "data": {
      "text/plain": [
       "Pipeline(steps=[('scl', StandardScaler(copy=True, with_mean=True, with_std=True)), ('pca', PCA(copy=True, iterated_power='auto', n_components=2, random_state=None,\n",
       "  svd_solver='auto', tol=0.0, whiten=False)), ('nn', MLPClassifier(activation='relu', alpha=9.9999999999999995e-07, batch_size=100,\n",
       "       beta_1...      solver='lbfgs', tol=0.0001, validation_fraction=0.1, verbose=False,\n",
       "       warm_start=False))])"
      ]
     },
     "execution_count": 108,
     "metadata": {},
     "output_type": "execute_result"
    }
   ],
   "source": [
    "pipe_nn_7"
   ]
  },
  {
   "cell_type": "code",
   "execution_count": null,
   "metadata": {
    "collapsed": true
   },
   "outputs": [],
   "source": []
  }
 ],
 "metadata": {
  "kernelspec": {
   "display_name": "Python 3",
   "language": "python",
   "name": "python3"
  },
  "language_info": {
   "codemirror_mode": {
    "name": "ipython",
    "version": 3
   },
   "file_extension": ".py",
   "mimetype": "text/x-python",
   "name": "python",
   "nbconvert_exporter": "python",
   "pygments_lexer": "ipython3",
   "version": "3.5.3"
  }
 },
 "nbformat": 4,
 "nbformat_minor": 1
}
