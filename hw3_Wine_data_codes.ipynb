{
 "cells": [
  {
   "cell_type": "code",
   "execution_count": 1,
   "metadata": {
    "collapsed": true
   },
   "outputs": [],
   "source": [
    "import pandas as pd\n",
    "%matplotlib inline"
   ]
  },
  {
   "cell_type": "code",
   "execution_count": 5,
   "metadata": {
    "collapsed": true
   },
   "outputs": [],
   "source": [
    "df = pd.read_csv('https://archive.ics.uci.edu/ml/machine-learning-databases/wine/wine.data', header=None)"
   ]
  },
  {
   "cell_type": "code",
   "execution_count": 6,
   "metadata": {},
   "outputs": [
    {
     "data": {
      "text/html": [
       "<div>\n",
       "<table border=\"1\" class=\"dataframe\">\n",
       "  <thead>\n",
       "    <tr style=\"text-align: right;\">\n",
       "      <th></th>\n",
       "      <th>0</th>\n",
       "      <th>1</th>\n",
       "      <th>2</th>\n",
       "      <th>3</th>\n",
       "      <th>4</th>\n",
       "      <th>5</th>\n",
       "      <th>6</th>\n",
       "      <th>7</th>\n",
       "      <th>8</th>\n",
       "      <th>9</th>\n",
       "      <th>10</th>\n",
       "      <th>11</th>\n",
       "      <th>12</th>\n",
       "      <th>13</th>\n",
       "    </tr>\n",
       "  </thead>\n",
       "  <tbody>\n",
       "    <tr>\n",
       "      <th>0</th>\n",
       "      <td>1</td>\n",
       "      <td>14.23</td>\n",
       "      <td>1.71</td>\n",
       "      <td>2.43</td>\n",
       "      <td>15.6</td>\n",
       "      <td>127</td>\n",
       "      <td>2.80</td>\n",
       "      <td>3.06</td>\n",
       "      <td>0.28</td>\n",
       "      <td>2.29</td>\n",
       "      <td>5.64</td>\n",
       "      <td>1.04</td>\n",
       "      <td>3.92</td>\n",
       "      <td>1065</td>\n",
       "    </tr>\n",
       "    <tr>\n",
       "      <th>1</th>\n",
       "      <td>1</td>\n",
       "      <td>13.20</td>\n",
       "      <td>1.78</td>\n",
       "      <td>2.14</td>\n",
       "      <td>11.2</td>\n",
       "      <td>100</td>\n",
       "      <td>2.65</td>\n",
       "      <td>2.76</td>\n",
       "      <td>0.26</td>\n",
       "      <td>1.28</td>\n",
       "      <td>4.38</td>\n",
       "      <td>1.05</td>\n",
       "      <td>3.40</td>\n",
       "      <td>1050</td>\n",
       "    </tr>\n",
       "    <tr>\n",
       "      <th>2</th>\n",
       "      <td>1</td>\n",
       "      <td>13.16</td>\n",
       "      <td>2.36</td>\n",
       "      <td>2.67</td>\n",
       "      <td>18.6</td>\n",
       "      <td>101</td>\n",
       "      <td>2.80</td>\n",
       "      <td>3.24</td>\n",
       "      <td>0.30</td>\n",
       "      <td>2.81</td>\n",
       "      <td>5.68</td>\n",
       "      <td>1.03</td>\n",
       "      <td>3.17</td>\n",
       "      <td>1185</td>\n",
       "    </tr>\n",
       "    <tr>\n",
       "      <th>3</th>\n",
       "      <td>1</td>\n",
       "      <td>14.37</td>\n",
       "      <td>1.95</td>\n",
       "      <td>2.50</td>\n",
       "      <td>16.8</td>\n",
       "      <td>113</td>\n",
       "      <td>3.85</td>\n",
       "      <td>3.49</td>\n",
       "      <td>0.24</td>\n",
       "      <td>2.18</td>\n",
       "      <td>7.80</td>\n",
       "      <td>0.86</td>\n",
       "      <td>3.45</td>\n",
       "      <td>1480</td>\n",
       "    </tr>\n",
       "    <tr>\n",
       "      <th>4</th>\n",
       "      <td>1</td>\n",
       "      <td>13.24</td>\n",
       "      <td>2.59</td>\n",
       "      <td>2.87</td>\n",
       "      <td>21.0</td>\n",
       "      <td>118</td>\n",
       "      <td>2.80</td>\n",
       "      <td>2.69</td>\n",
       "      <td>0.39</td>\n",
       "      <td>1.82</td>\n",
       "      <td>4.32</td>\n",
       "      <td>1.04</td>\n",
       "      <td>2.93</td>\n",
       "      <td>735</td>\n",
       "    </tr>\n",
       "    <tr>\n",
       "      <th>5</th>\n",
       "      <td>1</td>\n",
       "      <td>14.20</td>\n",
       "      <td>1.76</td>\n",
       "      <td>2.45</td>\n",
       "      <td>15.2</td>\n",
       "      <td>112</td>\n",
       "      <td>3.27</td>\n",
       "      <td>3.39</td>\n",
       "      <td>0.34</td>\n",
       "      <td>1.97</td>\n",
       "      <td>6.75</td>\n",
       "      <td>1.05</td>\n",
       "      <td>2.85</td>\n",
       "      <td>1450</td>\n",
       "    </tr>\n",
       "    <tr>\n",
       "      <th>6</th>\n",
       "      <td>1</td>\n",
       "      <td>14.39</td>\n",
       "      <td>1.87</td>\n",
       "      <td>2.45</td>\n",
       "      <td>14.6</td>\n",
       "      <td>96</td>\n",
       "      <td>2.50</td>\n",
       "      <td>2.52</td>\n",
       "      <td>0.30</td>\n",
       "      <td>1.98</td>\n",
       "      <td>5.25</td>\n",
       "      <td>1.02</td>\n",
       "      <td>3.58</td>\n",
       "      <td>1290</td>\n",
       "    </tr>\n",
       "    <tr>\n",
       "      <th>7</th>\n",
       "      <td>1</td>\n",
       "      <td>14.06</td>\n",
       "      <td>2.15</td>\n",
       "      <td>2.61</td>\n",
       "      <td>17.6</td>\n",
       "      <td>121</td>\n",
       "      <td>2.60</td>\n",
       "      <td>2.51</td>\n",
       "      <td>0.31</td>\n",
       "      <td>1.25</td>\n",
       "      <td>5.05</td>\n",
       "      <td>1.06</td>\n",
       "      <td>3.58</td>\n",
       "      <td>1295</td>\n",
       "    </tr>\n",
       "    <tr>\n",
       "      <th>8</th>\n",
       "      <td>1</td>\n",
       "      <td>14.83</td>\n",
       "      <td>1.64</td>\n",
       "      <td>2.17</td>\n",
       "      <td>14.0</td>\n",
       "      <td>97</td>\n",
       "      <td>2.80</td>\n",
       "      <td>2.98</td>\n",
       "      <td>0.29</td>\n",
       "      <td>1.98</td>\n",
       "      <td>5.20</td>\n",
       "      <td>1.08</td>\n",
       "      <td>2.85</td>\n",
       "      <td>1045</td>\n",
       "    </tr>\n",
       "    <tr>\n",
       "      <th>9</th>\n",
       "      <td>1</td>\n",
       "      <td>13.86</td>\n",
       "      <td>1.35</td>\n",
       "      <td>2.27</td>\n",
       "      <td>16.0</td>\n",
       "      <td>98</td>\n",
       "      <td>2.98</td>\n",
       "      <td>3.15</td>\n",
       "      <td>0.22</td>\n",
       "      <td>1.85</td>\n",
       "      <td>7.22</td>\n",
       "      <td>1.01</td>\n",
       "      <td>3.55</td>\n",
       "      <td>1045</td>\n",
       "    </tr>\n",
       "  </tbody>\n",
       "</table>\n",
       "</div>"
      ],
      "text/plain": [
       "   0      1     2     3     4    5     6     7     8     9     10    11    12  \\\n",
       "0   1  14.23  1.71  2.43  15.6  127  2.80  3.06  0.28  2.29  5.64  1.04  3.92   \n",
       "1   1  13.20  1.78  2.14  11.2  100  2.65  2.76  0.26  1.28  4.38  1.05  3.40   \n",
       "2   1  13.16  2.36  2.67  18.6  101  2.80  3.24  0.30  2.81  5.68  1.03  3.17   \n",
       "3   1  14.37  1.95  2.50  16.8  113  3.85  3.49  0.24  2.18  7.80  0.86  3.45   \n",
       "4   1  13.24  2.59  2.87  21.0  118  2.80  2.69  0.39  1.82  4.32  1.04  2.93   \n",
       "5   1  14.20  1.76  2.45  15.2  112  3.27  3.39  0.34  1.97  6.75  1.05  2.85   \n",
       "6   1  14.39  1.87  2.45  14.6   96  2.50  2.52  0.30  1.98  5.25  1.02  3.58   \n",
       "7   1  14.06  2.15  2.61  17.6  121  2.60  2.51  0.31  1.25  5.05  1.06  3.58   \n",
       "8   1  14.83  1.64  2.17  14.0   97  2.80  2.98  0.29  1.98  5.20  1.08  2.85   \n",
       "9   1  13.86  1.35  2.27  16.0   98  2.98  3.15  0.22  1.85  7.22  1.01  3.55   \n",
       "\n",
       "     13  \n",
       "0  1065  \n",
       "1  1050  \n",
       "2  1185  \n",
       "3  1480  \n",
       "4   735  \n",
       "5  1450  \n",
       "6  1290  \n",
       "7  1295  \n",
       "8  1045  \n",
       "9  1045  "
      ]
     },
     "execution_count": 6,
     "metadata": {},
     "output_type": "execute_result"
    }
   ],
   "source": [
    "df.head(10)"
   ]
  },
  {
   "cell_type": "raw",
   "metadata": {},
   "source": [
    "# 1) Alcohol \n",
    "2) Malic acid \n",
    "3) Ash \n",
    "4) Alcalinity of ash \n",
    "5) Magnesium \n",
    "6) Total phenols \n",
    "7) Flavanoids \n",
    "8) Nonflavanoid phenols \n",
    "9) Proanthocyanins \n",
    "10)Color intensity \n",
    "11)Hue \n",
    "12)OD280/OD315 of diluted wines \n",
    "13)Proline \n"
   ]
  },
  {
   "cell_type": "code",
   "execution_count": 8,
   "metadata": {
    "collapsed": true
   },
   "outputs": [],
   "source": [
    "df.columns = ['Label', 'Alcohol', 'Malic acid', 'Ash', 'Alcalinity of ash', 'Magnesium', 'Total phenols', 'Flavanoids', 'Nonflavanoid phenols',\n",
    "              'Proanthocyanins', 'Color intensity', 'Hue', 'OD280/OD315', 'Proline']"
   ]
  },
  {
   "cell_type": "code",
   "execution_count": 9,
   "metadata": {},
   "outputs": [
    {
     "data": {
      "text/html": [
       "<div>\n",
       "<table border=\"1\" class=\"dataframe\">\n",
       "  <thead>\n",
       "    <tr style=\"text-align: right;\">\n",
       "      <th></th>\n",
       "      <th>Label</th>\n",
       "      <th>Alcohol</th>\n",
       "      <th>Malic acid</th>\n",
       "      <th>Ash</th>\n",
       "      <th>Alcalinity of ash</th>\n",
       "      <th>Magnesium</th>\n",
       "      <th>Total phenols</th>\n",
       "      <th>Flavanoids</th>\n",
       "      <th>Nonflavanoid phenols</th>\n",
       "      <th>Proanthocyanins</th>\n",
       "      <th>Color intensity</th>\n",
       "      <th>Hue</th>\n",
       "      <th>OD280/OD315</th>\n",
       "      <th>Proline</th>\n",
       "    </tr>\n",
       "  </thead>\n",
       "  <tbody>\n",
       "    <tr>\n",
       "      <th>0</th>\n",
       "      <td>1</td>\n",
       "      <td>14.23</td>\n",
       "      <td>1.71</td>\n",
       "      <td>2.43</td>\n",
       "      <td>15.6</td>\n",
       "      <td>127</td>\n",
       "      <td>2.80</td>\n",
       "      <td>3.06</td>\n",
       "      <td>0.28</td>\n",
       "      <td>2.29</td>\n",
       "      <td>5.64</td>\n",
       "      <td>1.04</td>\n",
       "      <td>3.92</td>\n",
       "      <td>1065</td>\n",
       "    </tr>\n",
       "    <tr>\n",
       "      <th>1</th>\n",
       "      <td>1</td>\n",
       "      <td>13.20</td>\n",
       "      <td>1.78</td>\n",
       "      <td>2.14</td>\n",
       "      <td>11.2</td>\n",
       "      <td>100</td>\n",
       "      <td>2.65</td>\n",
       "      <td>2.76</td>\n",
       "      <td>0.26</td>\n",
       "      <td>1.28</td>\n",
       "      <td>4.38</td>\n",
       "      <td>1.05</td>\n",
       "      <td>3.40</td>\n",
       "      <td>1050</td>\n",
       "    </tr>\n",
       "    <tr>\n",
       "      <th>2</th>\n",
       "      <td>1</td>\n",
       "      <td>13.16</td>\n",
       "      <td>2.36</td>\n",
       "      <td>2.67</td>\n",
       "      <td>18.6</td>\n",
       "      <td>101</td>\n",
       "      <td>2.80</td>\n",
       "      <td>3.24</td>\n",
       "      <td>0.30</td>\n",
       "      <td>2.81</td>\n",
       "      <td>5.68</td>\n",
       "      <td>1.03</td>\n",
       "      <td>3.17</td>\n",
       "      <td>1185</td>\n",
       "    </tr>\n",
       "    <tr>\n",
       "      <th>3</th>\n",
       "      <td>1</td>\n",
       "      <td>14.37</td>\n",
       "      <td>1.95</td>\n",
       "      <td>2.50</td>\n",
       "      <td>16.8</td>\n",
       "      <td>113</td>\n",
       "      <td>3.85</td>\n",
       "      <td>3.49</td>\n",
       "      <td>0.24</td>\n",
       "      <td>2.18</td>\n",
       "      <td>7.80</td>\n",
       "      <td>0.86</td>\n",
       "      <td>3.45</td>\n",
       "      <td>1480</td>\n",
       "    </tr>\n",
       "    <tr>\n",
       "      <th>4</th>\n",
       "      <td>1</td>\n",
       "      <td>13.24</td>\n",
       "      <td>2.59</td>\n",
       "      <td>2.87</td>\n",
       "      <td>21.0</td>\n",
       "      <td>118</td>\n",
       "      <td>2.80</td>\n",
       "      <td>2.69</td>\n",
       "      <td>0.39</td>\n",
       "      <td>1.82</td>\n",
       "      <td>4.32</td>\n",
       "      <td>1.04</td>\n",
       "      <td>2.93</td>\n",
       "      <td>735</td>\n",
       "    </tr>\n",
       "    <tr>\n",
       "      <th>5</th>\n",
       "      <td>1</td>\n",
       "      <td>14.20</td>\n",
       "      <td>1.76</td>\n",
       "      <td>2.45</td>\n",
       "      <td>15.2</td>\n",
       "      <td>112</td>\n",
       "      <td>3.27</td>\n",
       "      <td>3.39</td>\n",
       "      <td>0.34</td>\n",
       "      <td>1.97</td>\n",
       "      <td>6.75</td>\n",
       "      <td>1.05</td>\n",
       "      <td>2.85</td>\n",
       "      <td>1450</td>\n",
       "    </tr>\n",
       "    <tr>\n",
       "      <th>6</th>\n",
       "      <td>1</td>\n",
       "      <td>14.39</td>\n",
       "      <td>1.87</td>\n",
       "      <td>2.45</td>\n",
       "      <td>14.6</td>\n",
       "      <td>96</td>\n",
       "      <td>2.50</td>\n",
       "      <td>2.52</td>\n",
       "      <td>0.30</td>\n",
       "      <td>1.98</td>\n",
       "      <td>5.25</td>\n",
       "      <td>1.02</td>\n",
       "      <td>3.58</td>\n",
       "      <td>1290</td>\n",
       "    </tr>\n",
       "    <tr>\n",
       "      <th>7</th>\n",
       "      <td>1</td>\n",
       "      <td>14.06</td>\n",
       "      <td>2.15</td>\n",
       "      <td>2.61</td>\n",
       "      <td>17.6</td>\n",
       "      <td>121</td>\n",
       "      <td>2.60</td>\n",
       "      <td>2.51</td>\n",
       "      <td>0.31</td>\n",
       "      <td>1.25</td>\n",
       "      <td>5.05</td>\n",
       "      <td>1.06</td>\n",
       "      <td>3.58</td>\n",
       "      <td>1295</td>\n",
       "    </tr>\n",
       "    <tr>\n",
       "      <th>8</th>\n",
       "      <td>1</td>\n",
       "      <td>14.83</td>\n",
       "      <td>1.64</td>\n",
       "      <td>2.17</td>\n",
       "      <td>14.0</td>\n",
       "      <td>97</td>\n",
       "      <td>2.80</td>\n",
       "      <td>2.98</td>\n",
       "      <td>0.29</td>\n",
       "      <td>1.98</td>\n",
       "      <td>5.20</td>\n",
       "      <td>1.08</td>\n",
       "      <td>2.85</td>\n",
       "      <td>1045</td>\n",
       "    </tr>\n",
       "    <tr>\n",
       "      <th>9</th>\n",
       "      <td>1</td>\n",
       "      <td>13.86</td>\n",
       "      <td>1.35</td>\n",
       "      <td>2.27</td>\n",
       "      <td>16.0</td>\n",
       "      <td>98</td>\n",
       "      <td>2.98</td>\n",
       "      <td>3.15</td>\n",
       "      <td>0.22</td>\n",
       "      <td>1.85</td>\n",
       "      <td>7.22</td>\n",
       "      <td>1.01</td>\n",
       "      <td>3.55</td>\n",
       "      <td>1045</td>\n",
       "    </tr>\n",
       "  </tbody>\n",
       "</table>\n",
       "</div>"
      ],
      "text/plain": [
       "   Label  Alcohol  Malic acid   Ash  Alcalinity of ash  Magnesium  \\\n",
       "0      1    14.23        1.71  2.43               15.6        127   \n",
       "1      1    13.20        1.78  2.14               11.2        100   \n",
       "2      1    13.16        2.36  2.67               18.6        101   \n",
       "3      1    14.37        1.95  2.50               16.8        113   \n",
       "4      1    13.24        2.59  2.87               21.0        118   \n",
       "5      1    14.20        1.76  2.45               15.2        112   \n",
       "6      1    14.39        1.87  2.45               14.6         96   \n",
       "7      1    14.06        2.15  2.61               17.6        121   \n",
       "8      1    14.83        1.64  2.17               14.0         97   \n",
       "9      1    13.86        1.35  2.27               16.0         98   \n",
       "\n",
       "   Total phenols  Flavanoids  Nonflavanoid phenols  Proanthocyanins  \\\n",
       "0           2.80        3.06                  0.28             2.29   \n",
       "1           2.65        2.76                  0.26             1.28   \n",
       "2           2.80        3.24                  0.30             2.81   \n",
       "3           3.85        3.49                  0.24             2.18   \n",
       "4           2.80        2.69                  0.39             1.82   \n",
       "5           3.27        3.39                  0.34             1.97   \n",
       "6           2.50        2.52                  0.30             1.98   \n",
       "7           2.60        2.51                  0.31             1.25   \n",
       "8           2.80        2.98                  0.29             1.98   \n",
       "9           2.98        3.15                  0.22             1.85   \n",
       "\n",
       "   Color intensity   Hue  OD280/OD315  Proline  \n",
       "0             5.64  1.04         3.92     1065  \n",
       "1             4.38  1.05         3.40     1050  \n",
       "2             5.68  1.03         3.17     1185  \n",
       "3             7.80  0.86         3.45     1480  \n",
       "4             4.32  1.04         2.93      735  \n",
       "5             6.75  1.05         2.85     1450  \n",
       "6             5.25  1.02         3.58     1290  \n",
       "7             5.05  1.06         3.58     1295  \n",
       "8             5.20  1.08         2.85     1045  \n",
       "9             7.22  1.01         3.55     1045  "
      ]
     },
     "execution_count": 9,
     "metadata": {},
     "output_type": "execute_result"
    }
   ],
   "source": [
    "df.head(10)"
   ]
  },
  {
   "cell_type": "code",
   "execution_count": 10,
   "metadata": {},
   "outputs": [
    {
     "data": {
      "text/plain": [
       "(178, 14)"
      ]
     },
     "execution_count": 10,
     "metadata": {},
     "output_type": "execute_result"
    }
   ],
   "source": [
    "df.shape"
   ]
  },
  {
   "cell_type": "code",
   "execution_count": 34,
   "metadata": {},
   "outputs": [
    {
     "data": {
      "text/html": [
       "<div>\n",
       "<table border=\"1\" class=\"dataframe\">\n",
       "  <thead>\n",
       "    <tr style=\"text-align: right;\">\n",
       "      <th></th>\n",
       "      <th>Label</th>\n",
       "      <th>Alcohol</th>\n",
       "      <th>Malic acid</th>\n",
       "      <th>Ash</th>\n",
       "      <th>Alcalinity of ash</th>\n",
       "      <th>Magnesium</th>\n",
       "      <th>Total phenols</th>\n",
       "      <th>Flavanoids</th>\n",
       "      <th>Nonflavanoid phenols</th>\n",
       "      <th>Proanthocyanins</th>\n",
       "      <th>Color intensity</th>\n",
       "      <th>Hue</th>\n",
       "      <th>OD280/OD315</th>\n",
       "      <th>Proline</th>\n",
       "    </tr>\n",
       "  </thead>\n",
       "  <tbody>\n",
       "    <tr>\n",
       "      <th>count</th>\n",
       "      <td>178.000000</td>\n",
       "      <td>178.000000</td>\n",
       "      <td>178.000000</td>\n",
       "      <td>178.000000</td>\n",
       "      <td>178.000000</td>\n",
       "      <td>178.000000</td>\n",
       "      <td>178.000000</td>\n",
       "      <td>178.000000</td>\n",
       "      <td>178.000000</td>\n",
       "      <td>178.000000</td>\n",
       "      <td>178.000000</td>\n",
       "      <td>178.000000</td>\n",
       "      <td>178.000000</td>\n",
       "      <td>178.000000</td>\n",
       "    </tr>\n",
       "    <tr>\n",
       "      <th>mean</th>\n",
       "      <td>1.938202</td>\n",
       "      <td>13.000618</td>\n",
       "      <td>2.336348</td>\n",
       "      <td>2.366517</td>\n",
       "      <td>19.494944</td>\n",
       "      <td>99.741573</td>\n",
       "      <td>2.295112</td>\n",
       "      <td>2.029270</td>\n",
       "      <td>0.361854</td>\n",
       "      <td>1.590899</td>\n",
       "      <td>5.058090</td>\n",
       "      <td>0.957449</td>\n",
       "      <td>2.611685</td>\n",
       "      <td>746.893258</td>\n",
       "    </tr>\n",
       "    <tr>\n",
       "      <th>std</th>\n",
       "      <td>0.775035</td>\n",
       "      <td>0.811827</td>\n",
       "      <td>1.117146</td>\n",
       "      <td>0.274344</td>\n",
       "      <td>3.339564</td>\n",
       "      <td>14.282484</td>\n",
       "      <td>0.625851</td>\n",
       "      <td>0.998859</td>\n",
       "      <td>0.124453</td>\n",
       "      <td>0.572359</td>\n",
       "      <td>2.318286</td>\n",
       "      <td>0.228572</td>\n",
       "      <td>0.709990</td>\n",
       "      <td>314.907474</td>\n",
       "    </tr>\n",
       "    <tr>\n",
       "      <th>min</th>\n",
       "      <td>1.000000</td>\n",
       "      <td>11.030000</td>\n",
       "      <td>0.740000</td>\n",
       "      <td>1.360000</td>\n",
       "      <td>10.600000</td>\n",
       "      <td>70.000000</td>\n",
       "      <td>0.980000</td>\n",
       "      <td>0.340000</td>\n",
       "      <td>0.130000</td>\n",
       "      <td>0.410000</td>\n",
       "      <td>1.280000</td>\n",
       "      <td>0.480000</td>\n",
       "      <td>1.270000</td>\n",
       "      <td>278.000000</td>\n",
       "    </tr>\n",
       "    <tr>\n",
       "      <th>25%</th>\n",
       "      <td>1.000000</td>\n",
       "      <td>12.362500</td>\n",
       "      <td>1.602500</td>\n",
       "      <td>2.210000</td>\n",
       "      <td>17.200000</td>\n",
       "      <td>88.000000</td>\n",
       "      <td>1.742500</td>\n",
       "      <td>1.205000</td>\n",
       "      <td>0.270000</td>\n",
       "      <td>1.250000</td>\n",
       "      <td>3.220000</td>\n",
       "      <td>0.782500</td>\n",
       "      <td>1.937500</td>\n",
       "      <td>500.500000</td>\n",
       "    </tr>\n",
       "    <tr>\n",
       "      <th>50%</th>\n",
       "      <td>2.000000</td>\n",
       "      <td>13.050000</td>\n",
       "      <td>1.865000</td>\n",
       "      <td>2.360000</td>\n",
       "      <td>19.500000</td>\n",
       "      <td>98.000000</td>\n",
       "      <td>2.355000</td>\n",
       "      <td>2.135000</td>\n",
       "      <td>0.340000</td>\n",
       "      <td>1.555000</td>\n",
       "      <td>4.690000</td>\n",
       "      <td>0.965000</td>\n",
       "      <td>2.780000</td>\n",
       "      <td>673.500000</td>\n",
       "    </tr>\n",
       "    <tr>\n",
       "      <th>75%</th>\n",
       "      <td>3.000000</td>\n",
       "      <td>13.677500</td>\n",
       "      <td>3.082500</td>\n",
       "      <td>2.557500</td>\n",
       "      <td>21.500000</td>\n",
       "      <td>107.000000</td>\n",
       "      <td>2.800000</td>\n",
       "      <td>2.875000</td>\n",
       "      <td>0.437500</td>\n",
       "      <td>1.950000</td>\n",
       "      <td>6.200000</td>\n",
       "      <td>1.120000</td>\n",
       "      <td>3.170000</td>\n",
       "      <td>985.000000</td>\n",
       "    </tr>\n",
       "    <tr>\n",
       "      <th>max</th>\n",
       "      <td>3.000000</td>\n",
       "      <td>14.830000</td>\n",
       "      <td>5.800000</td>\n",
       "      <td>3.230000</td>\n",
       "      <td>30.000000</td>\n",
       "      <td>162.000000</td>\n",
       "      <td>3.880000</td>\n",
       "      <td>5.080000</td>\n",
       "      <td>0.660000</td>\n",
       "      <td>3.580000</td>\n",
       "      <td>13.000000</td>\n",
       "      <td>1.710000</td>\n",
       "      <td>4.000000</td>\n",
       "      <td>1680.000000</td>\n",
       "    </tr>\n",
       "  </tbody>\n",
       "</table>\n",
       "</div>"
      ],
      "text/plain": [
       "            Label     Alcohol  Malic acid         Ash  Alcalinity of ash  \\\n",
       "count  178.000000  178.000000  178.000000  178.000000         178.000000   \n",
       "mean     1.938202   13.000618    2.336348    2.366517          19.494944   \n",
       "std      0.775035    0.811827    1.117146    0.274344           3.339564   \n",
       "min      1.000000   11.030000    0.740000    1.360000          10.600000   \n",
       "25%      1.000000   12.362500    1.602500    2.210000          17.200000   \n",
       "50%      2.000000   13.050000    1.865000    2.360000          19.500000   \n",
       "75%      3.000000   13.677500    3.082500    2.557500          21.500000   \n",
       "max      3.000000   14.830000    5.800000    3.230000          30.000000   \n",
       "\n",
       "        Magnesium  Total phenols  Flavanoids  Nonflavanoid phenols  \\\n",
       "count  178.000000     178.000000  178.000000            178.000000   \n",
       "mean    99.741573       2.295112    2.029270              0.361854   \n",
       "std     14.282484       0.625851    0.998859              0.124453   \n",
       "min     70.000000       0.980000    0.340000              0.130000   \n",
       "25%     88.000000       1.742500    1.205000              0.270000   \n",
       "50%     98.000000       2.355000    2.135000              0.340000   \n",
       "75%    107.000000       2.800000    2.875000              0.437500   \n",
       "max    162.000000       3.880000    5.080000              0.660000   \n",
       "\n",
       "       Proanthocyanins  Color intensity         Hue  OD280/OD315      Proline  \n",
       "count       178.000000       178.000000  178.000000   178.000000   178.000000  \n",
       "mean          1.590899         5.058090    0.957449     2.611685   746.893258  \n",
       "std           0.572359         2.318286    0.228572     0.709990   314.907474  \n",
       "min           0.410000         1.280000    0.480000     1.270000   278.000000  \n",
       "25%           1.250000         3.220000    0.782500     1.937500   500.500000  \n",
       "50%           1.555000         4.690000    0.965000     2.780000   673.500000  \n",
       "75%           1.950000         6.200000    1.120000     3.170000   985.000000  \n",
       "max           3.580000        13.000000    1.710000     4.000000  1680.000000  "
      ]
     },
     "execution_count": 34,
     "metadata": {},
     "output_type": "execute_result"
    }
   ],
   "source": [
    "df.describe()"
   ]
  },
  {
   "cell_type": "code",
   "execution_count": 11,
   "metadata": {},
   "outputs": [
    {
     "data": {
      "text/plain": [
       "((178, 13), (178,))"
      ]
     },
     "execution_count": 11,
     "metadata": {},
     "output_type": "execute_result"
    }
   ],
   "source": [
    "X, y = df.iloc[:, 1:], df.iloc[:, 0]\n",
    "X.shape, y.shape"
   ]
  },
  {
   "cell_type": "code",
   "execution_count": 12,
   "metadata": {
    "collapsed": true
   },
   "outputs": [],
   "source": [
    "# There are a handful of pitfalls of k-means clustering that you should address.\n",
    "# Bigger values carry more weight.\n",
    "# This is a problem since not all of your data will be on the same scale.  If you’re looking at a data set of real estate listings, \n",
    "# the last purchase price and the number of bathrooms will be dramatically different.  \n",
    "# The distance between purchase prices will carry more weight.\n",
    "# The solution is to do some sort of normalization – minmax-normalization or z-score normalization are some fairly common options.\n",
    "# StandardScaler is used to Standardize features by removing the mean and scaling to unit variance\n",
    "from sklearn.preprocessing import StandardScaler\n",
    "scaler = StandardScaler()\n",
    "X_norm = scaler.fit(X).transform(X)"
   ]
  },
  {
   "cell_type": "code",
   "execution_count": 15,
   "metadata": {},
   "outputs": [
    {
     "name": "stdout",
     "output_type": "stream",
     "text": [
      "[[ 1.51861254 -0.5622498   0.23205254 ...,  0.36217728  1.84791957\n",
      "   1.01300893]\n",
      " [ 0.24628963 -0.49941338 -0.82799632 ...,  0.40605066  1.1134493\n",
      "   0.96524152]\n",
      " [ 0.19687903  0.02123125  1.10933436 ...,  0.31830389  0.78858745\n",
      "   1.39514818]\n",
      " ..., \n",
      " [ 0.33275817  1.74474449 -0.38935541 ..., -1.61212515 -1.48544548\n",
      "   0.28057537]\n",
      " [ 0.20923168  0.22769377  0.01273209 ..., -1.56825176 -1.40069891\n",
      "   0.29649784]\n",
      " [ 1.39508604  1.58316512  1.36520822 ..., -1.52437837 -1.42894777\n",
      "  -0.59516041]]\n"
     ]
    }
   ],
   "source": [
    "X_norm.shape\n",
    "print(X_norm)"
   ]
  },
  {
   "cell_type": "code",
   "execution_count": 18,
   "metadata": {
    "collapsed": true
   },
   "outputs": [],
   "source": [
    "# %load clustering.py\n",
    "from sklearn.cluster import KMeans\n",
    "from sklearn import metrics\n",
    "from time import time\n",
    "\n",
    "OUTFILE = 'clustering_result.txt'\n",
    "clusters = [2,3,4,5,10,20,30,40,50,60,70,80]\n",
    "k_means = KMeans(random_state=0)\n",
    "\n",
    "\n",
    "def clustering(data, labels):\n",
    "    \n",
    "    print('K\\t\\ttime\\tinertia\\thomo\\tcompl\\tv-meas\\tARI\\tAMI\\tsilhouette')\n",
    "    estimator = k_means\n",
    "    for k in clusters:\n",
    "        k_means.set_params(n_clusters=k)\n",
    "        t0 = time()\n",
    "        estimator.fit(data)\n",
    "        print('%-9s\\t%.2fs\\t%i\\t%.3f\\t%.3f\\t%.3f\\t%.3f\\t%.3f\\t%.3f'\n",
    "              % (k, (time() - t0), estimator.inertia_,\n",
    "                 metrics.homogeneity_score(labels, estimator.labels_),\n",
    "                 metrics.completeness_score(labels, estimator.labels_),\n",
    "                 metrics.v_measure_score(labels, estimator.labels_),\n",
    "                 metrics.adjusted_rand_score(labels, estimator.labels_),\n",
    "                 metrics.adjusted_mutual_info_score(labels, estimator.labels_),\n",
    "                 metrics.silhouette_score(data, estimator.labels_,\n",
    "                                          metric='euclidean')))"
   ]
  },
  {
   "cell_type": "code",
   "execution_count": 19,
   "metadata": {},
   "outputs": [
    {
     "name": "stdout",
     "output_type": "stream",
     "text": [
      "K\t\ttime\tinertia\thomo\tcompl\tv-meas\tARI\tAMI\tsilhouette\n",
      "2        \t0.05s\t1659\t0.402\t0.665\t0.501\t0.389\t0.399\t0.268\n",
      "3        \t0.03s\t1278\t0.895\t0.890\t0.893\t0.915\t0.889\t0.286\n",
      "4        \t0.03s\t1175\t0.904\t0.718\t0.800\t0.749\t0.715\t0.252\n",
      "5        \t0.02s\t1113\t0.818\t0.579\t0.678\t0.637\t0.572\t0.232\n",
      "10       \t0.03s\t851\t0.855\t0.431\t0.573\t0.375\t0.416\t0.144\n",
      "20       \t0.04s\t625\t0.924\t0.352\t0.510\t0.205\t0.323\t0.136\n",
      "30       \t0.05s\t498\t0.925\t0.317\t0.472\t0.151\t0.273\t0.144\n",
      "40       \t0.05s\t402\t0.942\t0.293\t0.447\t0.102\t0.236\t0.136\n",
      "50       \t0.09s\t342\t0.965\t0.283\t0.437\t0.083\t0.212\t0.141\n",
      "60       \t0.09s\t276\t0.974\t0.274\t0.428\t0.074\t0.191\t0.134\n",
      "70       \t0.09s\t235\t0.987\t0.264\t0.416\t0.054\t0.168\t0.125\n",
      "80       \t0.11s\t194\t0.987\t0.257\t0.408\t0.049\t0.151\t0.118\n"
     ]
    }
   ],
   "source": [
    "# Cancer_data Trial with k=2,3,4,5,10,20,30,40,50,60,70,80\n",
    "clustering(data=X_norm, labels=y)"
   ]
  },
  {
   "cell_type": "code",
   "execution_count": 20,
   "metadata": {
    "collapsed": true
   },
   "outputs": [],
   "source": [
    "# %load gmm.py\n",
    "from sklearn.mixture import GaussianMixture\n",
    "from time import time\n",
    "from sklearn import metrics\n",
    "import numpy as np\n",
    "\n",
    "\n",
    "def gmm(n_range, cv_types, data, labels):\n",
    "\n",
    "    print('cv_type\\t\\tN\\ttime\\tBIC\\tlog_like\\thomo\\tcompl\\tv-meas\\tARI\\tAMI\\tsilhouette')\n",
    "\n",
    "    # lowest_bic = np.infty\n",
    "    # bic_list = []\n",
    "    n_components_range = n_range\n",
    "    # cv_types = ['spherical', 'tied', 'diag', 'full']\n",
    "    cv_types = cv_types\n",
    "\n",
    "    for cv_type in cv_types:\n",
    "        for n_components in n_components_range:\n",
    "            # Fit a Gaussian mixture with EM\n",
    "            gmm = GaussianMixture(n_components=n_components,\n",
    "                                          covariance_type=cv_type)\n",
    "            t0 = time()\n",
    "            gmm.fit(data)\n",
    "            bic = gmm.bic(data)\n",
    "            log_likelihood = gmm.lower_bound_\n",
    "            gmm_labels = gmm.predict(data)\n",
    "\n",
    "            # print(gmm_labels)\n",
    "\n",
    "            # bic.append(gmm.bic(X))\n",
    "            # if bic[-1] < lowest_bic:\n",
    "            #     lowest_bic = bic[-1]\n",
    "            #     best_gmm = gmm\n",
    "\n",
    "            print('%s\\t\\t%-9s\\t%.2fs\\t%i\\t%i\\t%.3f\\t%.3f\\t%.3f\\t%.3f\\t%.3f\\t%.3f'\n",
    "                  % (cv_type, n_components, (time() - t0), bic, log_likelihood,\n",
    "                     metrics.homogeneity_score(labels, gmm_labels),\n",
    "                     metrics.completeness_score(labels, gmm_labels),\n",
    "                     metrics.v_measure_score(labels, gmm_labels),\n",
    "                     metrics.adjusted_rand_score(labels, gmm_labels),\n",
    "                     metrics.adjusted_mutual_info_score(labels, gmm_labels),\n",
    "                     metrics.silhouette_score(data, gmm_labels,\n",
    "                                              metric='euclidean')\n",
    "                     ))\n",
    "\n",
    "            # print('%s\\t\\t%-9s\\t%.2fs\\t%i\\t%i'\n",
    "            #       % (cv_type, n_components, (time() - t0), bic, log_likelihood))"
   ]
  },
  {
   "cell_type": "code",
   "execution_count": 21,
   "metadata": {},
   "outputs": [
    {
     "name": "stdout",
     "output_type": "stream",
     "text": [
      "cv_type\t\tN\ttime\tBIC\tlog_like\thomo\tcompl\tv-meas\tARI\tAMI\tsilhouette\n",
      "spherical\t\t2        \t0.02s\t6134\t-16\t0.435\t0.802\t0.564\t0.439\t0.432\t0.263\n",
      "spherical\t\t3        \t0.02s\t5708\t-15\t0.852\t0.858\t0.855\t0.879\t0.851\t0.272\n",
      "spherical\t\t4        \t0.02s\t5719\t-15\t0.881\t0.784\t0.830\t0.840\t0.781\t0.216\n",
      "spherical\t\t5        \t0.01s\t5644\t-14\t0.891\t0.634\t0.741\t0.687\t0.628\t0.219\n",
      "spherical\t\t6        \t0.01s\t5677\t-14\t0.875\t0.575\t0.694\t0.630\t0.567\t0.193\n",
      "tied\t\t2        \t0.01s\t5643\t-14\t0.467\t0.833\t0.599\t0.461\t0.464\t0.265\n",
      "tied\t\t3        \t0.01s\t5574\t-13\t0.954\t0.953\t0.954\t0.964\t0.952\t0.282\n",
      "tied\t\t4        \t0.01s\t5534\t-13\t1.000\t0.914\t0.955\t0.952\t0.913\t0.290\n",
      "tied\t\t5        \t0.01s\t5546\t-13\t0.897\t0.624\t0.736\t0.654\t0.618\t0.192\n",
      "tied\t\t6        \t0.01s\t5609\t-13\t0.897\t0.555\t0.686\t0.535\t0.547\t0.109\n",
      "diag\t\t2        \t0.00s\t5989\t-16\t0.405\t0.674\t0.506\t0.393\t0.402\t0.265\n",
      "diag\t\t3        \t0.00s\t5556\t-14\t0.850\t0.844\t0.847\t0.864\t0.843\t0.281\n",
      "diag\t\t4        \t0.01s\t5572\t-14\t0.893\t0.796\t0.842\t0.869\t0.793\t0.265\n",
      "diag\t\t5        \t0.01s\t5519\t-13\t0.896\t0.613\t0.728\t0.614\t0.607\t0.163\n",
      "diag\t\t6        \t0.01s\t5496\t-13\t0.899\t0.562\t0.692\t0.548\t0.555\t0.138\n",
      "full\t\t2        \t0.01s\t5675\t-12\t0.402\t0.665\t0.501\t0.389\t0.399\t0.267\n",
      "full\t\t3        \t0.00s\t5842\t-11\t0.879\t0.873\t0.876\t0.897\t0.872\t0.285\n",
      "full\t\t4        \t0.01s\t6150\t-11\t0.841\t0.682\t0.753\t0.729\t0.678\t0.212\n",
      "full\t\t5        \t0.01s\t6448\t-10\t0.802\t0.560\t0.660\t0.574\t0.553\t0.151\n",
      "full\t\t6        \t0.01s\t6868\t-10\t0.844\t0.519\t0.643\t0.502\t0.511\t0.130\n"
     ]
    }
   ],
   "source": [
    "n_range = range(2, 7)\n",
    "cv_types = ['spherical', 'tied', 'diag', 'full']\n",
    "gmm(n_range, cv_types, X_norm, y)"
   ]
  },
  {
   "cell_type": "code",
   "execution_count": 23,
   "metadata": {},
   "outputs": [
    {
     "name": "stdout",
     "output_type": "stream",
     "text": [
      "cv_type\t\tN\ttime\tBIC\tlog_like\thomo\tcompl\tv-meas\tARI\tAMI\tsilhouette\n",
      "tied\t\t2        \t0.02s\t5739\t-14\t0.404\t0.636\t0.494\t0.395\t0.401\t0.256\n",
      "tied\t\t3        \t0.03s\t5574\t-13\t0.954\t0.953\t0.954\t0.964\t0.952\t0.282\n",
      "tied\t\t4        \t0.02s\t5529\t-13\t1.000\t0.894\t0.944\t0.935\t0.893\t0.288\n",
      "tied\t\t5        \t0.01s\t5544\t-13\t0.916\t0.715\t0.803\t0.803\t0.710\t0.224\n",
      "tied\t\t10       \t0.02s\t5667\t-12\t0.955\t0.536\t0.686\t0.576\t0.522\t0.170\n",
      "tied\t\t20       \t0.02s\t5954\t-11\t0.923\t0.362\t0.520\t0.238\t0.332\t0.116\n",
      "tied\t\t30       \t0.03s\t6252\t-10\t0.935\t0.318\t0.475\t0.152\t0.274\t0.130\n",
      "tied\t\t40       \t0.03s\t6723\t-9\t0.935\t0.292\t0.445\t0.105\t0.234\t0.131\n",
      "tied\t\t50       \t0.03s\t7124\t-8\t0.951\t0.280\t0.433\t0.083\t0.210\t0.135\n",
      "tied\t\t60       \t0.02s\t7570\t-7\t0.944\t0.262\t0.411\t0.063\t0.178\t0.114\n",
      "tied\t\t70       \t0.03s\t7921\t-6\t0.957\t0.258\t0.407\t0.056\t0.162\t0.131\n",
      "tied\t\t80       \t0.02s\t8266\t-5\t0.975\t0.255\t0.404\t0.048\t0.148\t0.127\n"
     ]
    }
   ],
   "source": [
    "# Try varying the n_component more to see any further changes/improvment.\n",
    "n_range1 = [2,3,4,5,10,20,30,40,50,60,70,80]\n",
    "cv_types1 = ['tied']\n",
    "\n",
    "gmm(n_range1, cv_types1, X_norm, y)"
   ]
  },
  {
   "cell_type": "code",
   "execution_count": 24,
   "metadata": {
    "collapsed": true
   },
   "outputs": [],
   "source": [
    "# Part 2: Run data on PCA"
   ]
  },
  {
   "cell_type": "code",
   "execution_count": 35,
   "metadata": {
    "collapsed": true
   },
   "outputs": [],
   "source": [
    "# %load PCA.py\n",
    "import matplotlib.pyplot as plt\n",
    "import numpy as np\n",
    "from sklearn.decomposition import PCA\n",
    "from time import time\n",
    "from sklearn.model_selection import GridSearchCV, cross_val_score\n",
    "\n",
    "\n",
    "# Utility function to report best scores\n",
    "# def report(results, n_top=5):\n",
    "#     for i in range(1, n_top + 1):\n",
    "#         candidates = np.flatnonzero(results['rank_test_score'] == i)\n",
    "#         for candidate in candidates:\n",
    "#             print(\"Model with rank: {0}\".format(i))\n",
    "#             print(\"Mean validation score: {0:.3f} (std: {1:.3f})\".format(\n",
    "#                   results['mean_test_score'][candidate],\n",
    "#                   results['std_test_score'][candidate]))\n",
    "#             print(\"Parameters: {0}\".format(results['params'][candidate]))\n",
    "#             print(\"\")\n",
    "\n",
    "\n",
    "def PCA_score(estimator, n_components, data):\n",
    "\n",
    "    # use cross validation to compute PCA model performance\n",
    "    pca = estimator\n",
    "    n_comp = []\n",
    "    pca_scores = []\n",
    "    exp_var_ratio = []\n",
    "    t = []\n",
    "\n",
    "    for n in n_components:\n",
    "\n",
    "        n_comp.append(n)\n",
    "        pca.n_components = n\n",
    "        scores = np.mean(cross_val_score(pca, data))\n",
    "        pca_scores.append(scores)\n",
    "        t0 = time()\n",
    "        pca.fit(data)\n",
    "        t1 = time() - t0\n",
    "        t.append(t1)\n",
    "        exp_var_ratio.append(pca.explained_variance_ratio_[n-1])\n",
    "\n",
    "    print('n  score  evr  time')\n",
    "\n",
    "    for n, s, r, t in zip(n_comp, pca_scores, exp_var_ratio, t):\n",
    "\n",
    "        print('{}  {}  {}  {}'.format(n, s, r, t))\n",
    "\n",
    "        # print('%.3f\\t%s' % (scores, pca.explained_variance_))\n",
    "        # print(pca.explained_variance_ratio_)\n",
    "\n",
    "def plot_PCA(estimator, data, y):\n",
    "\n",
    "    target_names = ['class_0', 'class_1', 'class_2']\n",
    "    X = estimator.fit(data).transform(data)\n",
    "\n",
    "    plt.figure()\n",
    "    # colors = [\"#1f77b4\", \"#ff7f0e\", \"#2ca02c\", \"#d62728\", \"#9467bd\",\n",
    "    #           \"#8c564b\", \"#e377c2\", \"#7f7f7f\", \"#bcbd22\", \"#17becf\"]\n",
    "    colors = ['green', 'red', 'darkorange']\n",
    "    lw = 2\n",
    "\n",
    "    for color, i, target_name in zip(colors, [1, 2, 3], target_names):\n",
    "        plt.scatter(X[y == i, 0], X[y == i, 1], color=color, alpha=.8, lw=lw,\n",
    "                    label=target_name)\n",
    "    plt.legend(loc='best', shadow=False, scatterpoints=1)\n",
    "    plt.title('PCA of Wine dataset')\n",
    "    plt.show()\n",
    "\n"
   ]
  },
  {
   "cell_type": "code",
   "execution_count": 28,
   "metadata": {},
   "outputs": [
    {
     "name": "stdout",
     "output_type": "stream",
     "text": [
      "n  score  evr  time\n",
      "1  -24.65627292804128  0.36198848099926345  0.0025064945220947266\n",
      "2  -25.08111948153112  0.19207490257008952  0.0015041828155517578\n",
      "3  -25.069035697176105  0.1112363053624996  0.0025060176849365234\n",
      "4  -26.159233781018553  0.07069030182714037  0.0010025501251220703\n",
      "5  -26.200475415810796  0.06563293679648588  0.0005016326904296875\n",
      "6  -27.704306815489797  0.04935823319222569  0.0005035400390625\n",
      "7  -28.137427168141382  0.042386793226233184  0.0005040168762207031\n",
      "8  -29.35014002844419  0.026807489483788697  0.0005013942718505859\n",
      "9  -29.941525535857874  0.022221534047897163  0.0010023117065429688\n",
      "10  -31.38916926893762  0.01930019093944077  0.0005018711090087891\n",
      "11  -32.246568139209806  0.017368356899899143  0.0005009174346923828\n",
      "12  -34.82010804881234  0.012982325756042115  0.0005013942718505859\n",
      "13  -34.82010804881231  0.007952148898994503  0.0005011558532714844\n"
     ]
    }
   ],
   "source": [
    "pca1 = PCA(random_state=0)\n",
    "PCA_score(pca1, np.arange(1, 14), X_norm)"
   ]
  },
  {
   "cell_type": "code",
   "execution_count": 30,
   "metadata": {},
   "outputs": [
    {
     "name": "stdout",
     "output_type": "stream",
     "text": [
      "n  score  evr  time\n",
      "1  -24.65627292804128  0.36198848099926345  0.003008604049682617\n",
      "2  -25.08111948153112  0.19207490257008952  0.003509998321533203\n",
      "3  -25.069035697176105  0.1112363053624996  0.0015115737915039062\n",
      "4  -26.159233781018553  0.07069030182714037  0.0015039443969726562\n",
      "5  -26.200475415810796  0.06563293679648588  0.0010018348693847656\n",
      "6  -27.704306815489797  0.04935823319222569  0.0010025501251220703\n",
      "7  -28.137427168141382  0.042386793226233184  0.0005009174346923828\n",
      "8  -29.35014002844419  0.026807489483788697  0.0005011558532714844\n",
      "9  -29.941525535857874  0.022221534047897163  0.0005009174346923828\n",
      "10  -31.38916926893762  0.01930019093944077  0.0005016326904296875\n",
      "11  -32.246568139209806  0.017368356899899143  0.0004830360412597656\n",
      "12  -34.82010804881234  0.012982325756042115  0.0005040168762207031\n"
     ]
    }
   ],
   "source": [
    "pca2 = PCA(svd_solver='full', random_state=0)\n",
    "PCA_score(pca2, np.arange(1, 13), X_norm)"
   ]
  },
  {
   "cell_type": "code",
   "execution_count": 32,
   "metadata": {},
   "outputs": [
    {
     "name": "stdout",
     "output_type": "stream",
     "text": [
      "n  score  evr  time\n",
      "1  -25.214485414901276  0.36198848099926345  0.00150299072265625\n",
      "2  -25.56108992936881  0.19207490257008952  0.0015037059783935547\n",
      "3  -25.468874773421778  0.1112363053624996  0.0010023117065429688\n",
      "4  -26.589078700520172  0.07069030182714037  0.0005013942718505859\n",
      "5  -26.909225241042716  0.06563293679648588  0.0005013942718505859\n",
      "6  -28.56982709981915  0.04935823319222569  0.0005013942718505859\n",
      "7  -29.521375183570544  0.042386793226233184  0.00047206878662109375\n",
      "8  -31.061471134489654  0.026807489483788697  0.0005004405975341797\n",
      "9  -32.70963644275  0.022221534047897163  0.0005016326904296875\n",
      "10  -34.93642380210811  0.01930019093944077  0.0005013942718505859\n",
      "11  -38.6360379107241  0.017368356899899143  0.0005011558532714844\n",
      "12  -48.09544312223965  0.012982325756042115  0.0005013942718505859\n",
      "13  -280.5018922451764  0.007952148898994503  0.0005013942718505859\n"
     ]
    }
   ],
   "source": [
    "pca3 = PCA(whiten=True, random_state=0)\n",
    "PCA_score(pca3, np.arange(1, 14), X_norm)"
   ]
  },
  {
   "cell_type": "code",
   "execution_count": 36,
   "metadata": {},
   "outputs": [
    {
     "data": {
      "image/png": "[encoded data removed]",
      "text/plain": [
       "<matplotlib.figure.Figure at 0x1bd4a4a7da0>"
      ]
     },
     "metadata": {},
     "output_type": "display_data"
    }
   ],
   "source": [
    "# plot PCA\n",
    "plot_PCA(pca1, X_norm, y)"
   ]
  },
  {
   "cell_type": "code",
   "execution_count": 94,
   "metadata": {},
   "outputs": [
    {
     "data": {
      "text/plain": [
       "0.33470031106814752"
      ]
     },
     "execution_count": 94,
     "metadata": {},
     "output_type": "execute_result"
    }
   ],
   "source": [
    "pca5 = PCA(n_components=3, random_state=0).fit(X_norm)\n",
    "PCA_error = reconstructionError(pca5,X_norm)\n",
    "PCA_error"
   ]
  },
  {
   "cell_type": "code",
   "execution_count": 37,
   "metadata": {
    "collapsed": true
   },
   "outputs": [],
   "source": [
    "# Using ICA"
   ]
  },
  {
   "cell_type": "code",
   "execution_count": 38,
   "metadata": {
    "collapsed": true
   },
   "outputs": [],
   "source": [
    "# %load ICA.py\n",
    "import matplotlib.pyplot as plt\n",
    "import numpy as np\n",
    "from sklearn.decomposition import FastICA\n",
    "from time import time\n",
    "from sklearn.model_selection import GridSearchCV, cross_val_score\n",
    "import scipy\n",
    "\n",
    "\n",
    "def ICA_score(estimator, n_components, data):\n",
    "\n",
    "    # use cross validation to compute PCA model performance\n",
    "    ica = estimator\n",
    "    n_comp = []\n",
    "    # ica_scores = []\n",
    "    kurtosis_res = []\n",
    "    t = []\n",
    "\n",
    "    for n in n_components:\n",
    "\n",
    "        n_comp.append(n)\n",
    "        ica.n_components = n\n",
    "        # scores = np.mean(cross_val_score(ica, data))\n",
    "        # ica_scores.append(scores)\n",
    "        t0 = time()\n",
    "        ica.fit(data)\n",
    "        t1 = time() - t0\n",
    "        t.append(t1)\n",
    "\n",
    "        # kurt = scipy.stats.kurtosis(ica.components_, axis=1)\n",
    "\n",
    "        kurt = scipy.stats.kurtosis(ica.fit_transform(data), axis=0)\n",
    "\n",
    "        avg_kurt = np.mean(abs(kurt))\n",
    "        kurtosis_res.append(avg_kurt)\n",
    "\n",
    "    print('n  kurtosis  time')\n",
    "\n",
    "    for n, k, t in zip(n_comp, kurtosis_res, t):\n",
    "\n",
    "        print('{}  {}  {}  '.format(n, k, t))\n",
    "\n",
    "        # print('%.3f\\t%s' % (scores, pca.explained_variance_))\n",
    "        # print(pca.explained_variance_ratio_)\n",
    "\n",
    "def plot_ICA(estimator, data, y):\n",
    "\n",
    "    target_names = ['class_0', 'class_1', 'class_2']\n",
    "    X = estimator.fit(data).transform(data)\n",
    "\n",
    "    plt.figure()\n",
    "    # colors = [\"#1f77b4\", \"#ff7f0e\", \"#2ca02c\", \"#d62728\", \"#9467bd\",\n",
    "    #           \"#8c564b\", \"#e377c2\", \"#7f7f7f\", \"#bcbd22\", \"#17becf\"]\n",
    "    colors = ['green', 'red', 'darkorange']\n",
    "    lw = 2\n",
    "\n",
    "    for color, i, target_name in zip(colors, [1, 2, 3], target_names):\n",
    "        plt.scatter(X[y == i, 0], X[y == i, 1], color=color, alpha=.8, lw=lw,\n",
    "                    label=target_name)\n",
    "    plt.legend(loc='best', shadow=False, scatterpoints=1)\n",
    "    plt.title('ICA of Wine dataset')\n",
    "    plt.show()"
   ]
  },
  {
   "cell_type": "code",
   "execution_count": 40,
   "metadata": {},
   "outputs": [
    {
     "name": "stderr",
     "output_type": "stream",
     "text": [
      "C:\\Users\\Eric Liao\\Anaconda3\\lib\\site-packages\\sklearn\\decomposition\\fastica_.py:116: UserWarning: FastICA did not converge. Consider increasing tolerance or the maximum number of iterations.\n",
      "  warnings.warn('FastICA did not converge. Consider increasing '\n"
     ]
    },
    {
     "name": "stdout",
     "output_type": "stream",
     "text": [
      "n  kurtosis  time\n",
      "1  1.2539021620374378  0.0020074844360351562  \n",
      "2  1.1127146528366756  0.0025069713592529297  \n",
      "3  1.804294017877717  0.002506732940673828  \n",
      "4  1.9395522815708646  0.004010438919067383  \n",
      "5  2.587907043634248  0.0070188045501708984  \n",
      "6  2.4421323499661782  0.0055141448974609375  \n",
      "7  3.251144620198676  0.005013704299926758  \n",
      "8  3.2455807175893523  0.04860496520996094  \n",
      "9  3.076789077327967  4.674496412277222  \n",
      "10  2.8434464349989073  4.5572919845581055  \n",
      "11  3.0896426604132405  0.08419322967529297  \n",
      "12  3.1387897077413354  1.5080108642578125  \n",
      "13  4.231303690403701  0.03910422325134277  \n"
     ]
    }
   ],
   "source": [
    "ica_1 = FastICA(whiten=True, max_iter=20000, random_state=0)\n",
    "ICA_score(ica_1, np.arange(1, 14), X_norm)"
   ]
  },
  {
   "cell_type": "code",
   "execution_count": 41,
   "metadata": {
    "collapsed": true
   },
   "outputs": [],
   "source": [
    "ica_1_res = ica_1.fit_transform(X_norm)"
   ]
  },
  {
   "cell_type": "code",
   "execution_count": 42,
   "metadata": {},
   "outputs": [
    {
     "name": "stdout",
     "output_type": "stream",
     "text": [
      "-0.79523589421\n",
      "16.262855637\n",
      "-0.589268728173\n",
      "0.865048699435\n",
      "4.10114039488\n",
      "-1.16405610598\n",
      "-0.726857088724\n",
      "3.98321357524\n",
      "12.487650078\n",
      "3.70467570834\n",
      "7.3417718521\n",
      "-0.915256468989\n",
      "2.06991774422\n"
     ]
    }
   ],
   "source": [
    "import pandas as pd\n",
    "kurts = scipy.stats.kurtosis(ica_1_res, axis=0)\n",
    "for k in kurts:\n",
    "    print(k)\n",
    "#print(kurts)\n",
    "# pd.DataFrame(ica_1_res).to_csv(\"ICA_components_cancer_data.csv\")"
   ]
  },
  {
   "cell_type": "code",
   "execution_count": 86,
   "metadata": {},
   "outputs": [
    {
     "data": {
      "image/png": "[encoded data removed]",
      "text/plain": [
       "<matplotlib.figure.Figure at 0x1bd4bc4d588>"
      ]
     },
     "metadata": {},
     "output_type": "display_data"
    }
   ],
   "source": [
    "plot_ICA(ica_1, X_norm, y)"
   ]
  },
  {
   "cell_type": "code",
   "execution_count": 91,
   "metadata": {},
   "outputs": [
    {
     "data": {
      "image/png": "[encoded data removed]",
      "text/plain": [
       "<matplotlib.figure.Figure at 0x1bd4b9e4940>"
      ]
     },
     "metadata": {},
     "output_type": "display_data"
    }
   ],
   "source": [
    "ica = FastICA(n_components=2, whiten=True, random_state=0)\n",
    "ica_fit = ica.fit(X_norm)\n",
    "ica_2d = ica.fit_transform(X_norm)\n",
    "\n",
    "target_names = ['class_0', 'class_1', 'class_2']\n",
    "    \n",
    "plt.figure()\n",
    "    # colors = [\"#1f77b4\", \"#ff7f0e\", \"#2ca02c\", \"#d62728\", \"#9467bd\",\n",
    "    #           \"#8c564b\", \"#e377c2\", \"#7f7f7f\", \"#bcbd22\", \"#17becf\"]\n",
    "colors = ['green', 'red', 'darkorange']\n",
    "lw = 2\n",
    "\n",
    "for color, i, target_name in zip(colors, [1, 2, 3], target_names):\n",
    "    plt.scatter(ica_2d[y == i, 0], ica_2d[y == i, 1], color=color, alpha=.8, lw=lw,\n",
    "                    label=target_name)\n",
    "plt.legend(loc='best', shadow=False, scatterpoints=1)\n",
    "plt.title('ICA of Wine dataset')\n",
    "plt.show()"
   ]
  },
  {
   "cell_type": "code",
   "execution_count": 43,
   "metadata": {
    "collapsed": true
   },
   "outputs": [],
   "source": [
    "pd.DataFrame(ica_1_res).to_csv(\"ICA_components_wine_data.csv\")"
   ]
  },
  {
   "cell_type": "code",
   "execution_count": 44,
   "metadata": {
    "collapsed": true
   },
   "outputs": [],
   "source": [
    "# Run it on Random Projection."
   ]
  },
  {
   "cell_type": "code",
   "execution_count": 47,
   "metadata": {
    "collapsed": true
   },
   "outputs": [],
   "source": [
    "# %load RP.py\n",
    "import scipy.sparse as sps\n",
    "from scipy.linalg import pinv\n",
    "import numpy as np\n",
    "from collections import defaultdict\n",
    "from itertools import product\n",
    "from sklearn.metrics.pairwise import pairwise_distances\n",
    "from sklearn.random_projection import SparseRandomProjection, GaussianRandomProjection\n",
    "import pandas as pd\n",
    "\n",
    "\n",
    "def reconstructionError(projections,X):\n",
    "    W = projections.components_\n",
    "    if sps.issparse(W):\n",
    "        W = W.todense()\n",
    "    p = pinv(W)\n",
    "    reconstructed = ((p@W)@(X.T)).T  # Unproject projected data\n",
    "    errors = np.square(X-reconstructed)\n",
    "    return np.nanmean(errors)\n",
    "\n",
    "\n",
    "def pairwiseDistCorr(X1, X2):\n",
    "    assert X1.shape[0] == X2.shape[0]\n",
    "\n",
    "    d1 = pairwise_distances(X1)\n",
    "    d2 = pairwise_distances(X2)\n",
    "    return np.corrcoef(d1.ravel(), d2.ravel())[0, 1]\n",
    "\n",
    "\n",
    "def run_RP(data):\n",
    "\n",
    "    res1 = defaultdict(dict)\n",
    "    res2 = defaultdict(dict)\n",
    "    for i, com in product(range(10), range(1,14)):\n",
    "        rp = SparseRandomProjection(random_state=i, n_components=com)\n",
    "        rp.fit(data)\n",
    "        res1[com][i] = pairwiseDistCorr(rp.fit_transform(data), data)\n",
    "        res2[com][i] = reconstructionError(rp, data)\n",
    "    res1 =pd.DataFrame(res1).T\n",
    "    res1.to_csv('RP_PD_results.csv')\n",
    "\n",
    "    res2 = pd.DataFrame(res2).T\n",
    "    res2.to_csv('RP_RC_results.csv')\n",
    "\n",
    "\n",
    "def run_RP2(data):\n",
    "\n",
    "    res1 = defaultdict(dict)\n",
    "    res2 = defaultdict(dict)\n",
    "    for i, com in product(range(10), range(1,14)):\n",
    "        rp = GaussianRandomProjection(random_state=i, n_components=com)\n",
    "        rp.fit(data)\n",
    "        res1[com][i] = pairwiseDistCorr(rp.fit_transform(data), data)\n",
    "        res2[com][i] = reconstructionError(rp, data)\n",
    "    res1 =pd.DataFrame(res1).T\n",
    "    res1.to_csv('wine_GRP_PD_results.csv')\n",
    "\n",
    "    res2 = pd.DataFrame(res2).T\n",
    "    res2.to_csv('wine_GRP_RC_results.csv')"
   ]
  },
  {
   "cell_type": "code",
   "execution_count": 48,
   "metadata": {
    "collapsed": true
   },
   "outputs": [],
   "source": [
    "# Run GaussianRandomProjection\n",
    "run_RP2(X_norm)"
   ]
  },
  {
   "cell_type": "code",
   "execution_count": 49,
   "metadata": {},
   "outputs": [
    {
     "name": "stdout",
     "output_type": "stream",
     "text": [
      "(178, 2)\n",
      "[[  5.24265446e+00   1.69441508e+00]\n",
      " [ -2.48192607e+00  -1.65039989e+00]\n",
      " [  2.53742016e+00   1.14882098e+00]\n",
      " [  4.36461592e+00   1.52609776e+00]\n",
      " [  4.33521648e+00   7.52513436e-01]\n",
      " [  2.61943733e+00  -2.83279336e+00]\n",
      " [  2.05443749e+00  -1.13361352e-01]\n",
      " [  5.73590144e+00  -9.08855585e-02]\n",
      " [  2.99974971e-01  -1.60431453e+00]\n",
      " [  1.26050862e+00   2.07728731e+00]\n",
      " [  3.76028766e+00  -8.99962452e-02]\n",
      " [  1.43759686e+00  -1.55950604e+00]\n",
      " [  1.95951081e-01  -1.68864975e+00]\n",
      " [ -1.01078368e+00  -4.80430816e+00]\n",
      " [  8.95059397e-01  -2.49300413e+00]\n",
      " [  3.55446579e+00  -1.57590091e+00]\n",
      " [  6.24135391e+00  -1.06073407e+00]\n",
      " [  4.39635475e+00  -2.29223062e+00]\n",
      " [  3.92264790e+00  -3.23772608e+00]\n",
      " [  2.77719332e+00   2.68566376e+00]\n",
      " [  3.82024784e+00   2.43858132e+00]\n",
      " [  2.26116933e+00   3.76326888e+00]\n",
      " [  2.40680929e+00   1.53637399e+00]\n",
      " [  7.08771335e-01   1.48101427e+00]\n",
      " [  3.14109153e+00   2.92784404e+00]\n",
      " [  7.85226506e+00   8.51007648e-01]\n",
      " [  4.95951117e-01  -1.13002884e+00]\n",
      " [ -8.44620020e-01  -1.82977892e+00]\n",
      " [  4.32761157e+00   3.34972121e-01]\n",
      " [  7.52719608e-01   1.44749386e+00]\n",
      " [  4.55499082e+00   3.58992643e-01]\n",
      " [  3.32720755e+00  -1.98227313e-01]\n",
      " [  1.17394459e+00  -2.90282566e+00]\n",
      " [  6.04239466e+00  -3.89045873e+00]\n",
      " [  3.35455852e+00  -5.03681127e-01]\n",
      " [  3.04896076e+00   2.72286553e+00]\n",
      " [  1.12567800e+00  -1.76616159e+00]\n",
      " [  1.10311030e-01  -1.74262848e+00]\n",
      " [ -1.93681106e+00  -2.61742169e+00]\n",
      " [  3.59642220e+00   3.02719623e+00]\n",
      " [  1.74874934e+00   9.61194906e-01]\n",
      " [  4.54775132e-01   8.80273004e-01]\n",
      " [  1.89753519e+00   2.29770848e+00]\n",
      " [  2.96490700e-01   1.41055788e+00]\n",
      " [ -9.52834274e-02   1.35302471e+00]\n",
      " [  4.74200662e+00   1.59953049e+00]\n",
      " [  2.25134533e+00   1.36582911e+00]\n",
      " [  6.97491860e-01   1.92380994e+00]\n",
      " [  2.63322963e+00   2.96390267e-03]\n",
      " [  3.30675991e+00  -5.38461839e-01]\n",
      " [ -3.16875411e+00   1.86381337e-01]\n",
      " [  2.76296356e+00   1.04355841e+00]\n",
      " [  1.05220040e+00  -1.10594137e+00]\n",
      " [  3.61164273e+00  -2.63880740e+00]\n",
      " [  2.74629132e+00   1.03906722e+00]\n",
      " [  4.13671771e+00   2.94280448e+00]\n",
      " [  2.96099068e+00   1.50501049e+00]\n",
      " [  1.53487348e+00  -1.55347302e+00]\n",
      " [  2.11173221e+00   6.65216986e-01]\n",
      " [ -1.14963569e+01  -5.10175495e+00]\n",
      " [ -5.13104873e+00  -9.05200920e+00]\n",
      " [ -4.96825227e+00  -5.63679519e+00]\n",
      " [ -1.87378506e+00  -1.96947352e+00]\n",
      " [ -3.86093284e+00   2.78259802e+00]\n",
      " [ -1.94675425e+00  -3.38144913e+00]\n",
      " [ -1.90708955e+00  -1.83428630e+00]\n",
      " [ -5.48284889e+00   1.22341054e+00]\n",
      " [ -3.14815499e+00   2.58613203e+00]\n",
      " [ -2.04263740e+00  -6.61717709e+00]\n",
      " [  9.46970813e-01   1.75105097e+00]\n",
      " [ -1.50442816e+00  -2.80802125e+00]\n",
      " [  3.34592210e+00   5.14591054e+00]\n",
      " [  1.32522935e+00   3.04213587e+00]\n",
      " [  1.02365268e+01   5.25823142e+00]\n",
      " [ -1.41598641e+00   3.83950509e+00]\n",
      " [ -5.97204596e+00  -2.72575738e+00]\n",
      " [ -5.16607636e+00  -1.85717611e-01]\n",
      " [ -2.24370818e+00  -2.01030481e+00]\n",
      " [ -1.71895063e+00  -2.94948790e+00]\n",
      " [  1.50751661e+00   1.61306823e+00]\n",
      " [ -4.44480037e+00   8.73926190e-01]\n",
      " [ -1.42809207e+00   1.41984842e+00]\n",
      " [ -1.46341564e+00  -1.44128428e-01]\n",
      " [ -7.47475000e-01  -2.45298470e+00]\n",
      " [ -2.64248502e+00   3.43159039e+00]\n",
      " [ -1.73567584e+00   7.64137220e-01]\n",
      " [ -1.77018870e+00  -1.70797336e+00]\n",
      " [  9.52541714e-01   1.81877850e+00]\n",
      " [ -2.48424563e+00  -1.30645436e+00]\n",
      " [ -2.56724913e+00   1.00156933e+00]\n",
      " [ -4.83864582e+00  -3.47718685e+00]\n",
      " [ -2.00742860e+00  -7.02938433e-01]\n",
      " [ -3.25650884e+00  -3.86027712e+00]\n",
      " [ -3.17983690e+00   3.29824711e+00]\n",
      " [ -4.07708842e+00   3.09878892e+00]\n",
      " [  3.98075449e+00  -1.01520966e+00]\n",
      " [  2.40553878e+00   2.95018338e+00]\n",
      " [ -5.77286438e+00  -4.96149762e-01]\n",
      " [ -3.61834686e+00   9.10575930e-01]\n",
      " [ -3.68428198e+00  -1.19395431e+00]\n",
      " [ -3.73236839e+00  -4.05339029e-01]\n",
      " [ -3.41306793e+00   1.19207916e-01]\n",
      " [ -1.49342705e-01   3.19183916e+00]\n",
      " [ -6.15523846e+00  -5.80149770e-01]\n",
      " [ -1.66006999e+00   2.13178219e+00]\n",
      " [ -5.57749076e-01  -1.19390731e+00]\n",
      " [ -3.08166084e+00   7.69818053e-01]\n",
      " [ -1.08261484e+00  -8.77430632e-01]\n",
      " [ -4.14421506e+00   1.13009909e+00]\n",
      " [ -1.26079012e+00   2.51778935e+00]\n",
      " [ -3.87464031e+00   4.01334322e+00]\n",
      " [ -2.45932815e+00   2.61548777e+00]\n",
      " [  1.48030284e-01  -4.28180096e+00]\n",
      " [ -4.29891147e+00  -1.30778325e+00]\n",
      " [ -1.52019876e+00   1.35156674e+00]\n",
      " [ -4.62560620e+00  -2.65653789e+00]\n",
      " [ -3.30636626e+00   2.50726737e+00]\n",
      " [  5.40534049e-01   1.71941468e+00]\n",
      " [ -5.97926045e+00  -2.06077414e+00]\n",
      " [ -3.75017090e+00   7.54126415e-01]\n",
      " [ -1.87141365e+00   2.70134312e+00]\n",
      " [  8.10037381e+00   3.96844278e+00]\n",
      " [  3.89155456e+00   3.75307262e+00]\n",
      " [ -2.33740962e-01   4.71341826e+00]\n",
      " [ -1.60997917e+00   7.39822679e+00]\n",
      " [ -2.51537032e+00   2.06759645e+00]\n",
      " [ -1.98662797e+00   1.76708576e+00]\n",
      " [  1.82679505e+00  -1.59524021e-01]\n",
      " [ -5.80574560e-01   1.88368209e+00]\n",
      " [ -2.30754554e+00   7.05474357e-01]\n",
      " [ -1.00300559e+00  -1.57014895e+00]\n",
      " [ -6.98329932e-01   2.11061609e-01]\n",
      " [  3.86762319e-01   9.60610354e-01]\n",
      " [ -5.33998220e-01   1.22924423e+00]\n",
      " [ -6.26746016e+00  -5.50921400e+00]\n",
      " [ -3.76952022e+00  -5.35055836e+00]\n",
      " [ -2.71363885e+00  -3.93241547e+00]\n",
      " [  6.67275820e-01  -1.77489105e+00]\n",
      " [ -2.27614354e+00  -3.41369805e+00]\n",
      " [  7.63494908e-01  -8.31799654e-01]\n",
      " [  1.60308058e-01  -1.43066548e+00]\n",
      " [ -3.08677950e-01   3.84263066e-01]\n",
      " [  2.06958181e+00  -8.47640165e-01]\n",
      " [ -6.80743077e-01  -1.06096184e+00]\n",
      " [ -6.76958798e-01   6.84563079e-01]\n",
      " [ -7.05601445e-01  -1.82068287e+00]\n",
      " [ -2.11226903e+00  -6.27275909e-01]\n",
      " [ -1.08960107e+00   3.02501787e-01]\n",
      " [ -8.58528157e-01  -6.75338112e-03]\n",
      " [  1.48492897e+00   7.50266749e-01]\n",
      " [  4.70955942e+00   3.05073592e+00]\n",
      " [  1.36657290e+00   3.36402655e+00]\n",
      " [  2.77234342e+00   3.32460052e+00]\n",
      " [ -1.98088941e+00  -2.81139884e+00]\n",
      " [ -2.81586039e+00  -2.96872253e+00]\n",
      " [ -5.86942254e-01  -2.26525296e+00]\n",
      " [ -1.11716923e+00   1.30624889e-01]\n",
      " [  1.74858679e+00  -1.87255102e+00]\n",
      " [  3.59643195e+00   2.87588999e+00]\n",
      " [ -2.53154473e-01   1.29077412e+00]\n",
      " [ -3.48781991e+00  -8.15124991e-01]\n",
      " [  9.94888400e-01  -2.71882707e+00]\n",
      " [  9.37627410e-01  -2.39373470e+00]\n",
      " [ -1.02951747e+00  -1.70166527e+00]\n",
      " [  4.69197589e-01   4.75354751e-01]\n",
      " [  1.78358507e-01  -8.32136759e-01]\n",
      " [  3.25144168e+00   5.14565401e-01]\n",
      " [ -2.05522111e+00  -9.24390071e-03]\n",
      " [  3.82874055e+00   1.55246796e+00]\n",
      " [  5.06204072e+00   4.59738528e+00]\n",
      " [ -3.18006494e+00  -9.32613574e-01]\n",
      " [ -3.30050649e+00  -9.77186356e-01]\n",
      " [  2.83033947e-01  -6.89709125e-02]\n",
      " [  7.51856551e-01  -1.16386845e+00]\n",
      " [  1.47340759e+00  -7.38005662e-02]\n",
      " [  1.71251424e+00  -6.53199126e-01]\n",
      " [  1.22111392e+00  -2.52465104e+00]\n",
      " [  3.01800398e+00   3.84049489e-01]]\n"
     ]
    }
   ],
   "source": [
    "grp1 = GaussianRandomProjection(n_components=2, random_state=0)\n",
    "X_RP = grp1.fit_transform(X_norm)\n",
    "print(X_RP.shape)\n",
    "print(X_RP)"
   ]
  },
  {
   "cell_type": "code",
   "execution_count": 50,
   "metadata": {},
   "outputs": [
    {
     "data": {
      "image/png": "[encoded data removed]",
      "text/plain": [
       "<matplotlib.figure.Figure at 0x1bd4a6d6c18>"
      ]
     },
     "metadata": {},
     "output_type": "display_data"
    }
   ],
   "source": [
    "target_names = ['class_0', 'class_1', 'class_2']\n",
    "    \n",
    "plt.figure()\n",
    "    # colors = [\"#1f77b4\", \"#ff7f0e\", \"#2ca02c\", \"#d62728\", \"#9467bd\",\n",
    "    #           \"#8c564b\", \"#e377c2\", \"#7f7f7f\", \"#bcbd22\", \"#17becf\"]\n",
    "colors = ['green', 'red', 'darkorange']\n",
    "lw = 2\n",
    "\n",
    "for color, i, target_name in zip(colors, [1, 2, 3], target_names):\n",
    "    plt.scatter(X_RP[y == i, 0], X_RP[y == i, 1], color=color, alpha=.8, lw=lw,\n",
    "                    label=target_name)\n",
    "plt.legend(loc='best', shadow=False, scatterpoints=1)\n",
    "plt.title('GRP of Wine dataset')\n",
    "plt.show()"
   ]
  },
  {
   "cell_type": "code",
   "execution_count": 58,
   "metadata": {
    "collapsed": true
   },
   "outputs": [],
   "source": [
    "grp2 = GaussianRandomProjection(n_components=13, random_state=0)\n",
    "X_RP2 = grp2.fit_transform(X_norm)"
   ]
  },
  {
   "cell_type": "code",
   "execution_count": 59,
   "metadata": {},
   "outputs": [
    {
     "name": "stdout",
     "output_type": "stream",
     "text": [
      "0.456163188749\n",
      "0.590062321069\n",
      "0.644311739925\n",
      "2.03675631514\n",
      "-0.623109660342\n",
      "0.938699531522\n",
      "0.137287236104\n",
      "-0.699390449407\n",
      "-0.451373670425\n",
      "-0.845055407293\n",
      "1.06204303336\n",
      "-0.617353262641\n",
      "-0.43635532586\n"
     ]
    }
   ],
   "source": [
    "kurts_rp = scipy.stats.kurtosis(X_RP2, axis=0)\n",
    "for k in kurts_rp:\n",
    "    print(k)"
   ]
  },
  {
   "cell_type": "code",
   "execution_count": 60,
   "metadata": {},
   "outputs": [
    {
     "data": {
      "image/png": "[encoded data removed]",
      "text/plain": [
       "<matplotlib.figure.Figure at 0x1bd4b926e80>"
      ]
     },
     "metadata": {},
     "output_type": "display_data"
    }
   ],
   "source": [
    "target_names = ['class_0', 'class_1', 'class_2']\n",
    "    \n",
    "plt.figure()\n",
    "    # colors = [\"#1f77b4\", \"#ff7f0e\", \"#2ca02c\", \"#d62728\", \"#9467bd\",\n",
    "    #           \"#8c564b\", \"#e377c2\", \"#7f7f7f\", \"#bcbd22\", \"#17becf\"]\n",
    "colors = ['green', 'red', 'darkorange']\n",
    "lw = 2\n",
    "\n",
    "for color, i, target_name in zip(colors, [1, 2, 3], target_names):\n",
    "    plt.scatter(X_RP2[y == i, 3], X_RP2[y == i, 10], color=color, alpha=.8, lw=lw,\n",
    "                    label=target_name)\n",
    "plt.legend(loc='best', shadow=False, scatterpoints=1)\n",
    "plt.title('GRP of Wine dataset')\n",
    "plt.show()"
   ]
  },
  {
   "cell_type": "code",
   "execution_count": 51,
   "metadata": {
    "collapsed": true
   },
   "outputs": [],
   "source": [
    "# Features selection with random forests"
   ]
  },
  {
   "cell_type": "code",
   "execution_count": 52,
   "metadata": {
    "collapsed": true
   },
   "outputs": [],
   "source": [
    "# %load random_forests.py\n",
    "from sklearn.ensemble import RandomForestClassifier\n",
    "import pandas as pd\n",
    "import numpy as np\n",
    "import matplotlib.pyplot as plt\n",
    "\n",
    "def feature_selection_rf(X, X_norm, y ):\n",
    "\n",
    "    feat_labels = X.columns[0:]\n",
    "    forest = RandomForestClassifier(n_estimators=1000, random_state=0, n_jobs=-1)\n",
    "\n",
    "    forest.fit(X_norm, y)\n",
    "    importances = forest.feature_importances_\n",
    "    indices = np.argsort(importances)[::-1]\n",
    "    for f in range(X_norm.shape[1]):\n",
    "        print(\"%2d) %-*s %f\" % (f + 1, 30, feat_labels[f], importances[indices[f]]))\n",
    "\n",
    "    plt.title('Feature Importances')\n",
    "    plt.bar(range(X_norm.shape[1]), importances[indices], color = 'green', align = 'center')\n",
    "    plt.xticks(range(X_norm.shape[1]), feat_labels, rotation = 90)\n",
    "    plt.xlim([-1, X_norm.shape[1]])\n",
    "    plt.tight_layout()\n",
    "    plt.show()\n",
    "\n",
    "    X_selected = forest.transform(X_norm, threshold=0.033)\n",
    "    print(X_selected.shape)\n",
    "\n",
    "    return X_selected"
   ]
  },
  {
   "cell_type": "code",
   "execution_count": 53,
   "metadata": {},
   "outputs": [
    {
     "name": "stdout",
     "output_type": "stream",
     "text": [
      " 1) Alcohol                        0.170382\n",
      " 2) Malic acid                     0.161090\n",
      " 3) Ash                            0.156746\n",
      " 4) Alcalinity of ash              0.124662\n",
      " 5) Magnesium                      0.119329\n",
      " 6) Total phenols                  0.078430\n",
      " 7) Flavanoids                     0.051930\n",
      " 8) Nonflavanoid phenols           0.031375\n",
      " 9) Proanthocyanins                0.029662\n",
      "10) Color intensity                0.028033\n",
      "11) Hue                            0.023859\n",
      "12) OD280/OD315                    0.013186\n",
      "13) Proline                        0.011317\n"
     ]
    },
    {
     "data": {
      "image/png": "[encoded data removed]",
      "text/plain": [
       "<matplotlib.figure.Figure at 0x1bd4a5f7400>"
      ]
     },
     "metadata": {},
     "output_type": "display_data"
    },
    {
     "name": "stderr",
     "output_type": "stream",
     "text": [
      "C:\\Users\\Eric Liao\\Anaconda3\\lib\\site-packages\\sklearn\\utils\\deprecation.py:70: DeprecationWarning: Function transform is deprecated; Support to use estimators as feature selectors will be removed in version 0.19. Use SelectFromModel instead.\n",
      "  warnings.warn(msg, category=DeprecationWarning)\n"
     ]
    },
    {
     "name": "stdout",
     "output_type": "stream",
     "text": [
      "(178, 7)\n"
     ]
    }
   ],
   "source": [
    "X_selected = feature_selection_rf(X, X_norm, y) # select top 7 features"
   ]
  },
  {
   "cell_type": "code",
   "execution_count": 54,
   "metadata": {},
   "outputs": [
    {
     "data": {
      "image/png": "[encoded data removed]",
      "text/plain": [
       "<matplotlib.figure.Figure at 0x1bd4a6bb978>"
      ]
     },
     "metadata": {},
     "output_type": "display_data"
    }
   ],
   "source": [
    "target_names = ['class_0', 'class_1', 'class_2']\n",
    "    \n",
    "plt.figure()\n",
    "    # colors = [\"#1f77b4\", \"#ff7f0e\", \"#2ca02c\", \"#d62728\", \"#9467bd\",\n",
    "    #           \"#8c564b\", \"#e377c2\", \"#7f7f7f\", \"#bcbd22\", \"#17becf\"]\n",
    "colors = ['green', 'red', 'darkorange']\n",
    "lw = 2\n",
    "\n",
    "for color, i, target_name in zip(colors, [1, 2, 3], target_names):\n",
    "    plt.scatter(X_selected[y == i, 0], X_selected[y == i, 1], color=color, alpha=.8, lw=lw,\n",
    "                    label=target_name)\n",
    "plt.legend(loc='best', shadow=False, scatterpoints=1)\n",
    "plt.title('RF of Wine dataset')\n",
    "plt.show()"
   ]
  },
  {
   "cell_type": "code",
   "execution_count": 61,
   "metadata": {
    "collapsed": true
   },
   "outputs": [],
   "source": [
    "# Run dimentionality reduction to get the transformed data set.\n",
    "X_pca = pca1.fit_transform(X_norm)\n",
    "X_ICA = ica_1.fit_transform(X_norm)\n",
    "X_RP = grp2.fit_transform(X_norm)\n",
    "X_RF = X_selected"
   ]
  },
  {
   "cell_type": "code",
   "execution_count": 62,
   "metadata": {},
   "outputs": [
    {
     "name": "stdout",
     "output_type": "stream",
     "text": [
      "K\t\ttime\tinertia\thomo\tcompl\tv-meas\tARI\tAMI\tsilhouette\n",
      "2        \t0.03s\t1659\t0.402\t0.665\t0.501\t0.389\t0.399\t0.268\n",
      "3        \t0.02s\t1278\t0.895\t0.890\t0.893\t0.915\t0.889\t0.286\n",
      "4        \t0.03s\t1175\t0.904\t0.718\t0.800\t0.749\t0.715\t0.252\n",
      "5        \t0.03s\t1113\t0.818\t0.579\t0.678\t0.637\t0.572\t0.232\n",
      "10       \t0.03s\t851\t0.855\t0.431\t0.573\t0.375\t0.416\t0.144\n",
      "20       \t0.04s\t625\t0.924\t0.352\t0.510\t0.205\t0.323\t0.136\n",
      "30       \t0.05s\t498\t0.925\t0.317\t0.472\t0.151\t0.273\t0.144\n",
      "40       \t0.06s\t402\t0.942\t0.293\t0.447\t0.102\t0.236\t0.136\n",
      "50       \t0.07s\t342\t0.965\t0.283\t0.437\t0.083\t0.212\t0.141\n",
      "60       \t0.09s\t276\t0.974\t0.274\t0.428\t0.074\t0.191\t0.134\n",
      "70       \t0.10s\t235\t0.987\t0.264\t0.416\t0.054\t0.168\t0.125\n",
      "80       \t0.10s\t194\t0.987\t0.257\t0.408\t0.049\t0.151\t0.118\n"
     ]
    }
   ],
   "source": [
    "# Clustering exp with PCA + Kmeans\n",
    "clustering(data=X_pca, labels=y)"
   ]
  },
  {
   "cell_type": "code",
   "execution_count": 64,
   "metadata": {},
   "outputs": [
    {
     "name": "stdout",
     "output_type": "stream",
     "text": [
      "K\t\ttime\tinertia\thomo\tcompl\tv-meas\tARI\tAMI\tsilhouette\n",
      "2        \t0.03s\t1412\t0.402\t0.665\t0.501\t0.389\t0.399\t0.303\n",
      "3        \t0.03s\t1032\t0.879\t0.873\t0.876\t0.897\t0.872\t0.328\n",
      "4        \t0.03s\t933\t0.887\t0.702\t0.783\t0.727\t0.698\t0.283\n",
      "5        \t0.03s\t869\t0.909\t0.697\t0.789\t0.749\t0.692\t0.302\n",
      "10       \t0.03s\t620\t0.889\t0.443\t0.591\t0.369\t0.428\t0.183\n",
      "20       \t0.04s\t411\t0.940\t0.358\t0.519\t0.204\t0.330\t0.194\n",
      "30       \t0.05s\t320\t0.892\t0.300\t0.449\t0.135\t0.255\t0.168\n",
      "40       \t0.06s\t260\t0.926\t0.290\t0.442\t0.109\t0.232\t0.164\n",
      "50       \t0.07s\t204\t0.951\t0.276\t0.428\t0.074\t0.206\t0.162\n",
      "60       \t0.08s\t163\t0.972\t0.274\t0.428\t0.073\t0.191\t0.171\n",
      "70       \t0.09s\t136\t0.986\t0.268\t0.421\t0.064\t0.173\t0.153\n",
      "80       \t0.09s\t110\t0.978\t0.255\t0.404\t0.048\t0.147\t0.143\n"
     ]
    }
   ],
   "source": [
    "pca2 = PCA(n_components=7, random_state=0)\n",
    "X_pca2 = pca2.fit_transform(X_norm)\n",
    "clustering(data=X_pca2, labels=y)"
   ]
  },
  {
   "cell_type": "code",
   "execution_count": 65,
   "metadata": {
    "collapsed": true
   },
   "outputs": [],
   "source": [
    "km = KMeans(n_clusters=3, random_state=0)\n",
    "X_pca_km =  km.fit_transform(X_pca)\n"
   ]
  },
  {
   "cell_type": "code",
   "execution_count": 66,
   "metadata": {},
   "outputs": [
    {
     "name": "stdout",
     "output_type": "stream",
     "text": [
      "[[ 6.29305576  4.93558718  2.04997161]\n",
      " [ 5.685282    3.8630841   2.68803934]\n",
      " [ 5.61859023  4.14648681  2.04316036]\n",
      " [ 6.81088081  6.03852797  2.74120984]\n",
      " [ 4.52519757  3.51448014  2.69385232]\n",
      " [ 6.00268634  5.16625831  1.84094548]\n",
      " [ 5.55058267  4.43891809  1.81895558]\n",
      " [ 5.30331511  4.53391003  1.97920368]\n",
      " [ 5.66578074  4.46390823  2.21141979]\n",
      " [ 5.66627238  4.14045127  1.69137432]\n",
      " [ 6.41802915  4.9705345   2.00831678]\n",
      " [ 4.96704023  3.79707934  2.01950757]\n",
      " [ 5.19050284  3.84117322  1.70769113]\n",
      " [ 6.973155    5.63951943  3.41754343]\n",
      " [ 7.44603101  6.30125217  3.29362377]\n",
      " [ 5.43954459  4.58221462  1.91600791]\n",
      " [ 5.30120551  4.8228851   1.98414068]\n",
      " [ 5.0127831   4.21303071  1.90039303]\n",
      " [ 6.75646829  5.98604883  2.84448063]\n",
      " [ 5.22426006  4.08993303  2.02421974]\n",
      " [ 6.13089471  4.45542908  2.1400855 ]\n",
      " [ 4.56250361  3.13759917  2.63228061]\n",
      " [ 5.62672654  3.48606338  1.66202507]\n",
      " [ 4.96321931  2.67970197  2.1312568 ]\n",
      " [ 5.10911691  2.89226378  2.17157603]\n",
      " [ 5.75561693  4.86828723  4.36262781]\n",
      " [ 4.93157778  3.63274398  1.79055011]\n",
      " [ 4.60505315  3.15013094  2.40640372]\n",
      " [ 5.42836698  3.82682029  1.97622147]\n",
      " [ 5.29957747  3.53656443  1.72617   ]\n",
      " [ 5.74046499  4.43045361  2.34088498]\n",
      " [ 5.64925751  4.5476841   1.76827354]\n",
      " [ 4.776227    2.96138266  1.77903151]\n",
      " [ 5.65093029  4.91756179  3.02395198]\n",
      " [ 4.48284823  3.23934677  1.62439464]\n",
      " [ 4.8724729   2.90103168  1.44620684]\n",
      " [ 4.7161839   3.54393467  2.24242895]\n",
      " [ 4.29039358  2.75526174  1.99005295]\n",
      " [ 4.92093802  2.74999529  2.47777871]\n",
      " [ 6.09065608  5.33149331  3.1580028 ]\n",
      " [ 5.54777371  3.94128299  1.84836447]\n",
      " [ 4.19749839  3.19063148  2.84167877]\n",
      " [ 6.07393062  4.66064392  1.96451055]\n",
      " [ 3.85200108  2.95666535  2.79422026]\n",
      " [ 5.15187795  3.11190854  1.94895647]\n",
      " [ 4.54804694  4.37596515  2.52259575]\n",
      " [ 5.83220785  4.58331903  2.09945333]\n",
      " [ 5.76190858  4.13775978  1.91843221]\n",
      " [ 4.86861166  3.79059829  1.33305224]\n",
      " [ 5.66861094  4.73842054  1.89165746]\n",
      " [ 6.63616379  4.88794192  3.3462592 ]\n",
      " [ 5.90297288  4.26091158  1.83614082]\n",
      " [ 6.48139637  5.21185792  2.27412431]\n",
      " [ 5.3074475   4.58075833  1.70726844]\n",
      " [ 5.08954992  3.93180359  1.59735753]\n",
      " [ 5.39502764  4.15602698  1.76112785]\n",
      " [ 5.60011641  4.44008203  1.59039363]\n",
      " [ 5.15741692  4.00117797  1.42389934]\n",
      " [ 6.03670154  4.91062017  1.9274456 ]\n",
      " [ 6.54006941  5.4155234   7.04416376]\n",
      " [ 4.55880212  4.06132354  5.64637516]\n",
      " [ 3.39657139  3.5530337   5.24896388]\n",
      " [ 4.49581075  3.02033528  4.09969069]\n",
      " [ 6.0387344   2.97827405  3.7824927 ]\n",
      " [ 4.66419658  2.81216068  4.86910524]\n",
      " [ 4.50760172  2.2029559   2.96065248]\n",
      " [ 6.46387938  3.88588957  4.25758981]\n",
      " [ 5.04964705  2.47960572  4.55348738]\n",
      " [ 4.07898031  3.8642093   4.58177657]\n",
      " [ 7.24568573  5.4137612   5.60222451]\n",
      " [ 3.25941151  3.00998777  4.83829327]\n",
      " [ 6.01118816  3.79165337  4.0544844 ]\n",
      " [ 3.73395675  2.49385619  4.26829161]\n",
      " [ 7.24298032  5.59002714  4.8845567 ]\n",
      " [ 5.7008516   3.06875081  3.46505061]\n",
      " [ 4.54924618  2.70870898  5.16016622]\n",
      " [ 5.2293135   3.13961671  4.67681577]\n",
      " [ 3.49394896  2.59186709  4.81948917]\n",
      " [ 5.91571656  4.35826459  4.58892611]\n",
      " [ 4.73854048  2.65296671  3.89330455]\n",
      " [ 5.821454    2.28732708  4.7971359 ]\n",
      " [ 4.66880213  1.63780424  2.91940061]\n",
      " [ 4.8807      2.46611341  4.93717831]\n",
      " [ 2.48976098  3.61982576  5.34199816]\n",
      " [ 5.1602857   2.72493935  4.01805199]\n",
      " [ 4.89227296  1.66379695  3.56987892]\n",
      " [ 4.33229772  1.99276172  4.80163937]\n",
      " [ 5.19110276  2.93355483  5.27508188]\n",
      " [ 3.82612198  1.93702417  4.65736203]\n",
      " [ 4.90623397  2.33933885  5.03313421]\n",
      " [ 3.93159568  2.22295087  5.01680876]\n",
      " [ 3.69433966  2.2390593   5.06993343]\n",
      " [ 3.5224414   2.86345414  5.31205215]\n",
      " [ 5.1778948   1.95366188  4.05112424]\n",
      " [ 5.40359584  2.39638347  4.14734401]\n",
      " [ 7.35191573  5.8765257   5.21464371]\n",
      " [ 4.93588592  4.3013054   5.22039853]\n",
      " [ 5.40816629  2.10737883  4.0457719 ]\n",
      " [ 5.98119162  3.15807426  3.4153539 ]\n",
      " [ 6.14106277  3.3304702   4.53240007]\n",
      " [ 5.3720871   2.62606684  4.25310253]\n",
      " [ 4.42561469  2.30853148  4.69345777]\n",
      " [ 4.00293326  1.89985807  3.7949569 ]\n",
      " [ 4.51305176  1.92475904  4.93653137]\n",
      " [ 4.72444653  1.74209786  3.88184695]\n",
      " [ 4.06238556  3.05281633  5.47435209]\n",
      " [ 4.26827751  1.59216894  4.31655092]\n",
      " [ 3.21999196  2.30067875  4.83059608]\n",
      " [ 4.76657051  1.91754386  4.44589005]\n",
      " [ 5.72146299  2.89478738  3.75406289]\n",
      " [ 6.7735236   4.89810006  5.61001807]\n",
      " [ 4.2682353   1.74584206  4.26085772]\n",
      " [ 4.33718775  3.71651488  5.1840453 ]\n",
      " [ 4.62873019  2.06442892  4.77335369]\n",
      " [ 4.44751528  2.1018508   4.57170025]\n",
      " [ 6.73607578  3.68221236  6.01356903]\n",
      " [ 4.83583725  1.80793929  4.76958656]\n",
      " [ 4.39181976  1.55498456  4.15740482]\n",
      " [ 3.35115167  3.66242341  5.72017311]\n",
      " [ 4.45213347  2.16927886  4.68705325]\n",
      " [ 4.93580909  2.33837981  3.76999381]\n",
      " [ 7.4755855   6.23080729  6.26263024]\n",
      " [ 4.44295876  3.6887085   5.2474177 ]\n",
      " [ 4.98970352  4.19865097  5.20150242]\n",
      " [ 6.19081158  4.1856107   5.15766605]\n",
      " [ 4.52915447  1.67357903  4.28411623]\n",
      " [ 4.41190952  2.34141939  4.12062824]\n",
      " [ 4.6422479   3.75885574  5.79588528]\n",
      " [ 4.35566025  1.8416082   4.56185166]\n",
      " [ 3.41519682  2.89257547  5.09807705]\n",
      " [ 3.6627329   4.15605919  5.00741341]\n",
      " [ 2.26591754  3.93039521  5.20854027]\n",
      " [ 2.3745122   4.21107462  5.76314492]\n",
      " [ 2.76841372  4.06182348  5.24215796]\n",
      " [ 3.01772444  3.83426789  5.52378598]\n",
      " [ 2.18462986  4.32500512  5.75444954]\n",
      " [ 2.69525388  4.85489151  6.54167021]\n",
      " [ 3.15245505  5.2580527   6.76836205]\n",
      " [ 1.98665248  4.24902389  5.65984107]\n",
      " [ 2.33270326  3.63755436  5.08690088]\n",
      " [ 2.13794199  3.88493309  5.34797304]\n",
      " [ 2.16258339  3.83472875  4.96053559]\n",
      " [ 2.44712835  4.30666995  5.65132443]\n",
      " [ 2.44881381  4.0417443   5.15485386]\n",
      " [ 2.55849056  4.56254456  5.24514574]\n",
      " [ 1.97741701  4.06778394  5.27670414]\n",
      " [ 3.14516009  5.71906811  7.0880689 ]\n",
      " [ 1.77615381  4.93705776  6.07485966]\n",
      " [ 1.07943331  4.49608846  5.30808378]\n",
      " [ 2.04120489  5.13545033  5.72163434]\n",
      " [ 3.11352798  5.45532302  5.70771934]\n",
      " [ 2.89639655  5.34988334  5.86132956]\n",
      " [ 3.28469099  4.74414688  5.33892773]\n",
      " [ 2.58244486  5.37800892  5.82465055]\n",
      " [ 2.52957552  4.35068556  5.72376301]\n",
      " [ 2.41164358  5.4727324   6.33820391]\n",
      " [ 1.9329572   5.04841196  5.64269298]\n",
      " [ 2.71874109  5.09929328  6.22263399]\n",
      " [ 4.96047349  6.59328004  6.00769354]\n",
      " [ 3.77823991  5.52302858  5.54893078]\n",
      " [ 1.83925953  4.36870629  5.77637127]\n",
      " [ 1.89428962  4.12895502  4.79431071]\n",
      " [ 1.96506325  3.99799997  5.38489646]\n",
      " [ 1.53722582  3.96403489  5.09739967]\n",
      " [ 1.72552889  4.82331901  5.60228615]\n",
      " [ 1.90734477  4.75463221  6.04708208]\n",
      " [ 2.2118943   5.17214703  5.30282138]\n",
      " [ 1.83108665  4.70930314  5.62004137]\n",
      " [ 2.06599204  4.65482913  4.97297536]\n",
      " [ 3.00464916  5.47322392  5.61043583]\n",
      " [ 2.01152581  3.90739005  5.81079199]\n",
      " [ 2.28081199  5.06735063  6.39322468]\n",
      " [ 1.97578116  5.01585712  5.25548217]\n",
      " [ 2.38121875  5.59703718  6.09709564]\n",
      " [ 1.13326356  4.43291802  5.07013054]\n",
      " [ 2.46159273  5.62119596  5.69430967]\n",
      " [ 2.24004197  5.08513868  5.29283171]\n",
      " [ 2.55737989  5.75520008  6.09729817]]\n"
     ]
    }
   ],
   "source": [
    "print(X_pca_km)"
   ]
  },
  {
   "cell_type": "code",
   "execution_count": 67,
   "metadata": {},
   "outputs": [
    {
     "data": {
      "image/png": "[encoded data removed]",
      "text/plain": [
       "<matplotlib.figure.Figure at 0x1bd4ba0f1d0>"
      ]
     },
     "metadata": {},
     "output_type": "display_data"
    }
   ],
   "source": [
    "target_names = ['class_0', 'class_1', 'class_2']\n",
    "    \n",
    "plt.figure()\n",
    "    # colors = [\"#1f77b4\", \"#ff7f0e\", \"#2ca02c\", \"#d62728\", \"#9467bd\",\n",
    "    #           \"#8c564b\", \"#e377c2\", \"#7f7f7f\", \"#bcbd22\", \"#17becf\"]\n",
    "colors = ['green', 'red', 'darkorange']\n",
    "lw = 2\n",
    "\n",
    "for color, i, target_name in zip(colors, [1, 2, 3], target_names):\n",
    "    plt.scatter(X_pca_km[y == i, 0],X_pca_km[y == i, 1], color=color, alpha=.8, lw=lw,\n",
    "                    label=target_name)\n",
    "plt.legend(loc='best', shadow=False, scatterpoints=1)\n",
    "plt.title('KMeans after PCA for Wine dataset')\n",
    "plt.show()"
   ]
  },
  {
   "cell_type": "code",
   "execution_count": 68,
   "metadata": {},
   "outputs": [
    {
     "data": {
      "image/png": "[encoded data removed]",
      "text/plain": [
       "<matplotlib.figure.Figure at 0x1bd4ba84be0>"
      ]
     },
     "metadata": {},
     "output_type": "display_data"
    }
   ],
   "source": [
    "X_km =  km.fit_transform(X_norm)\n",
    "\n",
    "plt.figure()\n",
    "    # colors = [\"#1f77b4\", \"#ff7f0e\", \"#2ca02c\", \"#d62728\", \"#9467bd\",\n",
    "    #           \"#8c564b\", \"#e377c2\", \"#7f7f7f\", \"#bcbd22\", \"#17becf\"]\n",
    "colors = ['green', 'red', 'darkorange']\n",
    "lw = 2\n",
    "\n",
    "for color, i, target_name in zip(colors, [1, 2, 3], target_names):\n",
    "    plt.scatter(X_km[y == i, 0],X_km[y == i, 1], color=color, alpha=.8, lw=lw,\n",
    "                    label=target_name)\n",
    "plt.legend(loc='best', shadow=False, scatterpoints=1)\n",
    "plt.title('KMeans for Wine dataset')\n",
    "plt.show()"
   ]
  },
  {
   "cell_type": "code",
   "execution_count": 69,
   "metadata": {},
   "outputs": [
    {
     "name": "stdout",
     "output_type": "stream",
     "text": [
      "K\t\ttime\tinertia\thomo\tcompl\tv-meas\tARI\tAMI\tsilhouette\n",
      "2        \t0.04s\t12\t0.004\t0.006\t0.005\t-0.005\t-0.001\t0.062\n",
      "3        \t0.04s\t11\t0.929\t0.926\t0.928\t0.947\t0.925\t0.082\n",
      "4        \t0.03s\t10\t0.788\t0.623\t0.696\t0.625\t0.618\t0.072\n",
      "5        \t0.03s\t10\t0.758\t0.524\t0.620\t0.540\t0.517\t0.093\n",
      "10       \t0.03s\t8\t0.784\t0.386\t0.517\t0.318\t0.370\t0.092\n",
      "20       \t0.05s\t6\t0.826\t0.322\t0.464\t0.190\t0.291\t0.108\n",
      "30       \t0.05s\t5\t0.851\t0.287\t0.429\t0.122\t0.241\t0.110\n",
      "40       \t0.06s\t4\t0.820\t0.256\t0.391\t0.084\t0.195\t0.112\n",
      "50       \t0.07s\t3\t0.871\t0.253\t0.392\t0.066\t0.180\t0.111\n",
      "60       \t0.09s\t2\t0.868\t0.242\t0.378\t0.055\t0.156\t0.106\n",
      "70       \t0.09s\t2\t0.927\t0.248\t0.391\t0.049\t0.150\t0.102\n",
      "80       \t0.09s\t2\t0.923\t0.239\t0.379\t0.040\t0.129\t0.106\n"
     ]
    }
   ],
   "source": [
    "# Clustering exp with ICA + Kmeans\n",
    "clustering(data=X_ICA, labels=y)"
   ]
  },
  {
   "cell_type": "code",
   "execution_count": 70,
   "metadata": {},
   "outputs": [
    {
     "data": {
      "image/png": "[encoded data removed]",
      "text/plain": [
       "<matplotlib.figure.Figure at 0x1bd4ba07a58>"
      ]
     },
     "metadata": {},
     "output_type": "display_data"
    }
   ],
   "source": [
    "X_ica_km =  km.fit_transform(X_ICA)\n",
    "\n",
    "plt.figure()\n",
    "    # colors = [\"#1f77b4\", \"#ff7f0e\", \"#2ca02c\", \"#d62728\", \"#9467bd\",\n",
    "    #           \"#8c564b\", \"#e377c2\", \"#7f7f7f\", \"#bcbd22\", \"#17becf\"]\n",
    "colors = ['green', 'red', 'darkorange']\n",
    "lw = 2\n",
    "\n",
    "for color, i, target_name in zip(colors, [1, 2, 3], target_names):\n",
    "    plt.scatter(X_ica_km[y == i, 0], X_ica_km[y == i, 1], color=color, alpha=.8, lw=lw,\n",
    "                    label=target_name)\n",
    "plt.legend(loc='best', shadow=False, scatterpoints=1)\n",
    "plt.title('KMeans after ICA for Wine dataset')\n",
    "plt.show()"
   ]
  },
  {
   "cell_type": "code",
   "execution_count": 71,
   "metadata": {},
   "outputs": [
    {
     "name": "stdout",
     "output_type": "stream",
     "text": [
      "K\t\ttime\tinertia\thomo\tcompl\tv-meas\tARI\tAMI\tsilhouette\n",
      "2        \t0.10s\t1763\t0.273\t0.428\t0.333\t0.365\t0.269\t0.223\n",
      "3        \t0.03s\t1416\t0.807\t0.803\t0.805\t0.849\t0.801\t0.261\n",
      "4        \t0.03s\t1252\t0.771\t0.615\t0.684\t0.671\t0.610\t0.244\n",
      "5        \t0.03s\t1149\t0.790\t0.564\t0.658\t0.648\t0.557\t0.244\n",
      "10       \t0.03s\t848\t0.814\t0.407\t0.543\t0.351\t0.392\t0.169\n",
      "20       \t0.04s\t582\t0.840\t0.331\t0.475\t0.210\t0.300\t0.174\n",
      "30       \t0.04s\t453\t0.884\t0.301\t0.449\t0.140\t0.256\t0.152\n",
      "40       \t0.06s\t370\t0.935\t0.290\t0.442\t0.104\t0.232\t0.145\n",
      "50       \t0.07s\t305\t0.948\t0.277\t0.429\t0.079\t0.207\t0.134\n",
      "60       \t0.08s\t248\t0.951\t0.263\t0.412\t0.059\t0.180\t0.132\n",
      "70       \t0.11s\t206\t0.955\t0.255\t0.403\t0.051\t0.159\t0.120\n",
      "80       \t0.11s\t174\t0.961\t0.248\t0.394\t0.041\t0.139\t0.112\n"
     ]
    }
   ],
   "source": [
    "# Clustering exp with RP + Kmeans\n",
    "clustering(data=X_RP, labels=y)"
   ]
  },
  {
   "cell_type": "code",
   "execution_count": 73,
   "metadata": {},
   "outputs": [
    {
     "data": {
      "image/png": "[encoded data removed]",
      "text/plain": [
       "<matplotlib.figure.Figure at 0x1bd4a58ceb8>"
      ]
     },
     "metadata": {},
     "output_type": "display_data"
    }
   ],
   "source": [
    "X_rp_km =  km.fit_transform(X_RP)\n",
    "\n",
    "plt.figure()\n",
    "    # colors = [\"#1f77b4\", \"#ff7f0e\", \"#2ca02c\", \"#d62728\", \"#9467bd\",\n",
    "    #           \"#8c564b\", \"#e377c2\", \"#7f7f7f\", \"#bcbd22\", \"#17becf\"]\n",
    "colors = ['green', 'red', 'darkorange']\n",
    "lw = 2\n",
    "\n",
    "for color, i, target_name in zip(colors, [1, 2, 3], target_names):\n",
    "    plt.scatter(X_rp_km[y == i, 0], X_rp_km[y == i, 1], color=color, alpha=.8, lw=lw,\n",
    "                    label=target_name)\n",
    "plt.legend(loc='best', shadow=False, scatterpoints=1)\n",
    "plt.title('KMeans after RP for Wine dataset')\n",
    "plt.show()"
   ]
  },
  {
   "cell_type": "code",
   "execution_count": 74,
   "metadata": {},
   "outputs": [
    {
     "name": "stdout",
     "output_type": "stream",
     "text": [
      "K\t\ttime\tinertia\thomo\tcompl\tv-meas\tARI\tAMI\tsilhouette\n",
      "2        \t0.02s\t766\t0.438\t0.758\t0.555\t0.433\t0.435\t0.367\n",
      "3        \t0.02s\t456\t0.824\t0.817\t0.820\t0.848\t0.815\t0.411\n",
      "4        \t0.02s\t399\t0.798\t0.655\t0.720\t0.711\t0.650\t0.347\n",
      "5        \t0.03s\t350\t0.846\t0.587\t0.693\t0.612\t0.580\t0.294\n",
      "10       \t0.03s\t249\t0.884\t0.423\t0.573\t0.307\t0.410\t0.187\n",
      "20       \t0.04s\t173\t0.905\t0.343\t0.498\t0.183\t0.314\t0.170\n",
      "30       \t0.05s\t134\t0.942\t0.315\t0.472\t0.138\t0.271\t0.175\n",
      "40       \t0.06s\t105\t0.912\t0.279\t0.428\t0.090\t0.221\t0.179\n",
      "50       \t0.07s\t83\t0.967\t0.282\t0.436\t0.081\t0.211\t0.187\n",
      "60       \t0.09s\t70\t0.937\t0.259\t0.405\t0.058\t0.174\t0.163\n",
      "70       \t0.09s\t58\t0.975\t0.259\t0.409\t0.049\t0.163\t0.148\n",
      "80       \t0.10s\t48\t0.977\t0.253\t0.402\t0.044\t0.145\t0.135\n"
     ]
    }
   ],
   "source": [
    "# Clustering exp with RF + Kmeans\n",
    "clustering(data=X_RF, labels=y)"
   ]
  },
  {
   "cell_type": "code",
   "execution_count": 75,
   "metadata": {},
   "outputs": [
    {
     "data": {
      "image/png": "[encoded data removed]",
      "text/plain": [
       "<matplotlib.figure.Figure at 0x1bd4ba845c0>"
      ]
     },
     "metadata": {},
     "output_type": "display_data"
    }
   ],
   "source": [
    "X_rf_km =  km.fit_transform(X_RF)\n",
    "\n",
    "plt.figure()\n",
    "    # colors = [\"#1f77b4\", \"#ff7f0e\", \"#2ca02c\", \"#d62728\", \"#9467bd\",\n",
    "    #           \"#8c564b\", \"#e377c2\", \"#7f7f7f\", \"#bcbd22\", \"#17becf\"]\n",
    "colors = ['green', 'red', 'darkorange']\n",
    "lw = 2\n",
    "\n",
    "for color, i, target_name in zip(colors, [1, 2, 3], target_names):\n",
    "    plt.scatter(X_rf_km[y == i, 0], X_rf_km[y == i, 1], color=color, alpha=.8, lw=lw,\n",
    "                    label=target_name)\n",
    "plt.legend(loc='best', shadow=False, scatterpoints=1)\n",
    "plt.title('KMeans after RF for Wine dataset')\n",
    "plt.show()"
   ]
  },
  {
   "cell_type": "code",
   "execution_count": 76,
   "metadata": {},
   "outputs": [
    {
     "name": "stdout",
     "output_type": "stream",
     "text": [
      "cv_type\t\tN\ttime\tBIC\tlog_like\thomo\tcompl\tv-meas\tARI\tAMI\tsilhouette\n",
      "tied\t\t2        \t0.01s\t5736\t-14\t0.456\t0.765\t0.571\t0.462\t0.453\t0.146\n",
      "tied\t\t3        \t0.01s\t5570\t-13\t0.938\t0.936\t0.937\t0.946\t0.935\t0.281\n",
      "tied\t\t4        \t0.01s\t5588\t-13\t0.951\t0.760\t0.845\t0.790\t0.757\t0.256\n",
      "tied\t\t5        \t0.01s\t5571\t-13\t0.963\t0.730\t0.830\t0.773\t0.725\t0.237\n",
      "tied\t\t10       \t0.02s\t5633\t-12\t0.964\t0.474\t0.636\t0.386\t0.461\t0.107\n",
      "tied\t\t20       \t0.04s\t5905\t-11\t0.948\t0.367\t0.529\t0.225\t0.338\t0.119\n",
      "tied\t\t30       \t0.03s\t6340\t-10\t0.917\t0.313\t0.467\t0.155\t0.269\t0.128\n",
      "tied\t\t40       \t0.03s\t6768\t-9\t0.945\t0.298\t0.453\t0.118\t0.240\t0.127\n",
      "tied\t\t50       \t0.04s\t7158\t-8\t0.974\t0.286\t0.442\t0.084\t0.216\t0.112\n",
      "tied\t\t60       \t0.02s\t7469\t-7\t0.988\t0.277\t0.433\t0.072\t0.195\t0.120\n",
      "tied\t\t70       \t0.02s\t7991\t-6\t0.983\t0.264\t0.416\t0.056\t0.169\t0.103\n",
      "tied\t\t80       \t0.04s\t8239\t-5\t0.988\t0.257\t0.407\t0.047\t0.150\t0.113\n"
     ]
    }
   ],
   "source": [
    "# Run GMM using data transformed by PCA, ICA, RP, and RF\n",
    "gmm(n_range1, cv_types1, X_pca, y)"
   ]
  },
  {
   "cell_type": "code",
   "execution_count": 80,
   "metadata": {},
   "outputs": [
    {
     "name": "stdout",
     "output_type": "stream",
     "text": [
      "[2 2 2 2 2 2 2 2 2 2 2 2 2 2 2 2 2 2 2 2 2 2 2 2 2 2 2 2 2 2 2 2 2 2 2 2 2\n",
      " 2 2 2 2 2 2 2 2 2 2 2 2 2 2 2 2 2 2 2 2 2 2 1 1 1 1 1 1 1 1 1 1 2 1 1 1 2\n",
      " 1 1 1 1 2 1 1 1 1 1 1 1 1 1 1 1 1 1 1 1 1 2 0 1 1 1 1 1 1 1 1 1 1 1 1 1 1\n",
      " 1 1 1 1 1 1 1 1 1 1 1 1 1 1 1 1 1 1 1 0 0 0 0 0 0 0 0 0 0 0 0 0 0 0 0 0 0\n",
      " 0 0 0 0 0 0 0 0 0 0 0 0 0 0 0 0 0 0 0 0 0 0 0 0 0 0 0 0 0 0]\n"
     ]
    }
   ],
   "source": [
    "gmm_2 = GaussianMixture(n_components=3, covariance_type='tied', random_state=0)\n",
    "gmm_2.fit(X_pca)\n",
    "X_pca_gmm =  gmm_2.predict_proba(X_pca)\n",
    "X_pca_gmm_labels = gmm_2.predict(X_pca)\n",
    "print(X_pca_gmm_labels)"
   ]
  },
  {
   "cell_type": "code",
   "execution_count": 82,
   "metadata": {},
   "outputs": [
    {
     "ename": "ImportError",
     "evalue": "No module named 'colormaps'",
     "output_type": "error",
     "traceback": [
      "\u001b[1;31m---------------------------------------------------------------------------\u001b[0m",
      "\u001b[1;31mImportError\u001b[0m                               Traceback (most recent call last)",
      "\u001b[1;32m<ipython-input-82-da709e09927b>\u001b[0m in \u001b[0;36m<module>\u001b[1;34m()\u001b[0m\n\u001b[1;32m----> 1\u001b[1;33m \u001b[1;32mimport\u001b[0m \u001b[0mcolormaps\u001b[0m \u001b[1;32mas\u001b[0m \u001b[0mcmaps\u001b[0m\u001b[1;33m\u001b[0m\u001b[0m\n\u001b[0m\u001b[0;32m      2\u001b[0m \u001b[0mplt\u001b[0m\u001b[1;33m.\u001b[0m\u001b[0mfigure\u001b[0m\u001b[1;33m(\u001b[0m\u001b[1;33m)\u001b[0m\u001b[1;33m\u001b[0m\u001b[0m\n\u001b[0;32m      3\u001b[0m     \u001b[1;31m# colors = [\"#1f77b4\", \"#ff7f0e\", \"#2ca02c\", \"#d62728\", \"#9467bd\",\u001b[0m\u001b[1;33m\u001b[0m\u001b[1;33m\u001b[0m\u001b[0m\n\u001b[0;32m      4\u001b[0m     \u001b[1;31m#           \"#8c564b\", \"#e377c2\", \"#7f7f7f\", \"#bcbd22\", \"#17becf\"]\u001b[0m\u001b[1;33m\u001b[0m\u001b[1;33m\u001b[0m\u001b[0m\n\u001b[0;32m      5\u001b[0m \u001b[0mcolors\u001b[0m \u001b[1;33m=\u001b[0m \u001b[1;33m[\u001b[0m\u001b[1;34m'green'\u001b[0m\u001b[1;33m,\u001b[0m \u001b[1;34m'red'\u001b[0m\u001b[1;33m,\u001b[0m \u001b[1;34m'darkorange'\u001b[0m\u001b[1;33m]\u001b[0m\u001b[1;33m\u001b[0m\u001b[0m\n",
      "\u001b[1;31mImportError\u001b[0m: No module named 'colormaps'"
     ]
    }
   ],
   "source": [
    "import colormaps as cmaps\n",
    "plt.figure()\n",
    "    # colors = [\"#1f77b4\", \"#ff7f0e\", \"#2ca02c\", \"#d62728\", \"#9467bd\",\n",
    "    #           \"#8c564b\", \"#e377c2\", \"#7f7f7f\", \"#bcbd22\", \"#17becf\"]\n",
    "colors = ['green', 'red', 'darkorange']\n",
    "lw = 2\n",
    "\n",
    "for color, i, target_name in zip(colors, [1, 2, 3], target_names):\n",
    "    plt.scatter(X_norm[y == i, 0], X_norm[y == i, 1], c=X_pca_gmm_labels, s=40, cmap='viridis', alpha=.8, lw=lw,\n",
    "                    label=target_name)\n",
    "plt.legend(loc='best', shadow=False, scatterpoints=1)\n",
    "plt.title('GMM after PCA for Wine dataset')\n",
    "plt.show()"
   ]
  },
  {
   "cell_type": "code",
   "execution_count": 83,
   "metadata": {},
   "outputs": [
    {
     "name": "stdout",
     "output_type": "stream",
     "text": [
      "cv_type\t\tN\ttime\tBIC\tlog_like\thomo\tcompl\tv-meas\tARI\tAMI\tsilhouette\n",
      "tied\t\t2        \t0.01s\t-4826\t15\t0.011\t0.018\t0.014\t0.004\t0.006\t0.055\n",
      "tied\t\t3        \t0.01s\t-5057\t16\t0.947\t0.948\t0.947\t0.965\t0.946\t0.080\n",
      "tied\t\t4        \t0.03s\t-5070\t16\t0.975\t0.778\t0.866\t0.799\t0.776\t0.092\n",
      "tied\t\t5        \t0.02s\t-4993\t16\t0.582\t0.454\t0.510\t0.391\t0.445\t0.090\n",
      "tied\t\t10       \t0.03s\t-5013\t17\t0.942\t0.485\t0.640\t0.419\t0.471\t0.093\n",
      "tied\t\t20       \t0.03s\t-4714\t18\t0.980\t0.385\t0.553\t0.245\t0.356\t0.102\n",
      "tied\t\t30       \t0.03s\t-4314\t19\t0.947\t0.318\t0.476\t0.141\t0.274\t0.106\n",
      "tied\t\t40       \t0.07s\t-3947\t20\t0.978\t0.303\t0.463\t0.108\t0.246\t0.103\n",
      "tied\t\t50       \t0.02s\t-3452\t21\t0.917\t0.268\t0.415\t0.077\t0.196\t0.111\n",
      "tied\t\t60       \t0.04s\t-2976\t21\t0.909\t0.255\t0.398\t0.061\t0.170\t0.106\n",
      "tied\t\t70       \t0.03s\t-2633\t22\t0.959\t0.258\t0.406\t0.054\t0.162\t0.105\n",
      "tied\t\t80       \t0.04s\t-2305\t24\t0.964\t0.249\t0.396\t0.043\t0.140\t0.104\n"
     ]
    }
   ],
   "source": [
    "gmm(n_range1, cv_types1, X_ICA, y)"
   ]
  },
  {
   "cell_type": "code",
   "execution_count": 84,
   "metadata": {},
   "outputs": [
    {
     "name": "stdout",
     "output_type": "stream",
     "text": [
      "cv_type\t\tN\ttime\tBIC\tlog_like\thomo\tcompl\tv-meas\tARI\tAMI\tsilhouette\n",
      "tied\t\t2        \t0.01s\t3656\t-8\t0.453\t0.720\t0.556\t0.543\t0.450\t0.205\n",
      "tied\t\t3        \t0.01s\t3471\t-7\t0.954\t0.953\t0.954\t0.964\t0.952\t0.254\n",
      "tied\t\t4        \t0.02s\t3456\t-7\t0.936\t0.793\t0.858\t0.846\t0.790\t0.255\n",
      "tied\t\t5        \t0.02s\t3480\t-7\t0.978\t0.782\t0.869\t0.860\t0.778\t0.259\n",
      "tied\t\t10       \t0.02s\t3483\t-6\t0.932\t0.491\t0.643\t0.451\t0.477\t0.108\n",
      "tied\t\t20       \t0.02s\t3859\t-5\t0.926\t0.372\t0.531\t0.265\t0.342\t0.116\n",
      "tied\t\t30       \t0.03s\t4312\t-4\t0.941\t0.319\t0.476\t0.147\t0.275\t0.114\n",
      "tied\t\t40       \t0.03s\t4687\t-3\t0.929\t0.294\t0.446\t0.115\t0.236\t0.103\n",
      "tied\t\t50       \t0.02s\t5256\t-3\t0.929\t0.272\t0.421\t0.079\t0.201\t0.129\n",
      "tied\t\t60       \t0.05s\t5599\t-2\t0.981\t0.275\t0.430\t0.070\t0.193\t0.129\n",
      "tied\t\t70       \t0.03s\t6060\t-1\t0.955\t0.255\t0.402\t0.050\t0.159\t0.113\n",
      "tied\t\t80       \t0.04s\t6455\t0\t0.947\t0.245\t0.389\t0.043\t0.136\t0.094\n"
     ]
    }
   ],
   "source": [
    "gmm(n_range1, cv_types1, X_RP, y)"
   ]
  },
  {
   "cell_type": "code",
   "execution_count": 85,
   "metadata": {},
   "outputs": [
    {
     "name": "stdout",
     "output_type": "stream",
     "text": [
      "cv_type\t\tN\ttime\tBIC\tlog_like\thomo\tcompl\tv-meas\tARI\tAMI\tsilhouette\n",
      "tied\t\t2        \t0.01s\t2791\t-7\t0.489\t0.847\t0.620\t0.511\t0.486\t0.327\n",
      "tied\t\t3        \t0.01s\t2675\t-6\t0.811\t0.804\t0.808\t0.835\t0.802\t0.394\n",
      "tied\t\t4        \t0.01s\t2673\t-6\t0.878\t0.708\t0.784\t0.750\t0.704\t0.336\n",
      "tied\t\t5        \t0.01s\t2629\t-6\t0.852\t0.607\t0.709\t0.658\t0.601\t0.249\n",
      "tied\t\t10       \t0.02s\t2690\t-6\t0.919\t0.448\t0.602\t0.359\t0.434\t0.210\n",
      "tied\t\t20       \t0.02s\t2903\t-5\t0.913\t0.343\t0.499\t0.187\t0.314\t0.168\n",
      "tied\t\t30       \t0.02s\t3095\t-4\t0.953\t0.322\t0.482\t0.151\t0.279\t0.176\n",
      "tied\t\t40       \t0.03s\t3383\t-4\t0.966\t0.298\t0.456\t0.102\t0.241\t0.168\n",
      "tied\t\t50       \t0.03s\t3586\t-3\t0.935\t0.272\t0.422\t0.079\t0.201\t0.156\n",
      "tied\t\t60       \t0.04s\t3834\t-3\t0.981\t0.272\t0.426\t0.067\t0.189\t0.159\n",
      "tied\t\t70       \t0.03s\t4064\t-2\t0.963\t0.257\t0.406\t0.051\t0.162\t0.145\n",
      "tied\t\t80       \t0.03s\t4375\t-2\t0.976\t0.253\t0.401\t0.045\t0.145\t0.129\n"
     ]
    }
   ],
   "source": [
    "gmm(n_range1, cv_types1, X_RF, y)"
   ]
  },
  {
   "cell_type": "code",
   "execution_count": null,
   "metadata": {
    "collapsed": true
   },
   "outputs": [],
   "source": []
  }
 ],
 "metadata": {
  "kernelspec": {
   "display_name": "Python 3",
   "language": "python",
   "name": "python3"
  },
  "language_info": {
   "codemirror_mode": {
    "name": "ipython",
    "version": 3
   },
   "file_extension": ".py",
   "mimetype": "text/x-python",
   "name": "python",
   "nbconvert_exporter": "python",
   "pygments_lexer": "ipython3",
   "version": "3.5.3"
  }
 },
 "nbformat": 4,
 "nbformat_minor": 2
}
